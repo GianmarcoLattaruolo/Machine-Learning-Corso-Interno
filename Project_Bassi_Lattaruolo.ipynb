{
  "cells": [
    {
      "cell_type": "markdown",
      "metadata": {
        "id": "VP4IOS4o4Ogg"
      },
      "source": [
        "# Preprocessing the data"
      ]
    },
    {
      "cell_type": "markdown",
      "metadata": {
        "id": "miRsH6QQ4Scy"
      },
      "source": [
        "Function for loading the Dataset."
      ]
    },
    {
      "cell_type": "code",
      "execution_count": 1,
      "metadata": {
        "id": "490C2OoPs4PX"
      },
      "outputs": [],
      "source": [
        "import numpy as np\n",
        "from urllib.request import urlopen\n",
        "\n",
        "def load_fashion_mnist():\n",
        "\n",
        "    url_base = \"https://www.math.unipd.it/~dasan/\"\n",
        "    Y_train = np.frombuffer(urlopen(url_base + \"train-labels-idx1-ubyte\").read(), dtype=np.uint8, offset=8)\n",
        "    X_train = np.frombuffer(urlopen(url_base + \"train-images-idx3-ubyte\").read(), dtype=np.uint8, offset=16).reshape(len(Y_train), 784) \n",
        "                                                                                            \n",
        "    Y_test = np.frombuffer(urlopen(url_base + \"t10k-labels-idx1-ubyte\").read(), dtype=np.uint8, offset=8)\n",
        "    X_test = np.frombuffer(urlopen(url_base + \"t10k-images-idx3-ubyte\").read(), dtype=np.uint8, offset=16).reshape(len(Y_test), 784)\n",
        "\n",
        "    return X_train, Y_train, X_test, Y_test\n",
        "\n",
        "X_train_val, Y_train_val, X_test, Y_test = load_fashion_mnist()\n"
      ]
    },
    {
      "cell_type": "markdown",
      "metadata": {
        "id": "8d14srm8Vh-b"
      },
      "source": [
        "First of all let's have a look of the data. The images are already in grey-scale since every pixel has just one number."
      ]
    },
    {
      "cell_type": "code",
      "execution_count": 2,
      "metadata": {
        "colab": {
          "base_uri": "https://localhost:8080/",
          "height": 326
        },
        "id": "CPzMfoAKxhxQ",
        "outputId": "caf31a5b-1897-435b-88fe-57a06d5a43f5"
      },
      "outputs": [
        {
          "name": "stdout",
          "output_type": "stream",
          "text": [
            "(60000, 784) (60000,) (10000, 784) (10000,)\n",
            "Min: 0\n",
            "Max: 255\n",
            "Mean: 97.25383\n",
            "Min: 0\n",
            "Max: 255\n",
            "Mean: 88.72704\n",
            "Counter({9: 6000, 0: 6000, 3: 6000, 2: 6000, 7: 6000, 5: 6000, 1: 6000, 6: 6000, 4: 6000, 8: 6000})\n"
          ]
        },
        {
          "data": {
            "image/png": "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",
            "text/plain": [
              "<Figure size 2160x648 with 10 Axes>"
            ]
          },
          "metadata": {
            "needs_background": "light"
          },
          "output_type": "display_data"
        }
      ],
      "source": [
        "import matplotlib.pyplot as plt \n",
        "from collections import Counter\n",
        "\n",
        "print(X_train_val.shape, Y_train_val.shape, X_test.shape, Y_test.shape) #shape of the data\n",
        "#value of the data\n",
        "print(f\"Min: {X_train_val[0].min()}\")\n",
        "print(f\"Max: {X_train_val[0].max()}\")\n",
        "print(f\"Mean: {X_train_val[0].mean():.5f}\")\n",
        "print(f\"Min: {X_train_val[10].min()}\")\n",
        "print(f\"Max: {X_train_val[10].max()}\")\n",
        "print(f\"Mean: {X_train_val[10].mean():.5f}\")\n",
        "#grayscale goes from 0 to 255\n",
        "\n",
        "#what are our images\n",
        "labels_name={\n",
        "    0:'T-shirt/top',\n",
        "    1:'Trouser',\n",
        "    2:'Pullover',\n",
        "    3:'Dress',\n",
        "    4:'Coat',\n",
        "    5:'Sandal',\n",
        "    6:'Shirt',\n",
        "    7:'Sneaker',\n",
        "    8:'Bag',\n",
        "    9:'Ankle boot'\n",
        "}\n",
        "\n",
        "print(Counter(Y_train_val)) #classes are perfectly balanced\n",
        "\n",
        "_, axes = plt.subplots(nrows=1, ncols=10, figsize=(30, 9)) #data displayed\n",
        "for ax, x, label in zip(axes,X_train_val[0:10], Y_train_val[0:10]):\n",
        "  ax.set_axis_off()\n",
        "  X_image=x.reshape(28,28)\n",
        "  ax.imshow(X_image, cmap=plt.cm.gray_r, interpolation=\"nearest\")\n",
        "  ax.set_title(\"Training: %s\" % labels_name[label])"
      ]
    },
    {
      "cell_type": "markdown",
      "metadata": {
        "id": "rPTAfJLUmxdk"
      },
      "source": [
        "Data are perfectly balanced, so far as I know I won't need Under or Over Sampling methods.\n",
        "\n",
        "I build the validation and the training set."
      ]
    },
    {
      "cell_type": "code",
      "execution_count": 3,
      "metadata": {
        "colab": {
          "base_uri": "https://localhost:8080/"
        },
        "id": "orWFcy3TnNVB",
        "outputId": "3e43041e-8754-47e6-eab9-acc584059464"
      },
      "outputs": [
        {
          "name": "stdout",
          "output_type": "stream",
          "text": [
            "(54000, 784) (54000,) (6000, 784) (6000,)\n",
            "Counter({7: 5445, 6: 5435, 1: 5416, 5: 5409, 2: 5398, 3: 5395, 8: 5384, 9: 5381, 0: 5370, 4: 5367})\n"
          ]
        }
      ],
      "source": [
        "from sklearn.model_selection import train_test_split\n",
        "# we prefer a small validation set since dataset is quite big\n",
        "X_train, X_val, y_train, y_val = train_test_split(X_train_val, Y_train_val, test_size=0.1, shuffle=False)\n",
        "print(X_train.shape, y_train.shape, X_val.shape, y_val.shape)\n",
        "print(Counter(y_train))\n",
        "#data are still balanced"
      ]
    },
    {
      "cell_type": "markdown",
      "metadata": {
        "id": "xf7RK0271OBR"
      },
      "source": [
        "Now we build a data set with a smaller size to easly implement grid search for our classifiers."
      ]
    },
    {
      "cell_type": "code",
      "execution_count": 4,
      "metadata": {
        "id": "Fs0J3JDd1dPI"
      },
      "outputs": [],
      "source": [
        "from sklearn.preprocessing import MinMaxScaler\n",
        "from sklearn.preprocessing import StandardScaler\n",
        "\n",
        "#training and validation sets rescaled in 0-1 values \n",
        "minmax_scal=MinMaxScaler().fit(X_train_val)\n",
        "X_train_mm=minmax_scal.transform(X_train)\n",
        "X_val_mm=minmax_scal.transform(X_val)\n",
        "# this means X_train_mm=X_train/255\n",
        "\n",
        "#training and validation sets rescaled with 0 mean 1 std\n",
        "stand_scal=StandardScaler().fit(X_train_val)\n",
        "X_train_ss=stand_scal.transform(X_train)\n",
        "X_val_ss=stand_scal.transform(X_val)\n"
      ]
    },
    {
      "cell_type": "code",
      "execution_count": 5,
      "metadata": {
        "colab": {
          "base_uri": "https://localhost:8080/"
        },
        "id": "XkYpGvNnxjm7",
        "outputId": "53d0457c-5108-4f6e-a1bb-c26fef1ca776"
      },
      "outputs": [
        {
          "name": "stdout",
          "output_type": "stream",
          "text": [
            "(5400, 784) (5400,) (600, 784) (600,)\n",
            "Counter({0: 570, 9: 564, 4: 562, 3: 553, 8: 550, 2: 535, 5: 532, 1: 520, 6: 516, 7: 498})\n"
          ]
        }
      ],
      "source": [
        "#smaller data sets\n",
        "X_train_small, X_val_small, y_train_small, y_val_small = train_test_split(X_val, y_val, test_size=0.1, shuffle=False)\n",
        "print(X_train_small.shape, y_train_small.shape, X_val_small.shape, y_val_small.shape)\n",
        "print(Counter(y_train_small))\n",
        "\n",
        "#data more or less balanced"
      ]
    },
    {
      "cell_type": "markdown",
      "metadata": {
        "id": "D7mlYNbt5CNd"
      },
      "source": [
        "Let's start to implement the classifiers.\n",
        "\n",
        "For this classification task there's no reason to prefer a false positive to a false negative. We evaluate the performance of all the classifier by the accuracy on the validation set prediction.\n",
        "The best accuracy score on validation set for classifier is reported in the title of each paragraph."
      ]
    },
    {
      "cell_type": "markdown",
      "metadata": {
        "id": "4WBI374lu333"
      },
      "source": [
        "# 3) Support Vector Machine. (0.89350)\n",
        "\n",
        "SVM can run only with small data set, training on the all data takes 3 minutes and make a prediction on the training set takes 14 minutes. For this reason we prefer to avoid to make a prediction for the training set, computing the accuracy score only for the validation set. (Uncomment the cell of the training set to see its accuracy score)"
      ]
    },
    {
      "cell_type": "code",
      "execution_count": 6,
      "metadata": {
        "colab": {
          "base_uri": "https://localhost:8080/"
        },
        "id": "d6UGSqg5vDLe",
        "outputId": "1e5606aa-dd83-4e9d-f8f6-8e260bae1ff3"
      },
      "outputs": [
        {
          "name": "stdout",
          "output_type": "stream",
          "text": [
            "Fitting 5 folds for each of 6 candidates, totalling 30 fits\n",
            "{'C': 100, 'kernel': 'rbf'}\n",
            "0.8585185185185186\n"
          ]
        }
      ],
      "source": [
        "from sklearn.metrics import accuracy_score\n",
        "from sklearn.model_selection import GridSearchCV\n",
        "from sklearn import svm\n",
        "\n",
        "#parameters\n",
        "svc_grid_params = {\n",
        "    'C': ( 1, 10, 100),\n",
        "    'kernel': ('rbf', 'linear'),\n",
        "}\n",
        "\n",
        "#grid search object\n",
        "model = svm.SVC(random_state = 123)\n",
        "clf_4 = GridSearchCV(estimator = model,\n",
        "                     param_grid = svc_grid_params, \n",
        "                     scoring='accuracy',\n",
        "                     n_jobs= -1, cv = 5, verbose = 1)\n",
        "\n",
        "#training \n",
        "clf_4.fit(X_train_small,y_train_small)\n",
        "\n",
        "\n",
        "print(clf_4.best_params_)\n",
        "print(clf_4.best_score_)\n",
        "\n",
        "#expected output:\n",
        "#Fitting 5 folds for each of 6 candidates, totalling 30 fits\n",
        "#{'C': 100, 'kernel': 'rbf'}\n",
        "#0.8585185185185186"
      ]
    },
    {
      "cell_type": "code",
      "execution_count": 7,
      "metadata": {
        "colab": {
          "base_uri": "https://localhost:8080/"
        },
        "id": "J9M_CvSMvOto",
        "outputId": "1cfe97e8-acd4-4fbf-8301-5d12175a3eb0"
      },
      "outputs": [
        {
          "name": "stdout",
          "output_type": "stream",
          "text": [
            "accuracy score SVM on validation set: \t0.89183\n"
          ]
        }
      ],
      "source": [
        "#model definition with best parameters\n",
        "clf_svm=svm.SVC(random_state = 123,\n",
        "                kernel = 'rbf',\n",
        "                C=100)\n",
        "\n",
        "#training \n",
        "clf_svm.fit(X_train,y_train)\n",
        "\n",
        "#make a prediction for the validation set\n",
        "y_pred_svm_val=clf_svm.predict(X_val) \n",
        "print(f\"accuracy score SVM on validation set: \\t{accuracy_score(y_val,y_pred_svm_val):.5f}\")\n",
        "\n",
        "#expected output:\n",
        "#accuracy score SVM on validation set: \t0.89183"
      ]
    },
    {
      "cell_type": "code",
      "execution_count": null,
      "metadata": {
        "colab": {
          "base_uri": "https://localhost:8080/",
          "height": 36
        },
        "id": "9HD9YD5x7JO7",
        "outputId": "2419d347-f45f-4f78-e193-2ca7c25215b2"
      },
      "outputs": [
        {
          "data": {
            "application/vnd.google.colaboratory.intrinsic+json": {
              "type": "string"
            },
            "text/plain": [
              "'\\ny_pred_svm_train=clf_svm.predict(X_train) \\nprint(f\"accuracy score SVM on trainin set: \\t{accuracy_score(y_train,y_pred_svm_train):.5f}\")\\n'"
            ]
          },
          "execution_count": 27,
          "metadata": {},
          "output_type": "execute_result"
        }
      ],
      "source": [
        "\"\"\"\n",
        "y_pred_svm_train=clf_svm.predict(X_train) \n",
        "print(f\"accuracy score SVM on trainin set: \\t{accuracy_score(y_train,y_pred_svm_train):.5f}\")\n",
        "\"\"\"\n",
        "\n",
        "#expected output\n",
        "#accuracy score SVM on trainin set: \t0.99969"
      ]
    },
    {
      "cell_type": "markdown",
      "metadata": {
        "id": "2Dnzhz-uyto7"
      },
      "source": [
        "# 4) Artificial Neural Network. (0.89417)\n",
        "\n",
        "In Keras documentation we can read that \"images need to be read and decoded into integer tensors, then converted to floating point and normalized to small values (usually between 0 and 1)\".\n",
        "\n",
        "For this reason in the ANN implementation we use data preprocessed by Standard Scaler.\n",
        "\n",
        "First of all I implement a function that allows me to make e grid search for the optimal parameters."
      ]
    },
    {
      "cell_type": "code",
      "execution_count": 11,
      "metadata": {
        "id": "ThIn_s6FjFn1"
      },
      "outputs": [
        {
          "ename": "ModuleNotFoundError",
          "evalue": "No module named 'tensorflow'",
          "output_type": "error",
          "traceback": [
            "\u001b[1;31m---------------------------------------------------------------------------\u001b[0m",
            "\u001b[1;31mModuleNotFoundError\u001b[0m                       Traceback (most recent call last)",
            "\u001b[1;32mc:\\Users\\latta\\Documents\\GitHub\\Machine-Learning-Corso-Interno\\Project_Bassi_Lattaruolo.ipynb Cell 17\u001b[0m in \u001b[0;36m<cell line: 2>\u001b[1;34m()\u001b[0m\n\u001b[0;32m      <a href='vscode-notebook-cell:/c%3A/Users/latta/Documents/GitHub/Machine-Learning-Corso-Interno/Project_Bassi_Lattaruolo.ipynb#ch0000033?line=0'>1</a>\u001b[0m \u001b[39m#libraries I need\u001b[39;00m\n\u001b[1;32m----> <a href='vscode-notebook-cell:/c%3A/Users/latta/Documents/GitHub/Machine-Learning-Corso-Interno/Project_Bassi_Lattaruolo.ipynb#ch0000033?line=1'>2</a>\u001b[0m \u001b[39mimport\u001b[39;00m \u001b[39mtensorflow\u001b[39;00m\n\u001b[0;32m      <a href='vscode-notebook-cell:/c%3A/Users/latta/Documents/GitHub/Machine-Learning-Corso-Interno/Project_Bassi_Lattaruolo.ipynb#ch0000033?line=2'>3</a>\u001b[0m \u001b[39mimport\u001b[39;00m \u001b[39mnumpy\u001b[39;00m \u001b[39mas\u001b[39;00m \u001b[39mnp\u001b[39;00m\n\u001b[0;32m      <a href='vscode-notebook-cell:/c%3A/Users/latta/Documents/GitHub/Machine-Learning-Corso-Interno/Project_Bassi_Lattaruolo.ipynb#ch0000033?line=3'>4</a>\u001b[0m \u001b[39mimport\u001b[39;00m \u001b[39mtensorflow\u001b[39;00m \n",
            "\u001b[1;31mModuleNotFoundError\u001b[0m: No module named 'tensorflow'"
          ]
        }
      ],
      "source": [
        "#libraries I need\n",
        "import tensorflow\n",
        "import numpy as np\n",
        "import tensorflow \n",
        "from tensorflow.keras.models import Sequential \n",
        "from tensorflow.keras.layers import Input, Dense \n",
        "from tensorflow.keras.utils import to_categorical \n",
        "from keras.utils.vis_utils import plot_model\n",
        "from tensorflow.python.framework.random_seed import set_random_seed\n",
        "from keras.callbacks import EarlyStopping\n",
        "from sklearn.metrics import accuracy_score"
      ]
    },
    {
      "cell_type": "code",
      "execution_count": null,
      "metadata": {
        "id": "Pj247o8AibM5"
      },
      "outputs": [],
      "source": [
        "#function for define and train more NN\n",
        "def MLP(X,y,vector_units,n_epochs,stop,n_patience):\n",
        "    #X already scaled\n",
        "    #y not transformed by to_categorical\n",
        "    \n",
        "    #processing data\n",
        "    features=np.shape(X)[1] #the input size\n",
        "    num_classes=len(set(y))\n",
        "    np.random.seed(123)\n",
        "    set_random_seed(2)\n",
        "\n",
        "    model=Sequential()\n",
        "    n_layers=len(vector_units) #we consider only the hidden layer\n",
        "    if n_layers==0:\n",
        "      model.add(Dense(input_dim=features, \n",
        "                      units = num_classes, \n",
        "                      activation= 'softmax'))\n",
        "    else:\n",
        "      for i in range(n_layers):\n",
        "        if i==0:\n",
        "          model.add(Dense(input_dim=features,\n",
        "                          units=vector_units[0],\n",
        "                          activation='relu'))\n",
        "        else: \n",
        "          model.add(Dense(units=vector_units[i],\n",
        "                          activation='relu'))\n",
        "      model.add(Dense(units = num_classes, \n",
        "                      activation= 'softmax'))\n",
        "    \n",
        "    #configure the model\n",
        "    model.compile(loss='categorical_crossentropy', \n",
        "                optimizer='sgd', \n",
        "                metrics=['accuracy']) \n",
        "    \n",
        "    #EarlyStopping\n",
        "    if stop=='True':\n",
        "      stop_er=EarlyStopping(monitor='val_loss', #quantity to be monitored\n",
        "                    mode='min', #we look for decreasing patterns stop \n",
        "                    patience = n_patience, #number of epochs with no improvements\n",
        "                    verbose=1)\n",
        "    else:\n",
        "      stop_er=None\n",
        "    #training\n",
        "    y=to_categorical(y,num_classes)\n",
        "    train=model.fit(X,y,epochs=n_epochs,\n",
        "                    batch_size=32, \n",
        "                    verbose=0,\n",
        "                    validation_split=0.1,\n",
        "                    callbacks=stop_er)\n",
        "    \n",
        "    return model,train"
      ]
    },
    {
      "cell_type": "markdown",
      "metadata": {
        "id": "G9rfA3d4PDke"
      },
      "source": [
        "I create two smaller data sets of scaled data and the one-hot encoding of the labels."
      ]
    },
    {
      "cell_type": "code",
      "execution_count": null,
      "metadata": {
        "id": "i5noochHlvzu"
      },
      "outputs": [],
      "source": [
        "from sklearn.preprocessing import MinMaxScaler\n",
        "from sklearn.preprocessing import StandardScaler\n",
        "\n",
        "#smaller data set for the grid search\n",
        "minmax_scal=MinMaxScaler().fit(X_train_small)\n",
        "X_train_mms=minmax_scal.transform(X_train_small) \n",
        "X_val_mms=minmax_scal.transform(X_val_small) \n",
        "\n",
        "#second smaller dataset for a comparison\n",
        "standard_scal=StandardScaler().fit(X_train_small)\n",
        "X_train_sss=standard_scal.transform(X_train_small) \n",
        "X_val_sss=standard_scal.transform(X_val_small) \n",
        "\n",
        "#one hot encoding\n",
        "y_train_cs=to_categorical(y_train_small,10)\n",
        "y_val_cs=to_categorical(y_val_small,10)\n"
      ]
    },
    {
      "cell_type": "markdown",
      "metadata": {
        "id": "87faU3Ucjzrf"
      },
      "source": [
        "Now I can train several NN to find the best parameters.\n",
        "Even though I used smaller data set this cell requires 15 or more minutes to run. Since this is actually the best model among the others it's worth it."
      ]
    },
    {
      "cell_type": "code",
      "execution_count": null,
      "metadata": {
        "colab": {
          "base_uri": "https://localhost:8080/",
          "height": 1000
        },
        "id": "IVcs72Yry8PH",
        "outputId": "d1d7604a-4768-4713-8b31-a6dd7220d107"
      },
      "outputs": [
        {
          "name": "stdout",
          "output_type": "stream",
          "text": [
            "Epoch 00032: early stopping\n",
            "0\n",
            "Epoch 00081: early stopping\n",
            "1\n",
            "2\n",
            "Epoch 00037: early stopping\n",
            "3\n",
            "Epoch 00083: early stopping\n",
            "4\n",
            "Epoch 00093: early stopping\n",
            "5\n",
            "Epoch 00032: early stopping\n",
            "6\n",
            "Epoch 00081: early stopping\n",
            "7\n",
            "Epoch 00119: early stopping\n",
            "8\n",
            "Epoch 00037: early stopping\n",
            "9\n",
            "Epoch 00083: early stopping\n",
            "10\n",
            "Epoch 00093: early stopping\n",
            "11\n",
            "\n",
            "\n",
            "\n",
            "\n",
            "Model: \"sequential_1\"\n",
            "_________________________________________________________________\n",
            " Layer (type)                Output Shape              Param #   \n",
            "=================================================================\n",
            " dense_2 (Dense)             (None, 784)               615440    \n",
            "                                                                 \n",
            " dense_3 (Dense)             (None, 10)                7850      \n",
            "                                                                 \n",
            "=================================================================\n",
            "Total params: 623,290\n",
            "Trainable params: 623,290\n",
            "Non-trainable params: 0\n",
            "_________________________________________________________________\n",
            "None\n",
            "best parameters:  [[784], 100, 15]\n"
          ]
        },
        {
          "data": {
            "image/png": "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",
            "text/plain": [
              "<Figure size 432x288 with 1 Axes>"
            ]
          },
          "metadata": {
            "needs_background": "light"
          },
          "output_type": "display_data"
        }
      ],
      "source": [
        "#parameters of the function\n",
        "\n",
        "#to avoid a 50 minutes run I put a shortes version of vector_units_list but the results is the same\n",
        "# vector_units_list=[[784],[784,10],[500,200],[784,100,50],[784,200,50,10]] #long research\n",
        "vector_units_list=[[784],[784,10]]\n",
        "n_epochs_list=[100,500]\n",
        "n_patience_list=[5,15,25]\n",
        "stop='True'\n",
        "#let save the maximum accuracy\n",
        "acc=0\n",
        "accuracy_test=[]\n",
        "i=0\n",
        "#grid-search\n",
        "for n_epochs in n_epochs_list:\n",
        "  for vector in vector_units_list:\n",
        "    for n_patience in n_patience_list:\n",
        "\n",
        "      #train a NN \n",
        "      m,t=MLP(X_train_mms,y_train_small,vector,n_epochs,stop,n_patience)\n",
        "      print(i)\n",
        "      i+=1\n",
        "      #save the greater accuracy\n",
        "      accuracy_val=m.evaluate(X_val_mms,y_val_cs,verbose=0)[1]\n",
        "      if accuracy_val>acc:\n",
        "        acc=accuracy_val\n",
        "        win=[vector,n_epochs,n_patience]\n",
        "        model=m\n",
        "        accuracy_test.append(accuracy_val)\n",
        "\n",
        "print('\\n\\n\\n')\n",
        "print(model.summary())\n",
        "print('best parameters: ',win)\n",
        "plt.plot(accuracy_test)\n",
        "plt.title(f\"accuracy growing\")\n",
        "plt.ylabel('accuracy')\n",
        "plt.xlabel('grid search')\n",
        "plt.legend(['test acc'], loc='upper left')\n",
        "plt.show()\n",
        "\n",
        "#expected output:\n",
        "# best parameters: [[784], 100, 15]"
      ]
    },
    {
      "cell_type": "markdown",
      "metadata": {
        "id": "pK_fZLjvk4DI"
      },
      "source": [
        "Now I can train on the whole batch of data one Artificial Neural Network with the best parameters found."
      ]
    },
    {
      "cell_type": "code",
      "execution_count": null,
      "metadata": {
        "colab": {
          "base_uri": "https://localhost:8080/"
        },
        "id": "R7PNQAczzMcg",
        "outputId": "e85aa369-0359-4fad-b4f1-c3f6843ede99"
      },
      "outputs": [
        {
          "name": "stdout",
          "output_type": "stream",
          "text": [
            "Model: \"sequential_12\"\n",
            "_________________________________________________________________\n",
            " Layer (type)                Output Shape              Param #   \n",
            "=================================================================\n",
            " dense_30 (Dense)            (None, 784)               615440    \n",
            "                                                                 \n",
            " dense_31 (Dense)            (None, 10)                7850      \n",
            "                                                                 \n",
            "=================================================================\n",
            "Total params: 623,290\n",
            "Trainable params: 623,290\n",
            "Non-trainable params: 0\n",
            "_________________________________________________________________\n",
            "None\n",
            "Epoch 00085: early stopping\n"
          ]
        }
      ],
      "source": [
        "#runtime= ~10 minutes\n",
        "\n",
        "#early stopping\n",
        "stop=EarlyStopping(monitor='val_loss', #quantity to be monitored\n",
        "                    mode='min', #we look for decreasing patterns stop \n",
        "                    patience = 15, #number of epochs with no improvements\n",
        "                    verbose = 1)\n",
        "#data\n",
        "features=np.shape(X_train)[1]\n",
        "num_classes=10 \n",
        "y_train_cat=to_categorical(y_train,num_classes)\n",
        "y_val_cat=to_categorical(y_val,num_classes)\n",
        "\n",
        "\n",
        "#model defining\n",
        "np.random.seed(123)\n",
        "set_random_seed=2\n",
        "\n",
        "nn=Sequential()\n",
        "nn.add(Dense(input_dim=features,\n",
        "             units=features,\n",
        "             activation='relu'))\n",
        "nn.add(Dense(num_classes,\n",
        "             activation='softmax'))\n",
        "print(nn.summary())\n",
        "\n",
        "#compiling and training\n",
        "nn.compile(loss='categorical_crossentropy',\n",
        "           optimizer='sgd',\n",
        "           metrics=['accuracy'])\n",
        "train=nn.fit(X_train_mm,y_train_cat,\n",
        "             batch_size=32,\n",
        "             verbose=0,\n",
        "             callbacks=stop,\n",
        "             epochs=100,\n",
        "             validation_split=0.1)\n"
      ]
    },
    {
      "cell_type": "code",
      "execution_count": null,
      "metadata": {
        "colab": {
          "base_uri": "https://localhost:8080/",
          "height": 332
        },
        "id": "Ptn1BME5zteU",
        "outputId": "e9ad15ee-b209-44ae-e057-49d14839e375"
      },
      "outputs": [
        {
          "data": {
            "image/png": "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",
            "text/plain": [
              "<Figure size 432x288 with 1 Axes>"
            ]
          },
          "metadata": {
            "needs_background": "light"
          },
          "output_type": "display_data"
        },
        {
          "name": "stdout",
          "output_type": "stream",
          "text": [
            "minmax\n",
            "acc on train set: 0.94652, acc on validation set:0.89350\n"
          ]
        }
      ],
      "source": [
        "#display the accuracy \n",
        "plt.plot(train.history['accuracy'])\n",
        "plt.plot(train.history['val_accuracy'])\n",
        "plt.title('model accuracy')\n",
        "plt.ylabel('accuracy')\n",
        "plt.xlabel('epoch')\n",
        "plt.legend(['train','validation split'],loc='down right',fontsize='x-large')\n",
        "plt.show()\n",
        "\n",
        "#make prediction on training and validation set\n",
        "y_pred_nn_train=nn.predict(X_train_mm).argmax(axis = 1) \n",
        "y_pred_nn_val=nn.predict(X_val_mm).argmax(axis = 1) \n",
        "print('minmax')\n",
        "print(f'acc on train set: {accuracy_score(y_train,y_pred_nn_train):.5f}, acc on validation set:{accuracy_score(y_val,y_pred_nn_val):.5f}')\n",
        "\n",
        "\n",
        "#expected output:\n",
        "#minmax\n",
        "#acc on train set: 0.94765, acc on validation set:0.89083\n"
      ]
    },
    {
      "cell_type": "markdown",
      "metadata": {
        "id": "h7vBSsFVTQAM"
      },
      "source": [
        "## What happen with Standard Scaler?\n",
        "\n",
        "Now I another ANN using the data preprocessed by the standard scaler. The accuracy score reached on the validation is a little better then the one reached before."
      ]
    },
    {
      "cell_type": "code",
      "execution_count": null,
      "metadata": {
        "colab": {
          "base_uri": "https://localhost:8080/",
          "height": 613
        },
        "id": "J8yNFvtnTVHc",
        "outputId": "e0e124c1-c74a-47d8-c922-04d647726fde"
      },
      "outputs": [
        {
          "name": "stdout",
          "output_type": "stream",
          "text": [
            "Model: \"sequential_13\"\n",
            "_________________________________________________________________\n",
            " Layer (type)                Output Shape              Param #   \n",
            "=================================================================\n",
            " dense_32 (Dense)            (None, 784)               615440    \n",
            "                                                                 \n",
            " dense_33 (Dense)            (None, 10)                7850      \n",
            "                                                                 \n",
            "=================================================================\n",
            "Total params: 623,290\n",
            "Trainable params: 623,290\n",
            "Non-trainable params: 0\n",
            "_________________________________________________________________\n",
            "None\n",
            "Epoch 00024: early stopping\n"
          ]
        },
        {
          "data": {
            "image/png": "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",
            "text/plain": [
              "<Figure size 432x288 with 1 Axes>"
            ]
          },
          "metadata": {
            "needs_background": "light"
          },
          "output_type": "display_data"
        },
        {
          "name": "stdout",
          "output_type": "stream",
          "text": [
            "Standard Scaler\n",
            "acc on train set: 0.97707, acc on validation set:0.89550\n"
          ]
        }
      ],
      "source": [
        "#early stopping\n",
        "stop=EarlyStopping(monitor='val_loss', #quantity to be monitored\n",
        "                    mode='min', #we look for decreasing patterns stop \n",
        "                    patience = 15, #number of epochs with no improvements\n",
        "                    verbose = 1)\n",
        "\n",
        "#model defining\n",
        "np.random.seed(123)\n",
        "set_random_seed=2\n",
        "\n",
        "nns=Sequential()\n",
        "nns.add(Dense(input_dim=features,\n",
        "             units=features,\n",
        "             activation='relu'))\n",
        "nns.add(Dense(num_classes,\n",
        "             activation='softmax'))\n",
        "print(nns.summary())\n",
        "\n",
        "#compiling and training\n",
        "nns.compile(loss='categorical_crossentropy',\n",
        "           optimizer='sgd',\n",
        "           metrics=['accuracy'])\n",
        "train_s=nns.fit(X_train_ss,y_train_cat,\n",
        "             batch_size=16,\n",
        "             verbose=0,\n",
        "             callbacks=stop,\n",
        "             epochs=100,\n",
        "             validation_split=0.1)\n",
        "\n",
        "\n",
        "#display the accuracy \n",
        "plt.plot(train_s.history['accuracy'])\n",
        "plt.plot(train_s.history['val_accuracy'])\n",
        "plt.title('model accuracy')\n",
        "plt.ylabel('accuracy')\n",
        "plt.xlabel('epoch')\n",
        "plt.legend(['train','validation split'],loc='down right',fontsize='x-large')\n",
        "plt.show()\n",
        "\n",
        "#make prediction on training and validation set\n",
        "y_pred_train_ss=nns.predict(X_train_ss).argmax(axis = 1) \n",
        "y_pred_val_ss=nns.predict(X_val_ss).argmax(axis = 1) \n",
        "print('Standard Scaler')\n",
        "print(f'acc on train set: {accuracy_score(y_train,y_pred_train_ss):.5f}, acc on validation set:{accuracy_score(y_val,y_pred_val_ss):.5f}')\n",
        "\n",
        "\n",
        "#expected output:\n",
        "#Standard Scaler\n",
        "#acc on train set: 0.97587, acc on validation set:0.89417"
      ]
    },
    {
      "cell_type": "markdown",
      "metadata": {
        "id": "eBt3VunKB0Gc"
      },
      "source": [
        "#5) K-Nearest Neighbors Classifier. (0.85850)\n",
        "\n",
        "I implement a K-NN algorithm for the smaller data set, searching for the optimal value of K by measuring the accuracy score."
      ]
    },
    {
      "cell_type": "code",
      "execution_count": null,
      "metadata": {
        "id": "9CY4yXu_Bzq-"
      },
      "outputs": [],
      "source": [
        "from sklearn.metrics import accuracy_score,f1_score\n",
        "from sklearn.neighbors import KNeighborsClassifier\n",
        "\n",
        "train_accuracy = []\n",
        "val_accuracy = []\n",
        "\n",
        "k_values = [2,4,6,8,10,12,14,18,22,30,40,50] \n",
        "\n",
        "for k in k_values:\n",
        "  model = KNeighborsClassifier(n_neighbors=k)\n",
        "  model.fit(X_train_small, y_train_small)\n",
        "  y_pred_train = model.predict(X_train_small)\n",
        "  y_pred_val = model.predict(X_val_small)\n",
        "  train_accuracy.append(accuracy_score(y_train_small, y_pred_train))\n",
        "  val_accuracy.append(accuracy_score(y_val_small,y_pred_val))"
      ]
    },
    {
      "cell_type": "markdown",
      "metadata": {
        "id": "T5YTiX_5XeNs"
      },
      "source": [
        "We display the accuracy scores for train and validation set to find the best K-value."
      ]
    },
    {
      "cell_type": "code",
      "execution_count": null,
      "metadata": {
        "colab": {
          "base_uri": "https://localhost:8080/",
          "height": 295
        },
        "id": "UrF9-IKnXdsH",
        "outputId": "5eb1d2e9-8e2f-4444-cc67-98c58e94168d"
      },
      "outputs": [
        {
          "data": {
            "image/png": "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",
            "text/plain": [
              "<Figure size 432x288 with 1 Axes>"
            ]
          },
          "metadata": {
            "needs_background": "light"
          },
          "output_type": "display_data"
        }
      ],
      "source": [
        "#accuracy\n",
        "\n",
        "plt.plot(k_values, train_accuracy)\n",
        "plt.plot(k_values, val_accuracy)\n",
        "plt.xlabel(\"K\")\n",
        "plt.ylabel(\"Accuracy\")  \n",
        "plt.title('Accuracy score plot')\n",
        "plt.legend(['train set','validation set'],loc='upper right',fontsize='x-large')\n",
        "plt.show()\n"
      ]
    },
    {
      "cell_type": "markdown",
      "metadata": {
        "id": "GrOQ6M0eTSf4"
      },
      "source": [
        "K=4 seem to be a little better than the other values.\n"
      ]
    },
    {
      "cell_type": "code",
      "execution_count": null,
      "metadata": {
        "colab": {
          "base_uri": "https://localhost:8080/"
        },
        "id": "yR3YDTeXQwq5",
        "outputId": "6654b0ba-7f80-43de-d995-3838db259c89"
      },
      "outputs": [
        {
          "name": "stdout",
          "output_type": "stream",
          "text": [
            "accuracy score on train:0.90702,accuracy score on validation:0.85850\n"
          ]
        }
      ],
      "source": [
        "#runtime= 4 min 28''\n",
        "\n",
        "#model\n",
        "model = KNeighborsClassifier(n_neighbors=4)\n",
        "\n",
        "#training\n",
        "model.fit(X_train, y_train)\n",
        "\n",
        "#make prediction\n",
        "y_pred_train = model.predict(X_train)\n",
        "y_pred_val = model.predict(X_val)\n",
        "print(f\"accuracy score on train:{accuracy_score(y_train,y_pred_train):.5f},accuracy score on validation:{accuracy_score(y_val,y_pred_val):.5f}\")\n",
        "\n",
        "\n",
        "#expected output:\n",
        "#accuracy score on train:0.90702,accuracy score on validation:0.85850"
      ]
    },
    {
      "cell_type": "markdown",
      "metadata": {
        "id": "VWNcc7NCQk3t"
      },
      "source": [
        "## What happen with scaled data?\n",
        "\n",
        "I compute the accuracy score only for the small validation set.\n",
        "The results don't change a lot."
      ]
    },
    {
      "cell_type": "code",
      "execution_count": null,
      "metadata": {
        "colab": {
          "base_uri": "https://localhost:8080/",
          "height": 625
        },
        "id": "1u0DvQPgQ0Rh",
        "outputId": "4015c1be-7553-4a11-ac1a-f7c288de040c"
      },
      "outputs": [
        {
          "data": {
            "image/png": "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",
            "text/plain": [
              "<Figure size 720x576 with 1 Axes>"
            ]
          },
          "metadata": {
            "needs_background": "light"
          },
          "output_type": "display_data"
        },
        {
          "name": "stdout",
          "output_type": "stream",
          "text": [
            "Minmax scaled data\n",
            "accuracy score on train:0.907, on validation:0.85833\n",
            "Standard scaled data\n",
            "accuracy score on train:0.9093, on validation:0.85750\n",
            "HOG transformed data\n",
            "accuracy score on train:0.8813, on validation:0.81667\n"
          ]
        }
      ],
      "source": [
        "#k values tested\n",
        "k_values= [2,4,8,10,16,32] \n",
        "\n",
        "\n",
        "#minmax scaler data\n",
        "val_accuracy_mm = []\n",
        "\n",
        "for k in k_values:\n",
        "  model = KNeighborsClassifier(n_neighbors=k)\n",
        "  model.fit(X_train_mms, y_train_small)\n",
        "  y_pred_val = model.predict(X_val_mms)\n",
        "  val_accuracy_mm.append(accuracy_score(y_val_small,y_pred_val))\n",
        "\n",
        "\n",
        "\n",
        "#standard scaler data\n",
        "val_accuracy_ss=[]\n",
        "\n",
        "for k in k_values:\n",
        "  model = KNeighborsClassifier(n_neighbors=k)\n",
        "  model.fit(X_train_sss, y_train_small)\n",
        "  y_pred_val_sss = model.predict(X_val_sss)\n",
        "  val_accuracy_ss.append(accuracy_score(y_val_small,y_pred_val_sss))\n",
        "\n",
        "\n",
        "\n",
        "#hog trnasformed data\n",
        "val_accuracy_hog = []\n",
        "\n",
        "for k in k_values:\n",
        "  model = KNeighborsClassifier(n_neighbors=k)\n",
        "  model.fit(X_train_hog, y_train_small)\n",
        "  y_pred_val_hog = model.predict(X_val_hog)\n",
        "  val_accuracy_hog.append(accuracy_score(y_val_small,y_pred_val_hog))\n",
        "\n",
        "\n",
        "\n",
        "#accuracy on the small validation set\n",
        "fig = plt.figure(figsize=(10,8))\n",
        "plt.plot(k_values, val_accuracy_mm, label=\"val acc minmax\")\n",
        "plt.plot(k_values, val_accuracy_ss, label=\"val acc StandScal\")\n",
        "plt.plot(k_values, val_accuracy_hog, label=\"val acc Hog\")\n",
        "plt.xlabel(\"K\")\n",
        "plt.ylabel(\"Accuracy\")  \n",
        "plt.title('Accuracy score plot')\n",
        "plt.legend()\n",
        "plt.show()\n",
        "\n",
        "\n",
        "\n",
        "model_mm = KNeighborsClassifier(n_neighbors=4)\n",
        "model_mm.fit(X_train_mm, y_train)\n",
        "y_pred_train_mm = model_mm.predict(X_train_mm)\n",
        "y_pred_val_mm = model_mm.predict(X_val_mm)\n",
        "print('Minmax scaled data')\n",
        "print(f\"accuracy score on train:{accuracy_score(y_train,y_pred_train_mm):.5}, on validation:{accuracy_score(y_val,y_pred_val_mm):.5f}\")\n",
        "\n",
        "model_ss = KNeighborsClassifier(n_neighbors=4)\n",
        "model_ss.fit(X_train_ss, y_train)\n",
        "y_pred_train_ss = model_ss.predict(X_train_ss)\n",
        "y_pred_val_ss = model_ss.predict(X_val_ss)\n",
        "print('Standard scaled data')\n",
        "print(f\"accuracy score on train:{accuracy_score(y_train,y_pred_train_ss):.5}, on validation:{accuracy_score(y_val,y_pred_val_ss):.5f}\")\n",
        "\n",
        "model_hog = KNeighborsClassifier(n_neighbors=4)\n",
        "model_hog.fit(X_train_hog, y_train_small)\n",
        "y_pred_train_hog = model_hog.predict(X_train_hog)\n",
        "y_pred_val_hog = model_hog.predict(X_val_hog)\n",
        "print('HOG transformed data')\n",
        "print(f\"accuracy score on train:{accuracy_score(y_train_small,y_pred_train_hog):.5}, on validation:{accuracy_score(y_val_small,y_pred_val_hog):.5f}\")\n",
        "\n",
        "\n",
        "#expected output:\n",
        "#Minmax scaled data\n",
        "#accuracy score on train:0.907, on validation:0.85833\n",
        "#Standard scaled data\n",
        "#accuracy score on train:0.9093, on validation:0.85750\n",
        "#HOG transformed data\n",
        "#accuracy score on train:0.8813, on validation:0.81667"
      ]
    },
    {
      "cell_type": "markdown",
      "metadata": {
        "id": "a7allnjL4BDI"
      },
      "source": [
        "# Conclusion\n",
        "\n",
        "I can finally watch the performance on the test set using the best model found: the artificial neural network (wich works a little better then the SVM). \n",
        "Before this I only need to preprocess the Test Set using MinMax Scaler."
      ]
    },
    {
      "cell_type": "code",
      "execution_count": null,
      "metadata": {
        "colab": {
          "base_uri": "https://localhost:8080/",
          "height": 613
        },
        "id": "aXDMtucQS62C",
        "outputId": "ec2e6eeb-1ddf-4c86-db95-12a8c6ad5076"
      },
      "outputs": [
        {
          "name": "stdout",
          "output_type": "stream",
          "text": [
            "Model: \"sequential_15\"\n",
            "_________________________________________________________________\n",
            " Layer (type)                Output Shape              Param #   \n",
            "=================================================================\n",
            " dense_36 (Dense)            (None, 784)               615440    \n",
            "                                                                 \n",
            " dense_37 (Dense)            (None, 10)                7850      \n",
            "                                                                 \n",
            "=================================================================\n",
            "Total params: 623,290\n",
            "Trainable params: 623,290\n",
            "Non-trainable params: 0\n",
            "_________________________________________________________________\n",
            "None\n",
            "Epoch 00060: early stopping\n"
          ]
        },
        {
          "data": {
            "image/png": "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",
            "text/plain": [
              "<Figure size 504x288 with 1 Axes>"
            ]
          },
          "metadata": {
            "needs_background": "light"
          },
          "output_type": "display_data"
        },
        {
          "name": "stdout",
          "output_type": "stream",
          "text": [
            "Accuracy\n",
            "test set: 0.89000\n"
          ]
        }
      ],
      "source": [
        "#run time of final cell: 10minutes more or less\n",
        "\n",
        "import tensorflow\n",
        "import numpy as np\n",
        "import tensorflow \n",
        "from tensorflow.keras.models import Sequential \n",
        "from tensorflow.keras.layers import Input, Dense \n",
        "from tensorflow.keras.utils import to_categorical \n",
        "from keras.utils.vis_utils import plot_model\n",
        "from tensorflow.python.framework.random_seed import set_random_seed\n",
        "from keras.callbacks import EarlyStopping\n",
        "from sklearn.metrics import accuracy_score\n",
        "\n",
        "#preprocessing\n",
        "X_train_val_mm=X_train_val/255\n",
        "X_test_mm=X_test/255\n",
        "y_train_val_cat=to_categorical(Y_train_val,10)\n",
        "\n",
        "#early stopping\n",
        "stop=EarlyStopping(monitor='val_loss', #quantity to be monitored\n",
        "                    mode='min', #we look for decreasing patterns stop \n",
        "                    patience = 15, #number of epochs with no improvements\n",
        "                    verbose = 1)\n",
        "\n",
        "#model defining\n",
        "np.random.seed(123)\n",
        "set_random_seed=2\n",
        "\n",
        "nn_final=Sequential()\n",
        "nn_final.add(Dense(input_dim=features,\n",
        "             units=features,\n",
        "             activation='relu'))\n",
        "nn_final.add(Dense(num_classes,\n",
        "             activation='softmax'))\n",
        "print(nn_final.summary())\n",
        "\n",
        "#compiling and training\n",
        "nn_final.compile(loss='categorical_crossentropy',\n",
        "           optimizer='sgd',\n",
        "           metrics=['accuracy'])\n",
        "train_final=nn_final.fit(X_train_val_mm,y_train_val_cat,\n",
        "             batch_size=16,\n",
        "             verbose=0,\n",
        "             callbacks=stop,\n",
        "             epochs=100,\n",
        "             validation_split=0.1)\n",
        "\n",
        "\n",
        "#display the accuracy and the loss\n",
        "fig = plt.figure(figsize=(7,4))\n",
        "plt.plot(train_final.history['accuracy'])\n",
        "plt.plot(train_final.history['val_accuracy'])\n",
        "plt.plot(train_final.history['loss'])\n",
        "plt.plot(train_final.history['val_loss'])\n",
        "plt.title('model accuracy & loss')\n",
        "plt.ylabel('accuracy / loss')\n",
        "plt.xlabel('epoch')\n",
        "plt.legend(['train accuracy','val accuracy','train loss','val loss'],loc='down right',fontsize='x-large')\n",
        "plt.show()\n",
        "\n",
        "\n",
        "#make prediction on training and validation set\n",
        "y_pred_test_final=nn_final.predict(X_test_mm).argmax(axis = 1) \n",
        "print('Accuracy')\n",
        "print(f'test set: {accuracy_score(Y_test,y_pred_test_final):.5f}')\n",
        "\n",
        "\n",
        "#expected output:\n",
        "#Accuracy\n",
        "#test set: 0.89100"
      ]
    },
    {
      "cell_type": "markdown",
      "metadata": {
        "id": "EgzkJkKRJwrK"
      },
      "source": [
        "The total run time of the notebook is 1 hour and 30 minutes"
      ]
    }
  ],
  "metadata": {
    "colab": {
      "collapsed_sections": [
        "VP4IOS4o4Ogg",
        "qyYUI8Th3f5b",
        "TehSSDy1Jbsx",
        "o6DExZfTLAE9",
        "Xm93nI0cRite",
        "4WBI374lu333",
        "l-5q5BrafMxw",
        "2Dnzhz-uyto7",
        "h7vBSsFVTQAM",
        "eBt3VunKB0Gc",
        "VWNcc7NCQk3t",
        "a7allnjL4BDI"
      ],
      "name": "Project_Fashion_Mnist_Lattaruolo.ipynb",
      "provenance": []
    },
    "kernelspec": {
      "display_name": "Python 3.9.12 ('base')",
      "language": "python",
      "name": "python3"
    },
    "language_info": {
      "codemirror_mode": {
        "name": "ipython",
        "version": 3
      },
      "file_extension": ".py",
      "mimetype": "text/x-python",
      "name": "python",
      "nbconvert_exporter": "python",
      "pygments_lexer": "ipython3",
      "version": "3.9.12"
    },
    "vscode": {
      "interpreter": {
        "hash": "ad2bdc8ecc057115af97d19610ffacc2b4e99fae6737bb82f5d7fb13d2f2c186"
      }
    }


  },
  {
   "cell_type": "code",
   "execution_count": null,
   "metadata": {
    "colab": {
     "base_uri": "https://localhost:8080/"
    },
    "id": "kwG6c0fP2RMf",
    "outputId": "0e8336db-b40b-42b2-c4b2-81128f665e30"
   },
   "outputs": [],
   "source": [
    "from google.colab import drive\n",
    "drive.mount('/content/drive')"
   ]
  },
  {
   "cell_type": "markdown",
   "metadata": {
    "id": "miRsH6QQ4Scy"
   },
   "source": [
    "Function for loading the Dataset."
   ]
  },
  {
   "cell_type": "code",
   "execution_count": null,
   "metadata": {
    "id": "490C2OoPs4PX"
   },
   "outputs": [],
   "source": [
    "import numpy as np\n",
    "from urllib.request import urlopen\n",
    "\n",
    "def load_fashion_mnist():\n",
    "\n",
    "    url_base = \"https://www.math.unipd.it/~dasan/\"\n",
    "    Y_train = np.frombuffer(urlopen(url_base + \"train-labels-idx1-ubyte\").read(), dtype=np.uint8, offset=8)\n",
    "    X_train = np.frombuffer(urlopen(url_base + \"train-images-idx3-ubyte\").read(), dtype=np.uint8, offset=16).reshape(len(Y_train), 784) \n",
    "                                                                                            \n",
    "    Y_test = np.frombuffer(urlopen(url_base + \"t10k-labels-idx1-ubyte\").read(), dtype=np.uint8, offset=8)\n",
    "    X_test = np.frombuffer(urlopen(url_base + \"t10k-images-idx3-ubyte\").read(), dtype=np.uint8, offset=16).reshape(len(Y_test), 784)\n",
    "\n",
    "    return X_train, Y_train, X_test, Y_test\n",
    "\n",
    "X_train_val, Y_train_val, X_test, Y_test = load_fashion_mnist()\n"
   ]
  },
  {
   "cell_type": "markdown",
   "metadata": {
    "id": "8d14srm8Vh-b"
   },
   "source": [
    "First of all let's have a look of the data. The images are already in grey-scale since every pixel has just one number."
   ]
  },
  {
   "cell_type": "code",
   "execution_count": null,
   "metadata": {
    "colab": {
     "base_uri": "https://localhost:8080/",
     "height": 326
    },
    "id": "CPzMfoAKxhxQ",
    "outputId": "caf31a5b-1897-435b-88fe-57a06d5a43f5"
   },
   "outputs": [],
   "source": [
    "import matplotlib.pyplot as plt \n",
    "from collections import Counter\n",
    "\n",
    "print(X_train_val.shape, Y_train_val.shape, X_test.shape, Y_test.shape) #shape of the data\n",
    "#value of the data\n",
    "print(f\"Min: {X_train_val[0].min()}\")\n",
    "print(f\"Max: {X_train_val[0].max()}\")\n",
    "print(f\"Mean: {X_train_val[0].mean():.5f}\")\n",
    "print(f\"Min: {X_train_val[10].min()}\")\n",
    "print(f\"Max: {X_train_val[10].max()}\")\n",
    "print(f\"Mean: {X_train_val[10].mean():.5f}\")\n",
    "#grayscale goes from 0 to 255\n",
    "\n",
    "#what are our images\n",
    "labels_name={\n",
    "    0:'T-shirt/top',\n",
    "    1:'Trouser',\n",
    "    2:'Pullover',\n",
    "    3:'Dress',\n",
    "    4:'Coat',\n",
    "    5:'Sandal',\n",
    "    6:'Shirt',\n",
    "    7:'Sneaker',\n",
    "    8:'Bag',\n",
    "    9:'Ankle boot'\n",
    "}\n",
    "\n",
    "\n",
    "print(Counter(Y_train_val)) #classes are perfectly balanced\n",
    "\n",
    "_, axes = plt.subplots(nrows=1, ncols=10, figsize=(30, 9)) #data displayed\n",
    "for ax, x, label in zip(axes,X_train_val[0:10], Y_train_val[0:10]):\n",
    "  ax.set_axis_off()\n",
    "  X_image=x.reshape(28,28)\n",
    "  ax.imshow(X_image, cmap=plt.cm.gray_r, interpolation=\"nearest\")\n",
    "  ax.set_title(\"Training: %s\" % labels_name[label])"
   ]
  },
  {
   "cell_type": "markdown",
   "metadata": {
    "id": "rPTAfJLUmxdk"
   },
   "source": [
    "Data are perfectly balanced, so far as I know I won't need Under or Over Sampling methods.\n",
    "\n",
    "I build the validation and the training set."
   ]
  },
  {
   "cell_type": "code",
   "execution_count": null,
   "metadata": {
    "colab": {
     "base_uri": "https://localhost:8080/"
    },
    "id": "orWFcy3TnNVB",
    "outputId": "3e43041e-8754-47e6-eab9-acc584059464"
   },
   "outputs": [],
   "source": [
    "from sklearn.model_selection import train_test_split\n",
    "# we prefer a small validation set since dataset is quite big\n",
    "X_train, X_val, y_train, y_val = train_test_split(X_train_val, Y_train_val, test_size=0.1, shuffle=False)\n",
    "print(X_train.shape, y_train.shape, X_val.shape, y_val.shape)\n",
    "print(Counter(y_train))\n",
    "#data are still balanced"
   ]
  },
  {
   "cell_type": "markdown",
   "metadata": {
    "id": "xf7RK0271OBR"
   },
   "source": [
    "Now I build several type of training set and validation set:\n",
    "- two set preprocessed by MinMax scaler and Standard Scaler,\n",
    "- one set with a smaller size for classifiers that do not run in a reasonable time with the whole batch of data,"
   ]
  },
  {
   "cell_type": "code",
   "execution_count": null,
   "metadata": {
    "id": "Fs0J3JDd1dPI"
   },
   "outputs": [],
   "source": [
    "from sklearn.preprocessing import MinMaxScaler\n",
    "from sklearn.preprocessing import StandardScaler\n",
    "\n",
    "#training and validation sets rescaled in 0-1 values \n",
    "minmax_scal=MinMaxScaler().fit(X_train_val)\n",
    "X_train_mm=minmax_scal.transform(X_train)\n",
    "X_val_mm=minmax_scal.transform(X_val)\n",
    "# this means X_train_mm=X_train/255\n",
    "\n",
    "#training and validation sets rescaled with 0 mean 1 std\n",
    "stand_scal=StandardScaler().fit(X_train_val)\n",
    "X_train_ss=stand_scal.transform(X_train)\n",
    "X_val_ss=stand_scal.transform(X_val)\n"
   ]
  },
  {
   "cell_type": "code",
   "execution_count": null,
   "metadata": {
    "colab": {
     "base_uri": "https://localhost:8080/"
    },
    "id": "XkYpGvNnxjm7",
    "outputId": "53d0457c-5108-4f6e-a1bb-c26fef1ca776"
   },
   "outputs": [],
   "source": [
    "#smaller data sets\n",
    "X_train_small, X_val_small, y_train_small, y_val_small = train_test_split(X_val, y_val, test_size=0.1, shuffle=False)\n",
    "print(X_train_small.shape, y_train_small.shape, X_val_small.shape, y_val_small.shape)\n",
    "print(Counter(y_train_small))\n",
    "\n",
    "#data more or less balanced"
   ]
  },
  {
   "cell_type": "markdown",
   "metadata": {
    "id": "D7mlYNbt5CNd"
   },
   "source": [
    "Let's start to implement the classifiers.\n",
    "\n",
    "For this classification task there's no reason to prefer a false positive to a false negative. We evaluate the performance of all the classifier by the accuracy on the validation set prediction.\n",
    "The best accuracy score on validation set for classifier is reported in the title of each paragraph."
   ]
  },
  {
   "cell_type": "markdown",
   "metadata": {
    "id": "o6DExZfTLAE9",
    "jp-MarkdownHeadingCollapsed": true,
    "tags": []
   },
   "source": [
    "# 2) Decision Tree and Random Forest. (0.88250)\n",
    "\n",
    "I first run a Grid Search with a tree classifier trained on the small dataset.\n",
    "Than, knowing the best parameters, I fit a tree classifier on the whole batch of data."
   ]
  },
  {
   "cell_type": "code",
   "execution_count": null,
   "metadata": {
    "colab": {
     "base_uri": "https://localhost:8080/"
    },
    "id": "y9h8gbljZoz4",
    "outputId": "a1007904-c614-4bd1-cbbb-6b555d9b8081"
   },
   "outputs": [],
   "source": [
    "#runtime=8-9 minutes\n",
    "from sklearn.metrics import accuracy_score\n",
    "from sklearn.model_selection import GridSearchCV\n",
    "from sklearn import tree\n",
    " \n",
    "\n",
    "#parameters\n",
    "param_grid_test = {\n",
    "    'max_depth': [5,10,50,None],\n",
    "    'min_samples_split': [2,8,20],\n",
    "    'min_samples_leaf': [1,4,8]\n",
    "}\n",
    "\n",
    "#model definition\n",
    "model = tree.DecisionTreeClassifier(random_state=123,criterion='entropy')\n",
    "\n",
    "#grid-search object\n",
    "clf_2 = GridSearchCV(estimator = model, param_grid=param_grid_test, \n",
    "                   cv = 5, scoring = \"accuracy\",verbose=0)\n",
    "\n",
    "#training\n",
    "clf_2.fit(X_train_small,y_train_small)\n",
    "\n",
    "print(clf_2.best_params_)\n",
    "print(clf_2.best_score_)\n",
    "\n",
    "# expected output:\n",
    "# {'max_depth': 10, 'min_samples_leaf': 4, 'min_samples_split': 2}\n",
    "# 0.757037037037037"
   ]
  },
  {
   "cell_type": "code",
   "execution_count": null,
   "metadata": {
    "colab": {
     "base_uri": "https://localhost:8080/"
    },
    "id": "0dMSE9Tljrut",
    "outputId": "6a223da1-84a7-446b-9328-969836a402bb"
   },
   "outputs": [],
   "source": [
    "#new model\n",
    "clf_tree=tree.DecisionTreeClassifier(random_state=123,\n",
    "                                     criterion='entropy',\n",
    "                                     max_depth = 10,\n",
    "                                     min_samples_leaf = 4,\n",
    "                                     min_samples_split = 2 )\n",
    "\n",
    "#training on the whole batch of data\n",
    "clf_tree.fit(X_train,y_train)\n",
    "\n",
    "#make prediction\n",
    "y_pred_tree_train=clf_tree.predict(X_train) \n",
    "y_pred_tree_val=clf_tree.predict(X_val)\n",
    "print(f\"accuracy score trees train:\\t{accuracy_score(y_train,y_pred_tree_train):.5f}, \\tval: \\t{accuracy_score(y_val,y_pred_tree_val):.5f}\")\n",
    "\n",
    "#expected output:\n",
    "#accuracy score trees train:\t0.84770, \tval: \t0.80717"
   ]
  },
  {
   "cell_type": "markdown",
   "metadata": {
    "id": "I5aujhpbNSQ8"
   },
   "source": [
    "I repeat the same process for a random forest classifier."
   ]
  },
  {
   "cell_type": "code",
   "execution_count": null,
   "metadata": {
    "colab": {
     "base_uri": "https://localhost:8080/"
    },
    "id": "7Dp-hjHKgxf1",
    "outputId": "e5f30000-bfc7-49e1-f562-db02dde33b07"
   },
   "outputs": [],
   "source": [
    "#runtime= 10 min\n",
    "from sklearn.ensemble import RandomForestClassifier\n",
    "\n",
    "#parameters\n",
    "param_grid_test = {\n",
    "    'n_estimators':[5,10,100],\n",
    "    'max_depth': [5,10,None],\n",
    "    'min_samples_split': [2,10],\n",
    "    'min_samples_leaf': [1,10]\n",
    "}\n",
    "\n",
    "#model definition\n",
    "model = RandomForestClassifier(random_state=123,criterion='entropy')\n",
    "\n",
    "#grid-search object\n",
    "clf_3 = GridSearchCV(estimator = model, param_grid=param_grid_test, \n",
    "                   cv = 5, scoring = \"accuracy\",verbose=0)\n",
    "\n",
    "#training\n",
    "clf_3.fit(X_train_small,y_train_small)\n",
    "\n",
    "print(clf_3.best_params_)\n",
    "print(clf_3.best_score_)\n",
    "\n",
    "# expected output:\n",
    "# {'max_depth': None, 'min_samples_leaf': 1, 'min_samples_split': 2, 'n_estimators': 100}\n",
    "# 0.8472222222222221\n",
    "# basically the default parameters ---> percfectly fit the train set"
   ]
  },
  {
   "cell_type": "code",
   "execution_count": null,
   "metadata": {
    "colab": {
     "base_uri": "https://localhost:8080/"
    },
    "id": "HtzVDjQhmDEr",
    "outputId": "e0e71dad-40e6-4edf-84ee-ffd5a3b5b713"
   },
   "outputs": [],
   "source": [
    "#new model\n",
    "clf_forest=RandomForestClassifier(random_state=123,\n",
    "                                  criterion='entropy',\n",
    "                                  n_estimators = 100,\n",
    "                                  max_depth = None ,\n",
    "                                  min_samples_split =  2,\n",
    "                                  min_samples_leaf =  1\n",
    "                                  )\n",
    "\n",
    "#training\n",
    "clf_forest.fit(X_train,y_train)\n",
    "\n",
    "#make prediction\n",
    "y_pred_forest_train=clf_forest.predict(X_train)\n",
    "y_pred_forest_val=clf_forest.predict(X_val)\n",
    "print(f\"accuracy score trees train:\\t{accuracy_score(y_train,y_pred_forest_train):.5f}, \\tval: \\t{accuracy_score(y_val,y_pred_forest_val):.5f}\")\n",
    "\n",
    "#output\n",
    "#F1 score trees train:      \t1.00000, \tval: \t0.87996\n",
    "#accuracy score trees train:\t1.00000, \tval: \t0.88233"
   ]
  },
  {
   "cell_type": "markdown",
   "metadata": {
    "id": "dNLBY6lqq1Ew"
   },
   "source": [
    "Let's have a look of the confusion matrices. Then I can visualize what tipe of samples are misclassified to understand how much big is the error."
   ]
  },
  {
   "cell_type": "code",
   "execution_count": null,
   "metadata": {
    "colab": {
     "base_uri": "https://localhost:8080/",
     "height": 619
    },
    "id": "rB9CEbnMqviP",
    "outputId": "c8d6cc11-b3e6-4b8d-ab66-dbd7b3f1fd9b"
   },
   "outputs": [],
   "source": [
    "from sklearn.metrics import confusion_matrix, ConfusionMatrixDisplay \n",
    "\n",
    "cm_tree = confusion_matrix(y_val, y_pred_tree_val, labels=clf_2.classes_)\n",
    "print('       TREE: confusion matrix')\n",
    "print()\n",
    "disp = ConfusionMatrixDisplay(confusion_matrix=cm_tree, display_labels=clf_tree.classes_)\n",
    "disp.plot()\n",
    "plt.show()\n",
    "\n",
    "\n",
    "cm_forest = confusion_matrix(y_val, y_pred_forest_val, labels=clf_forest.classes_)\n",
    "print('       FOREST: confusion matrix')\n",
    "print()\n",
    "disp = ConfusionMatrixDisplay(confusion_matrix=cm_forest, display_labels=clf_forest.classes_)\n",
    "disp.plot()\n",
    "plt.show()\n"
   ]
  },
  {
   "cell_type": "markdown",
   "metadata": {
    "id": "EejNkQNyAfND"
   },
   "source": [
    "It seems that the target labeled with number 6 (Shirt) is often confused for class labeled with number 0 (T-shirt/top). \n",
    "If it was the only error it will be quite a good performance."
   ]
  },
  {
   "cell_type": "code",
   "execution_count": null,
   "metadata": {
    "colab": {
     "base_uri": "https://localhost:8080/",
     "height": 148
    },
    "id": "hix8UVqjrPG8",
    "outputId": "feaf6f63-5bf8-4d9d-d5a3-5d5d29c38e63"
   },
   "outputs": [],
   "source": [
    "indices = np.all([ (y_val[0:600]==6), (y_pred_forest_val[0:600]==0) ], axis=0) \n",
    "\n",
    "_, axes = plt.subplots(nrows=1, ncols=sum(indices==True), figsize=(20, 6))\n",
    "for ax, x, label, pred_label in zip(axes, X_val[0:600][indices], y_val[0:600][indices], y_pred_forest_val[0:600][indices]):\n",
    "  ax.set_axis_off()\n",
    "  ax.imshow(x.reshape(28,28), cmap=plt.cm.gray_r, interpolation=\"nearest\")\n",
    "  ax.set_title(\"Test: %s\\nPred: %s\" % (labels_name[label], labels_name[pred_label]))\n",
    "\n",
    "#scambia facilmente i vestitini per magliette"
   ]
  },
  {
   "cell_type": "markdown",
   "metadata": {
    "id": "Xm93nI0cRite"
   },
   "source": [
    "## What happen with scaled data?\n",
    "\n",
    "The best accuracy score on validation set is reached using minmax scaler and a random forest classifier.\n",
    "Actually there are not real improvements in using Standard scaled datasets or hog preprocessed data, uncomment other lines to see what happen. "
   ]
  },
  {
   "cell_type": "code",
   "execution_count": null,
   "metadata": {
    "colab": {
     "base_uri": "https://localhost:8080/"
    },
    "id": "5KBAul0jPYV-",
    "outputId": "3568d3c1-0f41-49e6-d934-4ccc7ca0f2d0"
   },
   "outputs": [],
   "source": [
    "#minmax scaler\n",
    "\n",
    "\"\"\"\n",
    "#tree\n",
    "\n",
    "clf_2_mm=tree.DecisionTreeClassifier(random_state=123,\n",
    "                                     criterion='entropy',\n",
    "                                     max_depth = 10,\n",
    "                                     min_samples_leaf = 4,\n",
    "                                     min_samples_split = 2 ) \n",
    "\n",
    "#training\n",
    "clf_2_mm.fit(X_train_mm,y_train)\n",
    "\n",
    "#prediction\n",
    "y_pred_tree_train_mm=clf_2_mm.predict(X_train_mm)\n",
    "y_pred_tree_val_mm=clf_2_mm.predict(X_val_mm)\n",
    "print(f\"Decision Tree with minmax scaler data\")\n",
    "print(f\"accuracy score trees train:\\t{accuracy_score(y_train,y_pred_tree_train_mm):.5f}, \\tval: \\t{accuracy_score(y_val,y_pred_tree_val_mm):.5f}\")\n",
    "\"\"\"\n",
    "\n",
    "#forest\n",
    "clf_3_mm=RandomForestClassifier(random_state=123,\n",
    "                                  criterion='entropy',\n",
    "                                  n_estimators = 100,\n",
    "                                  max_depth = None ,\n",
    "                                  min_samples_split =  2,\n",
    "                                  min_samples_leaf =  1\n",
    "                                  )\n",
    "\n",
    "#training\n",
    "clf_3_mm.fit(X_train_mm,y_train)\n",
    "\n",
    "#prediction\n",
    "y_pred_forest_train_mm=clf_3_mm.predict(X_train_mm)\n",
    "y_pred_forest_val_mm=clf_3_mm.predict(X_val_mm)\n",
    "print(f\"Random Forest with minmax scaler data\")\n",
    "print(f\"accuracy score trees train:\\t{accuracy_score(y_train,y_pred_forest_train_mm):.5f}, \\tval: \\t{accuracy_score(y_val,y_pred_forest_val_mm):.5f}\")\n",
    "\n",
    "#expected output:\n",
    "#Decision Tree with minmax scaler data\n",
    "#accuracy score trees train:\t0.84770, \tval: \t0.80717\n",
    "#Random Forest with minmax scaler data\n",
    "#accuracy score trees train:\t1.00000, \tval: \t0.88250# best for forest"
   ]
  },
  {
   "cell_type": "code",
   "execution_count": null,
   "metadata": {
    "colab": {
     "base_uri": "https://localhost:8080/",
     "height": 130
    },
    "id": "HmkYP6jaRmzA",
    "outputId": "19a6c71d-e7b0-48fa-ed3d-9faed68168eb"
   },
   "outputs": [],
   "source": [
    "#standard scaler\n",
    "\n",
    "\"\"\"\n",
    "#tree\n",
    "clf_2_ss=tree.DecisionTreeClassifier(random_state=123,\n",
    "                                     criterion='entropy',\n",
    "                                     max_depth = 10,\n",
    "                                     min_samples_leaf = 4,\n",
    "                                     min_samples_split = 2 ) \n",
    "\n",
    "#training\n",
    "clf_2_ss.fit(X_train_ss,y_train)\n",
    "\n",
    "#prediction\n",
    "y_pred_tree_train_ss=clf_2_ss.predict(X_train_ss) \n",
    "y_pred_tree_val_ss=clf_2_ss.predict(X_val_ss)\n",
    "print(f\"Decision Tree with Standard scaler data\")\n",
    "print(f\"accuracy score trees train:\\t{accuracy_score(y_train,y_pred_tree_train_ss):.5f}, \\tval: \\t{accuracy_score(y_val,y_pred_tree_val_ss):.5f}\")\n",
    "\n",
    "\n",
    "#forest\n",
    "clf_3_ss=RandomForestClassifier(random_state=123,\n",
    "                                  criterion='entropy',\n",
    "                                  n_estimators = 100,\n",
    "                                  max_depth = None ,\n",
    "                                  min_samples_split =  2,\n",
    "                                  min_samples_leaf =  1\n",
    "                                  )\n",
    "\n",
    "#training\n",
    "clf_3_ss.fit(X_train_ss,y_train)\n",
    "\n",
    "#prediction\n",
    "y_pred_forest_train_ss=clf_3_ss.predict(X_train_ss)\n",
    "y_pred_forest_val_ss=clf_3_ss.predict(X_val_ss)\n",
    "print(f\"Random Forest with Standard scaler data\")\n",
    "print(f\"accuracy score trees train:\\t{accuracy_score(y_train,y_pred_forest_train_ss):.5f}, \\tval: \\t{accuracy_score(y_val,y_pred_forest_val_ss):.5f}\")\n",
    "\"\"\"\n",
    "\n",
    "#expected output:\n",
    "#Decision Tree with Standard scaler data\n",
    "#accuracy score trees train:\t0.84770, \tval: \t0.80700\n",
    "#Random Forest with Standard scaler data\n",
    "#accuracy score trees train:\t1.00000, \tval: \t0.88233"
   ]
  },
  {
   "cell_type": "code",
   "execution_count": null,
   "metadata": {
    "colab": {
     "base_uri": "https://localhost:8080/",
     "height": 130
    },
    "id": "JIa4bwsAPd_p",
    "outputId": "82d25de1-d2bf-4c73-d99b-afdc65d6fc3f"
   },
   "outputs": [],
   "source": [
    "#hog transformation\n",
    "\n",
    "\"\"\"\n",
    "#tree\n",
    "clf_2_hog=tree.DecisionTreeClassifier(random_state=123,\n",
    "                                     criterion='entropy',\n",
    "                                     max_depth = 10,\n",
    "                                     min_samples_leaf = 4,\n",
    "                                     min_samples_split = 2 ) \n",
    "\n",
    "#training\n",
    "clf_2_hog.fit(X_train_hog,y_train_small)\n",
    "\n",
    "#prediction\n",
    "y_pred_tree_train_hog=clf_2_hog.predict(X_train_hog) \n",
    "y_pred_tree_val_hog=clf_2_hog.predict(X_val_hog)\n",
    "print(f\"Decision Tree with hog transformed data\")\n",
    "print(f\"accuracy score trees train:\\t{accuracy_score(y_train_small,y_pred_tree_train_hog):.5f}, \\tval: \\t{accuracy_score(y_val_small,y_pred_tree_val_hog):.5f}\")\n",
    "\n",
    "\n",
    "#forest\n",
    "clf_3_hog=RandomForestClassifier(random_state=123,\n",
    "                                  criterion='entropy',\n",
    "                                  n_estimators = 100,\n",
    "                                  max_depth = None ,\n",
    "                                  min_samples_split =  2,\n",
    "                                  min_samples_leaf =  1\n",
    "                                  )\n",
    "\n",
    "#training\n",
    "clf_3_hog.fit(X_train_hog,y_train_small)\n",
    "\n",
    "#prediction\n",
    "y_pred_forest_train_hog=clf_3_hog.predict(X_train_small)\n",
    "y_pred_forest_val_hog=clf_3_hog.predict(X_val_small)\n",
    "print(f\"Random Forest with hog transformed data\")\n",
    "print(f\"accuracy score trees train:\\t{accuracy_score(y_train_small,y_pred_forest_train_hog):.5f}, \\tval: \\t{accuracy_score(y_val_small,y_pred_forest_val_hog):.5f}\")\n",
    "\"\"\"\n",
    "\n",
    "#expected output:\n",
    "#Decision Tree with hog transformed data\n",
    "#accuracy score trees train:\t0.90815, \tval: \t0.77167\n",
    "#Random Forest with hog transformed data\n",
    "#accuracy score trees train:\t0.36852, \tval: \t0.37500\n",
    "\n"
   ]
  },
  {
   "cell_type": "markdown",
   "metadata": {
    "id": "4WBI374lu333",
    "jp-MarkdownHeadingCollapsed": true,
    "tags": []
   },
   "source": [
    "# 3) Support Vector Machine. (0.89350)\n",
    "\n",
    "SVM can run only with small data set, training on the all data takes 3 minutes and make a prediction on the training set takes 14 minutes. For this reason I prefer to avoid to make a prediction for the training set, computing the accuracy score only for the validation set. (Uncomment the cell of the training set to see its accuracy score)"
   ]
  },
  {
   "cell_type": "code",
   "execution_count": null,
   "metadata": {
    "colab": {
     "base_uri": "https://localhost:8080/"
    },
    "id": "d6UGSqg5vDLe",
    "outputId": "1e5606aa-dd83-4e9d-f8f6-8e260bae1ff3"
   },
   "outputs": [],
   "source": [
    "from sklearn.metrics import accuracy_score\n",
    "from sklearn.model_selection import GridSearchCV\n",
    "from sklearn import svm\n",
    "\n",
    "#parameters\n",
    "svc_grid_params = {\n",
    "    'C': ( 1, 10, 100),\n",
    "    'kernel': ('rbf', 'linear'),\n",
    "}\n",
    "\n",
    "#grid search object\n",
    "model = svm.SVC(random_state = 123)\n",
    "clf_4 = GridSearchCV(estimator = model,\n",
    "                     param_grid = svc_grid_params, \n",
    "                     scoring='accuracy',\n",
    "                     n_jobs= -1, cv = 5, verbose = 1)\n",
    "\n",
    "#training \n",
    "clf_4.fit(X_train_small,y_train_small)\n",
    "\n",
    "\n",
    "print(clf_4.best_params_)\n",
    "print(clf_4.best_score_)\n",
    "\n",
    "#expected output:\n",
    "#Fitting 5 folds for each of 6 candidates, totalling 30 fits\n",
    "#{'C': 100, 'kernel': 'rbf'}\n",
    "#0.8585185185185186"
   ]
  },
  {
   "cell_type": "code",
   "execution_count": null,
   "metadata": {
    "colab": {
     "base_uri": "https://localhost:8080/"
    },
    "id": "J9M_CvSMvOto",
    "outputId": "1cfe97e8-acd4-4fbf-8301-5d12175a3eb0"
   },
   "outputs": [],
   "source": [
    "#model definition with best parameters\n",
    "clf_svm=svm.SVC(random_state = 123,\n",
    "                kernel = 'rbf',\n",
    "                C=100)\n",
    "\n",
    "#training \n",
    "clf_svm.fit(X_train,y_train)\n",
    "\n",
    "#make a prediction for the validation set\n",
    "y_pred_svm_val=clf_svm.predict(X_val) \n",
    "print(f\"accuracy score SVM on validation set: \\t{accuracy_score(y_val,y_pred_svm_val):.5f}\")\n",
    "\n",
    "#expected output:\n",
    "#accuracy score SVM on validation set: \t0.89183"
   ]
  },
  {
   "cell_type": "code",
   "execution_count": null,
   "metadata": {
    "colab": {
     "base_uri": "https://localhost:8080/",
     "height": 36
    },
    "id": "9HD9YD5x7JO7",
    "outputId": "2419d347-f45f-4f78-e193-2ca7c25215b2"
   },
   "outputs": [],
   "source": [
    "\"\"\"\n",
    "y_pred_svm_train=clf_svm.predict(X_train) \n",
    "print(f\"accuracy score SVM on trainin set: \\t{accuracy_score(y_train,y_pred_svm_train):.5f}\")\n",
    "\"\"\"\n",
    "\n",
    "#expected output\n",
    "#accuracy score SVM on trainin set: \t0.99969"
   ]
  },
  {
   "cell_type": "markdown",
   "metadata": {
    "id": "l-5q5BrafMxw"
   },
   "source": [
    "## What happen with scaled data?\n",
    "\n",
    "The best accuracy score is reached using the Standard Scaled data and is not so better than the accuracy score just gained. \n",
    "Uncomment the other lines to see what happen with MinMax scaler and hog transformation."
   ]
  },
  {
   "cell_type": "code",
   "execution_count": null,
   "metadata": {
    "colab": {
     "base_uri": "https://localhost:8080/",
     "height": 110
    },
    "id": "THM2Gj8ygOAQ",
    "outputId": "8097e29c-bd68-4116-ee34-947a2e6fff73"
   },
   "outputs": [],
   "source": [
    "#minmax scaler\n",
    "\n",
    "\"\"\"\n",
    "#model\n",
    "clf_svm_mm=svm.SVC(random_state = 123,\n",
    "                kernel = 'rbf',\n",
    "                C=100)\n",
    "\n",
    "#training \n",
    "clf_svm_mm.fit(X_train_mm,y_train)\n",
    "\n",
    "#make a prediction for the validation set\n",
    "y_pred_svm_val=clf_svm_mm.predict(X_val_mm) \n",
    "print(f\"accuracy score SVM  with MinMax scaler data on val: \\t{accuracy_score(y_val,y_pred_svm_val):.5f}\")\n",
    "\"\"\"\n",
    "\n",
    "#Standard scaler\n",
    "\n",
    "#model\n",
    "clf_svm_ss=svm.SVC(random_state = 123,\n",
    "                kernel = 'rbf',\n",
    "                C=100)\n",
    "\n",
    "#training \n",
    "clf_svm_ss.fit(X_train_ss,y_train)\n",
    "\n",
    "#make a prediction for the validation set\n",
    "y_pred_svm_val=clf_svm_ss.predict(X_val_ss) \n",
    "print(f\"accuracy score SVM  with Standardscaler data on val: \\t{accuracy_score(y_val,y_pred_svm_val):.5f}\")\n",
    "\n",
    "\n",
    "\"\"\"\n",
    "#Hog transformed data\n",
    "\n",
    "#model\n",
    "clf_svm_hog=svm.SVC(random_state = 123,\n",
    "                kernel = 'rbf',\n",
    "                C=100)\n",
    "\n",
    "#training \n",
    "clf_svm_hog.fit(X_train_hog,y_train_small)\n",
    "\n",
    "#We can make prediction on both train and val because we are using small data set\n",
    "y_pred_svm_train=clf_svm_hog.predict(X_train_hog)\n",
    "y_pred_svm_val=clf_svm_hog.predict(X_val_hog) \n",
    "print(f\"accuracy score SVM  with Hog transformed data on train: \\t{accuracy_score(y_train_small,y_pred_svm_train):.5f}, val: \\t{accuracy_score(y_val_small,y_pred_svm_val):.5f}\")\n",
    "\"\"\"\n",
    "\n",
    "\n",
    "#questi score sono falsati perchè il validation è calcolato su un set che \n",
    "#expected output:\n",
    "#accuracy score SVM  with MinMax scaler data on val: \t0.89167\n",
    "#accuracy score SVM  with Standardscaler data on val: \t0.89350\n",
    "#accuracy score SVM  with Hog trnasformed data on train: \t1.00000, val: \t0.84333"
   ]
  },
  {
   "cell_type": "markdown",
   "metadata": {
    "id": "2Dnzhz-uyto7",
    "jp-MarkdownHeadingCollapsed": true,
    "tags": []
   },
   "source": [
    "# 4) Artificial Neural Network. (0.89417)\n",
    "\n",
    "In Keras documentation we can read that \"images need to be read and decoded into integer tensors, then converted to floating point and normalized to small values (usually between 0 and 1)\".\n",
    "\n",
    "For this reason in the ANN implementation I use only data preprocessed by MinMax scaler and Standard Scaler.\n",
    "\n",
    "# First of all I implement a function that allows me to make e grid search for the optimal parameters."
   ]
  },
  {
   "cell_type": "code",
   "execution_count": null,
   "metadata": {
    "id": "ThIn_s6FjFn1"
   },
   "outputs": [],
   "source": [
    "#libraries I need\n",
    "import tensorflow\n",
    "import numpy as np\n",
    "import tensorflow \n",
    "from tensorflow.keras.models import Sequential \n",
    "from tensorflow.keras.layers import Input, Dense \n",
    "from tensorflow.keras.utils import to_categorical \n",
    "from keras.utils.vis_utils import plot_model\n",
    "from tensorflow.python.framework.random_seed import set_random_seed\n",
    "from keras.callbacks import EarlyStopping\n",
    "from sklearn.metrics import accuracy_score"
   ]
  },
  {
   "cell_type": "code",
   "execution_count": null,
   "metadata": {
    "id": "Pj247o8AibM5"
   },
   "outputs": [],
   "source": [
    "#function for define and train more NN\n",
    "def MLP(X,y,vector_units,n_epochs,stop,n_patience):\n",
    "    #X already scaled\n",
    "    #y not transformed by to_categorical\n",
    "    \n",
    "    #processing data\n",
    "    features=np.shape(X)[1] #the input size\n",
    "    num_classes=len(set(y))\n",
    "    np.random.seed(123)\n",
    "    set_random_seed(2)\n",
    "\n",
    "    model=Sequential()\n",
    "    n_layers=len(vector_units) #we consider only the hidden layer\n",
    "    if n_layers==0:\n",
    "      model.add(Dense(input_dim=features, \n",
    "                      units = num_classes, \n",
    "                      activation= 'softmax'))\n",
    "    else:\n",
    "      for i in range(n_layers):\n",
    "        if i==0:\n",
    "          model.add(Dense(input_dim=features,\n",
    "                          units=vector_units[0],\n",
    "                          activation='relu'))\n",
    "        else: \n",
    "          model.add(Dense(units=vector_units[i],\n",
    "                          activation='relu'))\n",
    "      model.add(Dense(units = num_classes, \n",
    "                      activation= 'softmax'))\n",
    "    \n",
    "    #configure the model\n",
    "    model.compile(loss='categorical_crossentropy', \n",
    "                optimizer='sgd', \n",
    "                metrics=['accuracy']) \n",
    "    \n",
    "    #EarlyStopping\n",
    "    if stop=='True':\n",
    "      stop_er=EarlyStopping(monitor='val_loss', #quantity to be monitored\n",
    "                    mode='min', #we look for decreasing patterns stop \n",
    "                    patience = n_patience, #number of epochs with no improvements\n",
    "                    verbose=1)\n",
    "    else:\n",
    "      stop_er=None\n",
    "    #training\n",
    "    y=to_categorical(y,num_classes)\n",
    "    train=model.fit(X,y,epochs=n_epochs,\n",
    "                    batch_size=32, \n",
    "                    verbose=0,\n",
    "                    validation_split=0.1,\n",
    "                    callbacks=stop_er)\n",
    "    \n",
    "    return model,train"
   ]
  },
  {
   "cell_type": "markdown",
   "metadata": {
    "id": "G9rfA3d4PDke"
   },
   "source": [
    "I create two smaller data sets of scaled data and the one-hot encoding of the labels."
   ]
  },
  {
   "cell_type": "code",
   "execution_count": null,
   "metadata": {
    "id": "i5noochHlvzu"
   },
   "outputs": [],
   "source": [
    "from sklearn.preprocessing import MinMaxScaler\n",
    "from sklearn.preprocessing import StandardScaler\n",
    "\n",
    "#smaller data set for the grid search\n",
    "minmax_scal=MinMaxScaler().fit(X_train_small)\n",
    "X_train_mms=minmax_scal.transform(X_train_small) \n",
    "X_val_mms=minmax_scal.transform(X_val_small) \n",
    "\n",
    "#second smaller dataset for a comparison\n",
    "standard_scal=StandardScaler().fit(X_train_small)\n",
    "X_train_sss=standard_scal.transform(X_train_small) \n",
    "X_val_sss=standard_scal.transform(X_val_small) \n",
    "\n",
    "#one hot encoding\n",
    "y_train_cs=to_categorical(y_train_small,10)\n",
    "y_val_cs=to_categorical(y_val_small,10)\n"
   ]
  },
  {
   "cell_type": "markdown",
   "metadata": {
    "id": "87faU3Ucjzrf"
   },
   "source": [
    "Now I can train several NN to find the best parameters.\n",
    "Even though I used smaller data set this cell requires 15 or more minutes to run. Since this is actually the best model among the others it's worth it."
   ]
  },
  {
   "cell_type": "code",
   "execution_count": null,
   "metadata": {
    "colab": {
     "base_uri": "https://localhost:8080/",
     "height": 1000
    },
    "id": "IVcs72Yry8PH",
    "outputId": "d1d7604a-4768-4713-8b31-a6dd7220d107"
   },
   "outputs": [],
   "source": [
    "#parameters of the function\n",
    "\n",
    "#to avoid a 50 minutes run I put a shortes version of vector_units_list but the results is the same\n",
    "# vector_units_list=[[784],[784,10],[500,200],[784,100,50],[784,200,50,10]] #long research\n",
    "vector_units_list=[[784],[784,10]]\n",
    "n_epochs_list=[100,500]\n",
    "n_patience_list=[5,15,25]\n",
    "stop='True'\n",
    "#let save the maximum accuracy\n",
    "acc=0\n",
    "accuracy_test=[]\n",
    "i=0\n",
    "#grid-search\n",
    "for n_epochs in n_epochs_list:\n",
    "  for vector in vector_units_list:\n",
    "    for n_patience in n_patience_list:\n",
    "\n",
    "      #train a NN \n",
    "      m,t=MLP(X_train_mms,y_train_small,vector,n_epochs,stop,n_patience)\n",
    "      print(i)\n",
    "      i+=1\n",
    "      #save the greater accuracy\n",
    "      accuracy_val=m.evaluate(X_val_mms,y_val_cs,verbose=0)[1]\n",
    "      if accuracy_val>acc:\n",
    "        acc=accuracy_val\n",
    "        win=[vector,n_epochs,n_patience]\n",
    "        model=m\n",
    "        accuracy_test.append(accuracy_val)\n",
    "\n",
    "print('\\n\\n\\n')\n",
    "print(model.summary())\n",
    "print('best parameters: ',win)\n",
    "plt.plot(accuracy_test)\n",
    "plt.title(f\"accuracy growing\")\n",
    "plt.ylabel('accuracy')\n",
    "plt.xlabel('grid search')\n",
    "plt.legend(['test acc'], loc='upper left')\n",
    "plt.show()\n",
    "\n",
    "#expected output:\n",
    "# best parameters: [[784], 100, 15]"
   ]
  },
  {
   "cell_type": "markdown",
   "metadata": {
    "id": "pK_fZLjvk4DI"
   },
   "source": [
    "Now I can train on the whole batch of data one Artificial Neural Network with the best parameters found."
   ]
  },
  {
   "cell_type": "code",
   "execution_count": null,
   "metadata": {
    "colab": {
     "base_uri": "https://localhost:8080/"
    },
    "id": "R7PNQAczzMcg",
    "outputId": "e85aa369-0359-4fad-b4f1-c3f6843ede99"
   },
   "outputs": [],
   "source": [
    "#runtime= ~10 minutes\n",
    "\n",
    "#early stopping\n",
    "stop=EarlyStopping(monitor='val_loss', #quantity to be monitored\n",
    "                    mode='min', #we look for decreasing patterns stop \n",
    "                    patience = 15, #number of epochs with no improvements\n",
    "                    verbose = 1)\n",
    "#data\n",
    "features=np.shape(X_train)[1]\n",
    "num_classes=10 \n",
    "y_train_cat=to_categorical(y_train,num_classes)\n",
    "y_val_cat=to_categorical(y_val,num_classes)\n",
    "\n",
    "\n",
    "#model defining\n",
    "np.random.seed(123)\n",
    "set_random_seed=2\n",
    "\n",
    "nn=Sequential()\n",
    "nn.add(Dense(input_dim=features,\n",
    "             units=features,\n",
    "             activation='relu'))\n",
    "nn.add(Dense(num_classes,\n",
    "             activation='softmax'))\n",
    "print(nn.summary())\n",
    "\n",
    "#compiling and training\n",
    "nn.compile(loss='categorical_crossentropy',\n",
    "           optimizer='sgd',\n",
    "           metrics=['accuracy'])\n",
    "train=nn.fit(X_train_mm,y_train_cat,\n",
    "             batch_size=32,\n",
    "             verbose=0,\n",
    "             callbacks=stop,\n",
    "             epochs=100,\n",
    "             validation_split=0.1)\n"
   ]
  },
  {
   "cell_type": "code",
   "execution_count": null,
   "metadata": {
    "colab": {
     "base_uri": "https://localhost:8080/",
     "height": 332
    },
    "id": "Ptn1BME5zteU",
    "outputId": "e9ad15ee-b209-44ae-e057-49d14839e375"
   },
   "outputs": [],
   "source": [
    "#display the accuracy \n",
    "plt.plot(train.history['accuracy'])\n",
    "plt.plot(train.history['val_accuracy'])\n",
    "plt.title('model accuracy')\n",
    "plt.ylabel('accuracy')\n",
    "plt.xlabel('epoch')\n",
    "plt.legend(['train','validation split'],loc='down right',fontsize='x-large')\n",
    "plt.show()\n",
    "\n",
    "#make prediction on training and validation set\n",
    "y_pred_nn_train=nn.predict(X_train_mm).argmax(axis = 1) \n",
    "y_pred_nn_val=nn.predict(X_val_mm).argmax(axis = 1) \n",
    "print('minmax')\n",
    "print(f'acc on train set: {accuracy_score(y_train,y_pred_nn_train):.5f}, acc on validation set:{accuracy_score(y_val,y_pred_nn_val):.5f}')\n",
    "\n",
    "\n",
    "#expected output:\n",
    "#minmax\n",
    "#acc on train set: 0.94765, acc on validation set:0.89083\n"
   ]
  },
  {
   "cell_type": "markdown",
   "metadata": {
    "id": "h7vBSsFVTQAM",
    "tags": []
   },
   "source": [
    "## What happen with Standard Scaler?\n",
    "\n",
    "Now I another ANN using the data preprocessed by the standard scaler. The accuracy score reached on the validation is a little better then the one reached before."
   ]
  },
  {
   "cell_type": "code",
   "execution_count": null,
   "metadata": {
    "colab": {
     "base_uri": "https://localhost:8080/",
     "height": 613
    },
    "id": "J8yNFvtnTVHc",
    "outputId": "e0e124c1-c74a-47d8-c922-04d647726fde"
   },
   "outputs": [],
   "source": [
    "#early stopping\n",
    "stop=EarlyStopping(monitor='val_loss', #quantity to be monitored\n",
    "                    mode='min', #we look for decreasing patterns stop \n",
    "                    patience = 15, #number of epochs with no improvements\n",
    "                    verbose = 1)\n",
    "\n",
    "#model defining\n",
    "np.random.seed(123)\n",
    "set_random_seed=2\n",
    "\n",
    "nns=Sequential()\n",
    "nns.add(Dense(input_dim=features,\n",
    "             units=features,\n",
    "             activation='relu'))\n",
    "nns.add(Dense(num_classes,\n",
    "             activation='softmax'))\n",
    "print(nns.summary())\n",
    "\n",
    "#compiling and training\n",
    "nns.compile(loss='categorical_crossentropy',\n",
    "           optimizer='sgd',\n",
    "           metrics=['accuracy'])\n",
    "train_s=nns.fit(X_train_ss,y_train_cat,\n",
    "             batch_size=16,\n",
    "             verbose=0,\n",
    "             callbacks=stop,\n",
    "             epochs=100,\n",
    "             validation_split=0.1)\n",
    "\n",
    "\n",
    "#display the accuracy \n",
    "plt.plot(train_s.history['accuracy'])\n",
    "plt.plot(train_s.history['val_accuracy'])\n",
    "plt.title('model accuracy')\n",
    "plt.ylabel('accuracy')\n",
    "plt.xlabel('epoch')\n",
    "plt.legend(['train','validation split'],loc='down right',fontsize='x-large')\n",
    "plt.show()\n",
    "\n",
    "#make prediction on training and validation set\n",
    "y_pred_train_ss=nns.predict(X_train_ss).argmax(axis = 1) \n",
    "y_pred_val_ss=nns.predict(X_val_ss).argmax(axis = 1) \n",
    "print('Standard Scaler')\n",
    "print(f'acc on train set: {accuracy_score(y_train,y_pred_train_ss):.5f}, acc on validation set:{accuracy_score(y_val,y_pred_val_ss):.5f}')\n",
    "\n",
    "\n",
    "#expected output:\n",
    "#Standard Scaler\n",
    "#acc on train set: 0.97587, acc on validation set:0.89417"
   ]
  },
  {
   "cell_type": "markdown",
   "metadata": {},
   "source": [
    "# Convolutional Neural Network (Pytorch)"
   ]
  },
  {
   "cell_type": "code",
   "execution_count": 39,
   "metadata": {},
   "outputs": [],
   "source": [
    "# Pytorch import\n",
    "import torch\n",
    "import torch.nn as nn\n",
    "import torch.optim as optim\n",
    "import torchmetrics\n",
    "import pytorch_lightning as pl\n",
    "from pytorch_lightning import Callback\n",
    "from torch.utils.data import Dataset, DataLoader, random_split, ConcatDataset, Subset\n",
    "from torchvision import transforms, datasets\n",
    "from pytorch_lightning.callbacks.early_stopping import EarlyStopping \n",
    "\n",
    "\n",
    "import matplotlib.pyplot as plt\n",
    "import numpy as np"
   ]
  },
  {
   "cell_type": "markdown",
   "metadata": {},
   "source": [
    "## Dataset and Dataloaders"
   ]
  },
  {
   "cell_type": "code",
   "execution_count": 40,
   "metadata": {},
   "outputs": [],
   "source": [
    "### Dataset\n",
    "\n",
    "dataset = datasets.FashionMNIST('FashionMNIST', train = True, download = True,\n",
    "                             transform = transforms.Compose([\n",
    "                               transforms.ToTensor(),\n",
    "                                transforms.Normalize(0.0, 1.0, inplace=True),\n",
    "                                 transforms.RandomAffine(10, (0.1,0.1), (0.95,1)),\n",
    "                                 transforms.RandomCrop((28,28))\n",
    "                             ]))\n",
    "\n",
    "test_data = datasets.FashionMNIST('FashionMNIST', train = False, download = True,\n",
    "                             transform=transforms.Compose([\n",
    "                               transforms.ToTensor(),\n",
    "                                 transforms.Normalize(0.0, 1.0, inplace=True)\n",
    "                             ]))\n",
    "\n",
    "# Divide data dataset in train dataset and val dataset\n",
    "train_data, val_data = torch.utils.data.random_split(dataset, [50000, 10000])"
   ]
  },
  {
   "cell_type": "code",
   "execution_count": 41,
   "metadata": {},
   "outputs": [],
   "source": [
    "### Dataloaders\n",
    "batch_size = 128\n",
    "train_dataloader = DataLoader(train_data, batch_size = batch_size, shuffle = True, num_workers=0)\n",
    "val_dataloader = DataLoader(val_data, batch_size = batch_size, shuffle=True, num_workers=0)\n",
    "test_dataloader = DataLoader(test_data, batch_size = 1, shuffle=True, num_workers=0)"
   ]
  },
  {
   "cell_type": "code",
   "execution_count": 42,
   "metadata": {},
   "outputs": [
    {
     "data": {
      "image/png": "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\n",
      "text/plain": [
       "<Figure size 576x576 with 16 Axes>"
      ]
     },
     "metadata": {
      "needs_background": "light"
     },
     "output_type": "display_data"
    }
   ],
   "source": [
    "# Plot some samples\n",
    "figure = plt.figure(figsize=(8, 8))\n",
    "cols, rows = 4,4\n",
    "\n",
    "\n",
    "for i in range(1,cols * rows+1):\n",
    "    sample_idx = torch.randint(len(train_data), size=(1,)).item()\n",
    "    img, label = dataset[sample_idx]\n",
    "    figure.add_subplot(rows, cols, i)\n",
    "    plt.axis(\"off\")\n",
    "    plt.imshow(img.squeeze(), cmap=\"gray\")\n",
    "plt.show()"
   ]
  },
  {
   "cell_type": "markdown",
   "metadata": {},
   "source": [
    "## Define the model"
   ]
  },
  {
   "cell_type": "code",
   "execution_count": 54,
   "metadata": {},
   "outputs": [],
   "source": [
    "class ConvNet(pl.LightningModule):\n",
    "    \n",
    "    def __init__(self, activation, drop_p, lr=0.001):\n",
    "        \"\"\"\n",
    "        The input is typically a MNIST images batch, encoded in a torch.tensor of size (N,1,28,28), where N is the batch size\n",
    "        -----------\n",
    "        Parameters:\n",
    "        act = activation function \n",
    "        drop_p = dropout probability\n",
    "        \"\"\"\n",
    "        super().__init__()\n",
    "        \n",
    "        # Parameters \n",
    "        self.act = getattr(nn, activation)(inplace = True)\n",
    "        self.drop_p = drop_p\n",
    "        self.lr = lr\n",
    "        self.accuracy = torchmetrics.Accuracy()\n",
    "        \n",
    "        \n",
    "        ## Network architecture\n",
    "        # Convolution part\n",
    "        self.cnn = nn.Sequential(\n",
    "            #first convolution layer\n",
    "            nn.Conv2d(1, 16, 5),  # out = (N, 16, 24, 24)\n",
    "            nn.BatchNorm2d(16),\n",
    "            self.act,\n",
    "            nn.Dropout(self.drop_p, inplace = False),\n",
    "            nn.MaxPool2d(2),  # out = (N, 16, 12, 12)\n",
    "            # Second convolution layer\n",
    "            nn.Conv2d(16, 32, 5), # out = (N, 32, 8, 8)\n",
    "            nn.BatchNorm2d(32),\n",
    "            self.act,\n",
    "            nn.Dropout(self.drop_p, inplace = False),\n",
    "            nn.MaxPool2d(2) # out = (N, 32, 4, 4)\n",
    "        )\n",
    "    \n",
    "        # Linear classifier\n",
    "        self.lin = nn.Sequential(\n",
    "            nn.Linear(in_features = 32*4*4, out_features = 128),\n",
    "            nn.BatchNorm1d(128),\n",
    "            self.act,\n",
    "            nn.Dropout(self.drop_p, inplace = False),\n",
    "            nn.Linear(in_features = 128, out_features = 10)\n",
    "        )\n",
    "\n",
    "        print(\"CNN initialized\")\n",
    "        \n",
    "    def forward(self, x):\n",
    "        # Convolution layer\n",
    "        x = self.cnn(x)\n",
    "        # Flatten layer\n",
    "        x = torch.flatten(x, start_dim = 1)\n",
    "        # Linear layer\n",
    "        x = self.lin(x)\n",
    "        return x\n",
    "    \n",
    "    \n",
    "        \n",
    "    def training_step(self, batch, batch_idx):\n",
    "        # take data and labels\n",
    "        x_batch, labels = batch\n",
    "        \n",
    "        # Forward pass\n",
    "        y_hat = net(x_batch)\n",
    "        \n",
    "        # Compute loss\n",
    "        train_loss = nn.CrossEntropyLoss()(y_hat, labels)\n",
    "        \n",
    "        # compute training accuracy\n",
    "        self.accuracy(y_hat, labels)\n",
    "        \n",
    "        # Logging to TensorBoard by default\n",
    "        self.log(\"train_loss\", train_loss, prog_bar=True)\n",
    "        self.log('train_acc', self.accuracy)\n",
    "        \n",
    "        return train_loss\n",
    "    \n",
    "    def validation_step(self, batch, batch_idx):\n",
    "        # take data and labels\n",
    "        x_batch, labels = batch\n",
    "        \n",
    "        # Forward pass\n",
    "        y_hat = net(x_batch)\n",
    "        \n",
    "        # Compute loss\n",
    "        val_loss = nn.CrossEntropyLoss()(y_hat, labels)\n",
    "        \n",
    "        # compute validation accuracy\n",
    "        self.accuracy(y_hat, labels)\n",
    "        \n",
    "        # Logging to TensorBoard by default\n",
    "        self.log(\"val_loss\", val_loss, prog_bar=True)\n",
    "        self.log('val_acc', self.accuracy)\n",
    "        \n",
    "        return val_loss\n",
    "    \n",
    "    def configure_optimizers(self):\n",
    "        optimizer = optim.Adam(self.parameters(), lr = self.lr)\n",
    "        return optimizer"
   ]
  },
  {
   "cell_type": "code",
   "execution_count": 55,
   "metadata": {},
   "outputs": [],
   "source": [
    "# trainer callback\n",
    "class MetricsCallback(Callback):\n",
    "    \"\"\"PyTorch Lightning metric callback.\"\"\"\n",
    "\n",
    "    def __init__(self):\n",
    "        super().__init__()\n",
    "        self.train_loss_log = []\n",
    "        self.val_loss_log = []\n",
    "        self.train_acc_log= []\n",
    "        self.val_acc_log= []\n",
    "        \n",
    "        \n",
    "    def on_train_epoch_end(self, trainer, pl_module):\n",
    "        train_loss = trainer.logged_metrics[\"train_loss\"].cpu()\n",
    "        self.train_loss_log.append(train_loss)\n",
    "        train_acc = trainer.logged_metrics[\"train_acc\"].cpu()   \n",
    "        self.train_acc_log.append(train_acc)\n",
    "        \n",
    "    def on_validation_epoch_end(self,trainer, pl_module):\n",
    "        val_loss = trainer.logged_metrics[\"val_loss\"].cpu()\n",
    "        self.val_loss_log.append(val_loss)\n",
    "        val_acc = trainer.logged_metrics[\"val_acc\"].cpu()   \n",
    "        self.val_acc_log.append(val_acc)\n",
    "    "
   ]
  },
  {
   "cell_type": "markdown",
   "metadata": {},
   "source": [
    "## Training"
   ]
  },
  {
   "cell_type": "code",
   "execution_count": 56,
   "metadata": {},
   "outputs": [
    {
     "name": "stdout",
     "output_type": "stream",
     "text": [
      "Training device: cpu\n"
     ]
    }
   ],
   "source": [
    "# Check if the GPU is available\n",
    "device = torch.device(\"cuda\") if torch.cuda.is_available() else torch.device(\"cpu\")\n",
    "print(f\"Training device: {device}\")"
   ]
  },
  {
   "cell_type": "code",
   "execution_count": 57,
   "metadata": {},
   "outputs": [
    {
     "name": "stdout",
     "output_type": "stream",
     "text": [
      "CNN initialized\n"
     ]
    }
   ],
   "source": [
    "# Inizialize the network\n",
    "torch.manual_seed(0)\n",
    "net = ConvNet(activation=\"ReLU\", drop_p=0.3)\n",
    "\n",
    "\n",
    "# Define the callbacks\n",
    "metrics_callback =  MetricsCallback()\n",
    "early_stopping = EarlyStopping(monitor=\"val_loss\", patience = 100, mode=\"min\")"
   ]
  },
  {
   "cell_type": "code",
   "execution_count": 58,
   "metadata": {},
   "outputs": [
    {
     "name": "stderr",
     "output_type": "stream",
     "text": [
      "GPU available: False, used: False\n",
      "TPU available: False, using: 0 TPU cores\n",
      "IPU available: False, using: 0 IPUs\n",
      "HPU available: False, using: 0 HPUs\n",
      "\n",
      "  | Name     | Type       | Params\n",
      "----------------------------------------\n",
      "0 | act      | ReLU       | 0     \n",
      "1 | accuracy | Accuracy   | 0     \n",
      "2 | cnn      | Sequential | 13.3 K\n",
      "3 | lin      | Sequential | 67.2 K\n",
      "----------------------------------------\n",
      "80.6 K    Trainable params\n",
      "0         Non-trainable params\n",
      "80.6 K    Total params\n",
      "0.322     Total estimated model params size (MB)\n"
     ]
    },
    {
     "data": {
      "application/vnd.jupyter.widget-view+json": {
       "model_id": "2def0019e1c644fe9a692763be5efb66",
       "version_major": 2,
       "version_minor": 0
      },
      "text/plain": [
       "Sanity Checking: 0it [00:00, ?it/s]"
      ]
     },
     "metadata": {},
     "output_type": "display_data"
    },
    {
     "data": {
      "application/vnd.jupyter.widget-view+json": {
       "model_id": "fcdbc036e4cb4aa78d0c2a3530cff716",
       "version_major": 2,
       "version_minor": 0
      },
      "text/plain": [
       "Training: 0it [00:00, ?it/s]"
      ]
     },
     "metadata": {},
     "output_type": "display_data"
    },
    {
     "data": {
      "application/vnd.jupyter.widget-view+json": {
       "model_id": "234fe7f0dcdb43328c32611c7b441122",
       "version_major": 2,
       "version_minor": 0
      },
      "text/plain": [
       "Validation: 0it [00:00, ?it/s]"
      ]
     },
     "metadata": {},
     "output_type": "display_data"
    },
    {
     "data": {
      "application/vnd.jupyter.widget-view+json": {
       "model_id": "00ddef0533de4c45ba5e5ada0969597e",
       "version_major": 2,
       "version_minor": 0
      },
      "text/plain": [
       "Validation: 0it [00:00, ?it/s]"
      ]
     },
     "metadata": {},
     "output_type": "display_data"
    },
    {
     "data": {
      "application/vnd.jupyter.widget-view+json": {
       "model_id": "c4d21ee3e7714059892778188c559864",
       "version_major": 2,
       "version_minor": 0
      },
      "text/plain": [
       "Validation: 0it [00:00, ?it/s]"
      ]
     },
     "metadata": {},
     "output_type": "display_data"
    },
    {
     "data": {
      "application/vnd.jupyter.widget-view+json": {
       "model_id": "ee8241a939e84a79a10d852ff562f05e",
       "version_major": 2,
       "version_minor": 0
      },
      "text/plain": [
       "Validation: 0it [00:00, ?it/s]"
      ]
     },
     "metadata": {},
     "output_type": "display_data"
    },
    {
     "data": {
      "application/vnd.jupyter.widget-view+json": {
       "model_id": "7c317ff486da40e7a07438c257144336",
       "version_major": 2,
       "version_minor": 0
      },
      "text/plain": [
       "Validation: 0it [00:00, ?it/s]"
      ]
     },
     "metadata": {},
     "output_type": "display_data"
    }
   ],
   "source": [
    "# training\n",
    "trainer = pl.Trainer(max_epochs=5, callbacks=[metrics_callback, early_stopping], accelerator=\"auto\", log_every_n_steps=1)\n",
    "trainer.fit(model=net, train_dataloaders=train_dataloader, val_dataloaders = val_dataloader)"
   ]
  },
  {
   "cell_type": "code",
   "execution_count": 61,
   "metadata": {},
   "outputs": [
    {
     "name": "stdout",
     "output_type": "stream",
     "text": [
      "trained epochs: 5\n"
     ]
    },
    {
     "data": {
      "image/png": "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\n",
      "text/plain": [
       "<Figure size 720x360 with 2 Axes>"
      ]
     },
     "metadata": {
      "needs_background": "light"
     },
     "output_type": "display_data"
    }
   ],
   "source": [
    "### Plot losses\n",
    "fig, ax = plt.subplots(1,2, figsize=(10,5))\n",
    "ax[0].semilogy(metrics_callback.train_loss_log, label=\"Train loss\")\n",
    "ax[0].semilogy(metrics_callback.val_loss_log, label=\"Validation loss\")\n",
    "ax[0].set_xlabel(\"Epoch number\")\n",
    "ax[0].set_ylabel(\"Loss\")\n",
    "ax[0].legend()\n",
    "\n",
    "ax[1].plot(metrics_callback.train_acc_log, label=\"Train accuracy\")\n",
    "ax[1].plot(metrics_callback.val_acc_log, label=\"Validation accuracy\")\n",
    "ax[1].set_xlabel(\"Epoch number\")\n",
    "ax[1].set_ylabel(\"Accuracy\")\n",
    "ax[1].legend()\n",
    "print(\"trained epochs: \"+str(len(metrics_callback.train_loss_log)))"
   ]
  },
  {
   "cell_type": "markdown",
   "metadata": {
    "id": "a7allnjL4BDI",
    "jp-MarkdownHeadingCollapsed": true,
    "tags": []
   },
   "source": [
    "# Conclusion\n",
    "\n",
    "I can finally watch the performance on the test set using the best model found: the artificial neural network (wich works a little better then the SVM). \n",
    "Before this I only need to preprocess the Test Set using MinMax Scaler."
   ]
  },
  {
   "cell_type": "code",
   "execution_count": null,
   "metadata": {
    "colab": {
     "base_uri": "https://localhost:8080/",
     "height": 613
    },
    "id": "aXDMtucQS62C",
    "outputId": "ec2e6eeb-1ddf-4c86-db95-12a8c6ad5076"
   },
   "outputs": [],
   "source": [
    "#run time of final cell: 10minutes more or less\n",
    "\n",
    "import tensorflow\n",
    "import numpy as np\n",
    "import tensorflow \n",
    "from tensorflow.keras.models import Sequential \n",
    "from tensorflow.keras.layers import Input, Dense \n",
    "from tensorflow.keras.utils import to_categorical \n",
    "from keras.utils.vis_utils import plot_model\n",
    "from tensorflow.python.framework.random_seed import set_random_seed\n",
    "from keras.callbacks import EarlyStopping\n",
    "from sklearn.metrics import accuracy_score\n",
    "\n",
    "#preprocessing\n",
    "X_train_val_mm=X_train_val/255\n",
    "X_test_mm=X_test/255\n",
    "y_train_val_cat=to_categorical(Y_train_val,10)\n",
    "\n",
    "#early stopping\n",
    "stop=EarlyStopping(monitor='val_loss', #quantity to be monitored\n",
    "                    mode='min', #we look for decreasing patterns stop \n",
    "                    patience = 15, #number of epochs with no improvements\n",
    "                    verbose = 1)\n",
    "\n",
    "#model defining\n",
    "np.random.seed(123)\n",
    "set_random_seed=2\n",
    "\n",
    "nn_final=Sequential()\n",
    "nn_final.add(Dense(input_dim=features,\n",
    "             units=features,\n",
    "             activation='relu'))\n",
    "nn_final.add(Dense(num_classes,\n",
    "             activation='softmax'))\n",
    "print(nn_final.summary())\n",
    "\n",
    "#compiling and training\n",
    "nn_final.compile(loss='categorical_crossentropy',\n",
    "           optimizer='sgd',\n",
    "           metrics=['accuracy'])\n",
    "train_final=nn_final.fit(X_train_val_mm,y_train_val_cat,\n",
    "             batch_size=16,\n",
    "             verbose=0,\n",
    "             callbacks=stop,\n",
    "             epochs=100,\n",
    "             validation_split=0.1)\n",
    "\n",
    "\n",
    "#display the accuracy and the loss\n",
    "fig = plt.figure(figsize=(7,4))\n",
    "plt.plot(train_final.history['accuracy'])\n",
    "plt.plot(train_final.history['val_accuracy'])\n",
    "plt.plot(train_final.history['loss'])\n",
    "plt.plot(train_final.history['val_loss'])\n",
    "plt.title('model accuracy & loss')\n",
    "plt.ylabel('accuracy / loss')\n",
    "plt.xlabel('epoch')\n",
    "plt.legend(['train accuracy','val accuracy','train loss','val loss'],loc='down right',fontsize='x-large')\n",
    "plt.show()\n",
    "\n",
    "\n",
    "#make prediction on training and validation set\n",
    "y_pred_test_final=nn_final.predict(X_test_mm).argmax(axis = 1) \n",
    "print('Accuracy')\n",
    "print(f'test set: {accuracy_score(Y_test,y_pred_test_final):.5f}')\n",
    "\n",
    "\n",
    "#expected output:\n",
    "#Accuracy\n",
    "#test set: 0.89100"
   ]
  },
  {
   "cell_type": "markdown",
   "metadata": {
    "id": "EgzkJkKRJwrK"
   },
   "source": [
    "The total run time of the notebook is 1 hour and 30 minutes"
   ]
  }
 ],
 "metadata": {
  "colab": {
   "collapsed_sections": [
    "VP4IOS4o4Ogg",
    "qyYUI8Th3f5b",
    "TehSSDy1Jbsx",
    "o6DExZfTLAE9",
    "Xm93nI0cRite",
    "4WBI374lu333",
    "l-5q5BrafMxw",
    "2Dnzhz-uyto7",
    "h7vBSsFVTQAM",
    "eBt3VunKB0Gc",
    "VWNcc7NCQk3t",
    "a7allnjL4BDI"
   ],
   "name": "Project_Fashion_Mnist_Lattaruolo.ipynb",
   "provenance": []
  },
  "kernelspec": {
   "display_name": "Python 3 (ipykernel)",
   "language": "python",
   "name": "python3"
  },
  "language_info": {
   "codemirror_mode": {
    "name": "ipython",
    "version": 3
   },
   "file_extension": ".py",
   "mimetype": "text/x-python",
   "name": "python",
   "nbconvert_exporter": "python",
   "pygments_lexer": "ipython3",
   "version": "3.9.10"
  },
  "vscode": {
   "interpreter": {
    "hash": "ad2bdc8ecc057115af97d19610ffacc2b4e99fae6737bb82f5d7fb13d2f2c186"
   }
  }
 },
 "nbformat": 4,
 "nbformat_minor": 4
}
