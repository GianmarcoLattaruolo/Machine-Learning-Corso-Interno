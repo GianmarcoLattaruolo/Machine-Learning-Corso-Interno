{
  "cells": [
    {
      "cell_type": "markdown",
      "metadata": {
        "id": "VP4IOS4o4Ogg",
        "jp-MarkdownHeadingCollapsed": true,
        "tags": []
      },
      "source": [
        "# Preprocessing the data"
      ]
    },
    {
      "cell_type": "markdown",
      "metadata": {
        "id": "miRsH6QQ4Scy"
      },
      "source": [
        "Function for loading the Dataset."
      ]
    },
    {
      "cell_type": "code",
      "execution_count": 1,
      "metadata": {
        "id": "490C2OoPs4PX"
      },
      "outputs": [],
      "source": [
        "import numpy as np\n",
        "from urllib.request import urlopen\n",
        "\n",
        "def load_fashion_mnist():\n",
        "\n",
        "    url_base = \"https://www.math.unipd.it/~dasan/\"\n",
        "    Y_train = np.frombuffer(urlopen(url_base + \"train-labels-idx1-ubyte\").read(), dtype=np.uint8, offset=8)\n",
        "    X_train = np.frombuffer(urlopen(url_base + \"train-images-idx3-ubyte\").read(), dtype=np.uint8, offset=16).reshape(len(Y_train), 784) \n",
        "                                                                                            \n",
        "    Y_test = np.frombuffer(urlopen(url_base + \"t10k-labels-idx1-ubyte\").read(), dtype=np.uint8, offset=8)\n",
        "    X_test = np.frombuffer(urlopen(url_base + \"t10k-images-idx3-ubyte\").read(), dtype=np.uint8, offset=16).reshape(len(Y_test), 784)\n",
        "\n",
        "    return X_train, Y_train, X_test, Y_test\n",
        "\n",
        "X_train_val, Y_train_val, X_test, Y_test = load_fashion_mnist()\n"
      ]
    },
    {
      "cell_type": "markdown",
      "metadata": {
        "id": "8d14srm8Vh-b"
      },
      "source": [
        "First of all let's have a look of the data. The images are already in grey-scale since every pixel has just one number."
      ]
    },
    {
      "cell_type": "code",
      "execution_count": 2,
      "metadata": {
        "id": "CPzMfoAKxhxQ",
        "outputId": "fd52c13d-3181-4311-9f4d-1709b1814b1f",
        "colab": {
          "base_uri": "https://localhost:8080/",
          "height": 300
        }
      },
      "outputs": [
        {
          "output_type": "stream",
          "name": "stdout",
          "text": [
            "(60000, 784) (60000,) (10000, 784) (10000,)\n",
            "Min: 0\n",
            "Max: 255\n",
            "Mean: 97.25383\n",
            "Min: 0\n",
            "Max: 255\n",
            "Mean: 88.72704\n",
            "Counter({9: 6000, 0: 6000, 3: 6000, 2: 6000, 7: 6000, 5: 6000, 1: 6000, 6: 6000, 4: 6000, 8: 6000})\n"
          ]
        },
        {
          "output_type": "display_data",
          "data": {
            "text/plain": [
              "<Figure size 2160x648 with 10 Axes>"
            ],
            "image/png": "[encoded data removed]"
          },
          "metadata": {
            "needs_background": "light"
          }
        }
      ],
      "source": [
        "import matplotlib.pyplot as plt \n",
        "from collections import Counter\n",
        "\n",
        "print(X_train_val.shape, Y_train_val.shape, X_test.shape, Y_test.shape) #shape of the data\n",
        "#value of the data\n",
        "print(f\"Min: {X_train_val[0].min()}\")\n",
        "print(f\"Max: {X_train_val[0].max()}\")\n",
        "print(f\"Mean: {X_train_val[0].mean():.5f}\")\n",
        "print(f\"Min: {X_train_val[10].min()}\")\n",
        "print(f\"Max: {X_train_val[10].max()}\")\n",
        "print(f\"Mean: {X_train_val[10].mean():.5f}\")\n",
        "#grayscale goes from 0 to 255\n",
        "\n",
        "#what are our images\n",
        "labels_name={\n",
        "    0:'T-shirt/top',\n",
        "    1:'Trouser',\n",
        "    2:'Pullover',\n",
        "    3:'Dress',\n",
        "    4:'Coat',\n",
        "    5:'Sandal',\n",
        "    6:'Shirt',\n",
        "    7:'Sneaker',\n",
        "    8:'Bag',\n",
        "    9:'Ankle boot'\n",
        "}\n",
        "\n",
        "\n",
        "print(Counter(Y_train_val)) #classes are perfectly balanced\n",
        "\n",
        "_, axes = plt.subplots(nrows=1, ncols=10, figsize=(30, 9)) #data displayed\n",
        "for ax, x, label in zip(axes,X_train_val[0:10], Y_train_val[0:10]):\n",
        "  ax.set_axis_off()\n",
        "  X_image=x.reshape(28,28)\n",
        "  ax.imshow(X_image, cmap=plt.cm.gray_r, interpolation=\"nearest\")\n",
        "  ax.set_title(\"Training: %s\" % labels_name[label])"
      ]
    },
    {
      "cell_type": "markdown",
      "metadata": {
        "id": "rPTAfJLUmxdk"
      },
      "source": [
        "Data are perfectly balanced, so far as we know we won't need Under or Over Sampling methods.\n",
        "\n",
        "We build the validation and the training set."
      ]
    },
    {
      "cell_type": "code",
      "execution_count": 3,
      "metadata": {
        "id": "orWFcy3TnNVB",
        "outputId": "3b429426-7442-4574-fa21-c0858621eb83",
        "colab": {
          "base_uri": "https://localhost:8080/"
        }
      },
      "outputs": [
        {
          "output_type": "stream",
          "name": "stdout",
          "text": [
            "(54000, 784) (54000,) (6000, 784) (6000,)\n",
            "Counter({7: 5445, 6: 5435, 1: 5416, 5: 5409, 2: 5398, 3: 5395, 8: 5384, 9: 5381, 0: 5370, 4: 5367})\n"
          ]
        }
      ],
      "source": [
        "from sklearn.model_selection import train_test_split\n",
        "# we prefer a small validation set since dataset is quite big\n",
        "X_train, X_val, y_train, y_val = train_test_split(X_train_val, Y_train_val, test_size=0.1, shuffle=False)\n",
        "print(X_train.shape, y_train.shape, X_val.shape, y_val.shape)\n",
        "print(Counter(y_train))\n",
        "#data are still balanced"
      ]
    },
    {
      "cell_type": "markdown",
      "metadata": {
        "id": "xf7RK0271OBR"
      },
      "source": [
        "Now we build a smaller size for implement some grid search for hyperparameter tuning that do not run in a reasonable time with the whole batch of data."
      ]
    },
    {
      "cell_type": "code",
      "execution_count": 4,
      "metadata": {
        "id": "XkYpGvNnxjm7",
        "outputId": "cfa834bc-8b97-4c58-b040-3579d301ef10",
        "colab": {
          "base_uri": "https://localhost:8080/"
        }
      },
      "outputs": [
        {
          "output_type": "stream",
          "name": "stdout",
          "text": [
            "(5400, 784) (5400,) (600, 784) (600,)\n",
            "Counter({0: 570, 9: 564, 4: 562, 3: 553, 8: 550, 2: 535, 5: 532, 1: 520, 6: 516, 7: 498})\n"
          ]
        }
      ],
      "source": [
        "#smaller data sets\n",
        "X_train_small, X_val_small, y_train_small, y_val_small = train_test_split(X_val, y_val, test_size=0.1, shuffle=False)\n",
        "print(X_train_small.shape, y_train_small.shape, X_val_small.shape, y_val_small.shape)\n",
        "print(Counter(y_train_small))\n",
        "\n",
        "#data more or less balanced"
      ]
    },
    {
      "cell_type": "markdown",
      "metadata": {
        "id": "4WBI374lu333",
        "jp-MarkdownHeadingCollapsed": true,
        "tags": []
      },
      "source": [
        "# Support Vector Machine (SciKit Learn)\n",
        "\n",
        "SVM can run only with small data set, training on the all data takes 3 minutes and make a prediction on the training set takes 14 minutes. For this reason I prefer to avoid to make a prediction for the training set, computing the accuracy score only for the validation set. (Uncomment the cell of the training set to see its accuracy score)"
      ]
    },
    {
      "cell_type": "code",
      "execution_count": 6,
      "metadata": {
        "id": "d6UGSqg5vDLe",
        "outputId": "2eb70ab8-90ad-41c5-dfb3-342d455cbe8b",
        "colab": {
          "base_uri": "https://localhost:8080/"
        }
      },
      "outputs": [
        {
          "output_type": "stream",
          "name": "stdout",
          "text": [
            "Fitting 5 folds for each of 6 candidates, totalling 30 fits\n",
            "{'C': 100, 'kernel': 'rbf'}\n",
            "0.8585185185185186\n"
          ]
        }
      ],
      "source": [
        "from sklearn.metrics import accuracy_score\n",
        "from sklearn.model_selection import GridSearchCV\n",
        "from sklearn import svm\n",
        "\n",
        "#parameters\n",
        "svc_grid_params = {\n",
        "    'C': ( 1, 10, 100),\n",
        "    'kernel': ('rbf', 'linear'),\n",
        "}\n",
        "\n",
        "#grid search object\n",
        "model = svm.SVC(random_state = 123)\n",
        "clf_4 = GridSearchCV(estimator = model,\n",
        "                     param_grid = svc_grid_params, \n",
        "                     scoring='accuracy',\n",
        "                     n_jobs= -1, cv = 5, verbose = 1)\n",
        "\n",
        "#training \n",
        "clf_4.fit(X_train_small,y_train_small)\n",
        "\n",
        "\n",
        "print(clf_4.best_params_)\n",
        "print(clf_4.best_score_)\n",
        "\n",
        "#expected output:\n",
        "#Fitting 5 folds for each of 6 candidates, totalling 30 fits\n",
        "#{'C': 100, 'kernel': 'rbf'}\n",
        "#0.8585185185185186"
      ]
    },
    {
      "cell_type": "code",
      "execution_count": 7,
      "metadata": {
        "id": "J9M_CvSMvOto",
        "outputId": "913abf2e-adbf-44fe-996c-ad10a329612b",
        "colab": {
          "base_uri": "https://localhost:8080/"
        }
      },
      "outputs": [
        {
          "output_type": "stream",
          "name": "stdout",
          "text": [
            "accuracy score SVM on validation set: \t0.89183\n"
          ]
        }
      ],
      "source": [
        "#model definition with best parameters\n",
        "clf_svm=svm.SVC(random_state = 123,\n",
        "                kernel = 'rbf',\n",
        "                C=100)\n",
        "\n",
        "#training \n",
        "clf_svm.fit(X_train,y_train)\n",
        "\n",
        "#make a prediction for the validation set\n",
        "y_pred_svm_val=clf_svm.predict(X_val) \n",
        "print(f\"accuracy score SVM on validation set: \\t{accuracy_score(y_val,y_pred_svm_val):.5f}\")\n",
        "\n",
        "#expected output:\n",
        "#accuracy score SVM on validation set: \t0.89183"
      ]
    },
    {
      "cell_type": "code",
      "execution_count": null,
      "metadata": {
        "id": "9HD9YD5x7JO7"
      },
      "outputs": [],
      "source": [
        "\"\"\"\n",
        "y_pred_svm_train=clf_svm.predict(X_train) \n",
        "print(f\"accuracy score SVM on trainin set: \\t{accuracy_score(y_train,y_pred_svm_train):.5f}\")\n",
        "\"\"\"\n",
        "\n",
        "#expected output\n",
        "#accuracy score SVM on trainin set: \t0.99969"
      ]
    },
    {
      "cell_type": "markdown",
      "metadata": {
        "id": "2Dnzhz-uyto7",
        "jp-MarkdownHeadingCollapsed": true,
        "tags": []
      },
      "source": [
        "# Artificial Neural Network (Keras)\n",
        "\n",
        "In Keras documentation we can read that \"images need to be read and decoded into integer tensors, then converted to floating point and normalized to small values (usually between 0 and 1)\".\n",
        "\n",
        "For this reason in the ANN implementation we use only data preprocessed by Standard Scaler.\n",
        "\n",
        "First of all we implement a function that allows us to make e grid search for the optimal parameters."
      ]
    },
    {
      "cell_type": "code",
      "execution_count": 5,
      "metadata": {
        "id": "ThIn_s6FjFn1"
      },
      "outputs": [],
      "source": [
        "#libraries I need\n",
        "import tensorflow\n",
        "import numpy as np\n",
        "import tensorflow \n",
        "from tensorflow.keras.models import Sequential \n",
        "from tensorflow.keras.layers import Input, Dense \n",
        "from tensorflow.keras.utils import to_categorical \n",
        "from keras.utils.vis_utils import plot_model\n",
        "from tensorflow.python.framework.random_seed import set_random_seed\n",
        "from keras.callbacks import EarlyStopping\n",
        "from sklearn.metrics import accuracy_score"
      ]
    },
    {
      "cell_type": "code",
      "execution_count": 6,
      "metadata": {
        "id": "Pj247o8AibM5"
      },
      "outputs": [],
      "source": [
        "#function for define and train more NN\n",
        "def MLP(X,y,vector_units,n_epochs,stop,n_patience):\n",
        "    #X already scaled\n",
        "    #y not transformed by to_categorical\n",
        "    \n",
        "    #processing data\n",
        "    features=np.shape(X)[1] #the input size\n",
        "    num_classes=len(set(y))\n",
        "    np.random.seed(123)\n",
        "    set_random_seed(2)\n",
        "\n",
        "    model=Sequential()\n",
        "    n_layers=len(vector_units) #we consider only the hidden layer\n",
        "    if n_layers==0:\n",
        "      model.add(Dense(input_dim=features, \n",
        "                      units = num_classes, \n",
        "                      activation= 'softmax'))\n",
        "    else:\n",
        "      for i in range(n_layers):\n",
        "        if i==0:\n",
        "          model.add(Dense(input_dim=features,\n",
        "                          units=vector_units[0],\n",
        "                          activation='relu'))\n",
        "        else: \n",
        "          model.add(Dense(units=vector_units[i],\n",
        "                          activation='relu'))\n",
        "      model.add(Dense(units = num_classes, \n",
        "                      activation= 'softmax'))\n",
        "    \n",
        "    #configure the model\n",
        "    model.compile(loss='categorical_crossentropy', \n",
        "                optimizer='adam', \n",
        "                metrics=['accuracy']) \n",
        "    \n",
        "    #EarlyStopping\n",
        "    if stop=='True':\n",
        "      stop_er=EarlyStopping(monitor='val_loss', #quantity to be monitored\n",
        "                    mode='min', #we look for decreasing patterns stop \n",
        "                    patience = n_patience, #number of epochs with no improvements\n",
        "                    verbose=1)\n",
        "    else:\n",
        "      stop_er=None\n",
        "    #training\n",
        "    y=to_categorical(y,num_classes)\n",
        "    train=model.fit(X,y,epochs=n_epochs,\n",
        "                    batch_size=32, \n",
        "                    verbose=0,\n",
        "                    validation_split=0.1,\n",
        "                    callbacks=stop_er)\n",
        "    \n",
        "    return model,train"
      ]
    },
    {
      "cell_type": "markdown",
      "metadata": {
        "id": "G9rfA3d4PDke"
      },
      "source": [
        "Let's craeate the standardized datasets."
      ]
    },
    {
      "cell_type": "code",
      "execution_count": 7,
      "metadata": {
        "id": "i5noochHlvzu"
      },
      "outputs": [],
      "source": [
        "from sklearn.preprocessing import StandardScaler\n",
        "\n",
        "#standardized dataset\n",
        "standard_scal=StandardScaler().fit(X_train)\n",
        "X_train_ss=standard_scal.transform(X_train) \n",
        "X_val_ss=standard_scal.transform(X_val) \n",
        "\n",
        "#smaller dataset for hyperparameter tuning\n",
        "X_train_ss_small=standard_scal.transform(X_train_small) \n",
        "X_val_ss_small=standard_scal.transform(X_val_small) \n",
        "\n",
        "#one hot encoding\n",
        "y_train_c = to_categorical(y_train,10)\n",
        "y_val_c = to_categorical(y_val,10)\n",
        "y_train_cs = to_categorical(y_train_small,10)\n",
        "y_val_cs = to_categorical(y_val_small,10)\n"
      ]
    },
    {
      "cell_type": "markdown",
      "metadata": {
        "id": "87faU3Ucjzrf"
      },
      "source": [
        "Now we can train several NN to find the best parameters.\n",
        "Even though we used the smaller data set this cell requires 15 or more minutes to run."
      ]
    },
    {
      "cell_type": "code",
      "execution_count": 8,
      "metadata": {
        "id": "IVcs72Yry8PH",
        "outputId": "f489e491-8f25-4e5d-fac4-b9a9a1191d9e",
        "colab": {
          "base_uri": "https://localhost:8080/",
          "height": 1000
        }
      },
      "outputs": [
        {
          "output_type": "stream",
          "name": "stdout",
          "text": [
            "Epoch 10: early stopping\n",
            "0\n",
            "Epoch 20: early stopping\n",
            "1\n",
            "Epoch 30: early stopping\n",
            "2\n",
            "Epoch 10: early stopping\n",
            "3\n",
            "Epoch 20: early stopping\n",
            "4\n",
            "Epoch 33: early stopping\n",
            "5\n",
            "Epoch 10: early stopping\n",
            "6\n",
            "Epoch 20: early stopping\n",
            "7\n",
            "Epoch 30: early stopping\n",
            "8\n",
            "Epoch 10: early stopping\n",
            "9\n",
            "Epoch 20: early stopping\n",
            "10\n",
            "Epoch 30: early stopping\n",
            "11\n",
            "\n",
            "\n",
            "\n",
            "\n",
            "Model: \"sequential_9\"\n",
            "_________________________________________________________________\n",
            " Layer (type)                Output Shape              Param #   \n",
            "=================================================================\n",
            " dense_21 (Dense)            (None, 784)               615440    \n",
            "                                                                 \n",
            " dense_22 (Dense)            (None, 10)                7850      \n",
            "                                                                 \n",
            " dense_23 (Dense)            (None, 10)                110       \n",
            "                                                                 \n",
            "=================================================================\n",
            "Total params: 623,400\n",
            "Trainable params: 623,400\n",
            "Non-trainable params: 0\n",
            "_________________________________________________________________\n",
            "None\n",
            "best parameters:  [[784, 10], 500, 5]\n"
          ]
        },
        {
          "output_type": "display_data",
          "data": {
            "text/plain": [
              "<Figure size 432x288 with 1 Axes>"
            ],
            "image/png": "[encoded data removed]"
          },
          "metadata": {
            "needs_background": "light"
          }
        }
      ],
      "source": [
        "#parameters of the function\n",
        "\n",
        "#to avoid a 50 minutes run we put a shortes version of vector_units_list but the results is the same\n",
        "# vector_units_list=[[784],[784,10],[500,200],[784,100,50],[784,200,50,10]] #long research\n",
        "vector_units_list=[[784],[784,10]]\n",
        "n_epochs_list=[100,500]\n",
        "n_patience_list=[5,15,25]\n",
        "stop='True'\n",
        "#let save the maximum accuracy\n",
        "acc=0\n",
        "accuracy_test=[]\n",
        "i=0\n",
        "#grid-search\n",
        "for n_epochs in n_epochs_list:\n",
        "  for vector in vector_units_list:\n",
        "    for n_patience in n_patience_list:\n",
        "\n",
        "      #train a NN \n",
        "      m,t=MLP(X_train_ss_small,y_train_small,vector,n_epochs,stop,n_patience)\n",
        "      print(i)\n",
        "      i+=1\n",
        "      #save the greater accuracy\n",
        "      accuracy_val=m.evaluate(X_val_ss_small,y_val_cs,verbose=0)[1]\n",
        "      if accuracy_val>acc:\n",
        "        acc=accuracy_val\n",
        "        win=[vector,n_epochs,n_patience]\n",
        "        model=m\n",
        "        accuracy_test.append(accuracy_val)\n",
        "\n",
        "print('\\n\\n\\n')\n",
        "print(model.summary())\n",
        "print('best parameters: ',win)\n",
        "plt.plot(accuracy_test)\n",
        "plt.title(f\"accuracy growing\")\n",
        "plt.ylabel('accuracy')\n",
        "plt.xlabel('grid search')\n",
        "plt.legend(['test acc'], loc='upper left')\n",
        "plt.show()\n",
        "\n",
        "#expected output:\n",
        "# best parameters: [[784], 100, 15]"
      ]
    },
    {
      "cell_type": "markdown",
      "metadata": {
        "id": "pK_fZLjvk4DI"
      },
      "source": [
        "Now I can train on the whole batch of data one Artificial Neural Network with the best parameters found."
      ]
    },
    {
      "cell_type": "code",
      "execution_count": 14,
      "metadata": {
        "id": "R7PNQAczzMcg",
        "outputId": "8c4d2bdc-dc50-47c8-9277-5f0ef1d53130",
        "colab": {
          "base_uri": "https://localhost:8080/"
        }
      },
      "outputs": [
        {
          "output_type": "stream",
          "name": "stdout",
          "text": [
            "Model: \"sequential_13\"\n",
            "_________________________________________________________________\n",
            " Layer (type)                Output Shape              Param #   \n",
            "=================================================================\n",
            " dense_33 (Dense)            (None, 784)               615440    \n",
            "                                                                 \n",
            " dense_34 (Dense)            (None, 10)                7850      \n",
            "                                                                 \n",
            " dense_35 (Dense)            (None, 10)                110       \n",
            "                                                                 \n",
            "=================================================================\n",
            "Total params: 623,400\n",
            "Trainable params: 623,400\n",
            "Non-trainable params: 0\n",
            "_________________________________________________________________\n",
            "None\n",
            "Epoch 14: early stopping\n"
          ]
        }
      ],
      "source": [
        "#runtime= ~10 minutes\n",
        "\n",
        "#early stopping\n",
        "stop=EarlyStopping(monitor='val_loss', #quantity to be monitored\n",
        "                    mode='min', #we look for decreasing patterns stop \n",
        "                    patience = 5, #number of epochs with no improvements\n",
        "                    verbose = 1)\n",
        "#data\n",
        "features=np.shape(X_train)[1]\n",
        "num_classes=10 \n",
        "\n",
        "#model defining\n",
        "np.random.seed(123)\n",
        "set_random_seed=2\n",
        "\n",
        "nn=Sequential()\n",
        "nn.add(Dense(input_dim=features,\n",
        "             units=features,\n",
        "             activation='relu'))\n",
        "nn.add(Dense(units=10,\n",
        "             activation='relu'))\n",
        "nn.add(Dense(num_classes,\n",
        "             activation='softmax'))\n",
        "print(nn.summary())\n",
        "\n",
        "#compiling and training\n",
        "nn.compile(loss='categorical_crossentropy',\n",
        "           optimizer='sgd',\n",
        "           metrics=['accuracy'])\n",
        "train=nn.fit(X_train_ss,y_train_c,\n",
        "             batch_size=32,\n",
        "             verbose=0,\n",
        "             callbacks=stop,\n",
        "             epochs=500,\n",
        "             validation_split=0.1)\n"
      ]
    },
    {
      "cell_type": "code",
      "execution_count": 16,
      "metadata": {
        "id": "Ptn1BME5zteU",
        "outputId": "728f4404-4803-4f31-d4df-c078ef17ae9f",
        "colab": {
          "base_uri": "https://localhost:8080/",
          "height": 330
        }
      },
      "outputs": [
        {
          "output_type": "display_data",
          "data": {
            "text/plain": [
              "<Figure size 432x288 with 1 Axes>"
            ],
            "image/png": "[encoded data removed]"
          },
          "metadata": {
            "needs_background": "light"
          }
        },
        {
          "output_type": "stream",
          "name": "stdout",
          "text": [
            "Standard Scaler\n",
            "acc on train set: 0.94111, acc on validation set:0.88550\n"
          ]
        }
      ],
      "source": [
        "#display the accuracy \n",
        "plt.plot(train.history['accuracy'])\n",
        "plt.plot(train.history['val_accuracy'])\n",
        "plt.title('model accuracy')\n",
        "plt.ylabel('accuracy')\n",
        "plt.xlabel('epoch')\n",
        "plt.legend(['train','validation split'],loc='lower right',fontsize='x-large')\n",
        "plt.show()\n",
        "\n",
        "\n",
        "#make prediction on training and validation set\n",
        "y_pred_train_ss=nn.predict(X_train_ss).argmax(axis = 1) \n",
        "y_pred_val_ss=nn.predict(X_val_ss).argmax(axis = 1) \n",
        "print('Standard Scaler')\n",
        "print(f'acc on train set: {accuracy_score(y_train,y_pred_train_ss):.5f}, acc on validation set:{accuracy_score(y_val,y_pred_val_ss):.5f}')\n",
        "\n",
        "\n",
        "\n",
        "#expected output:\n",
        "#minmax\n",
        "#acc on train set: 0.94111, acc on validation set:0.88550\n"
      ]
    },
    {
      "cell_type": "markdown",
      "metadata": {
        "tags": [],
        "id": "IrEGVHiJvTWz"
      },
      "source": [
        "# Convolutional Neural Network (Pytorch)"
      ]
    },
    {
      "cell_type": "code",
      "execution_count": 18,
      "metadata": {
        "id": "zIubq2yWvTWz",
        "outputId": "2fed572f-dcd4-4f8c-9a9b-fa5771a370b0",
        "colab": {
          "base_uri": "https://localhost:8080/"
        }
      },
      "outputs": [
        {
          "output_type": "stream",
          "name": "stdout",
          "text": [
            "Looking in indexes: https://pypi.org/simple, https://us-python.pkg.dev/colab-wheels/public/simple/\n",
            "Requirement already satisfied: torch in /usr/local/lib/python3.7/dist-packages (1.12.0+cu113)\n",
            "Requirement already satisfied: torchvision in /usr/local/lib/python3.7/dist-packages (0.13.0+cu113)\n",
            "Requirement already satisfied: torchaudio in /usr/local/lib/python3.7/dist-packages (0.12.0+cu113)\n",
            "Requirement already satisfied: typing-extensions in /usr/local/lib/python3.7/dist-packages (from torch) (4.1.1)\n",
            "Requirement already satisfied: pillow!=8.3.*,>=5.3.0 in /usr/local/lib/python3.7/dist-packages (from torchvision) (7.1.2)\n",
            "Requirement already satisfied: numpy in /usr/local/lib/python3.7/dist-packages (from torchvision) (1.21.6)\n",
            "Requirement already satisfied: requests in /usr/local/lib/python3.7/dist-packages (from torchvision) (2.23.0)\n",
            "Requirement already satisfied: idna<3,>=2.5 in /usr/local/lib/python3.7/dist-packages (from requests->torchvision) (2.10)\n",
            "Requirement already satisfied: urllib3!=1.25.0,!=1.25.1,<1.26,>=1.21.1 in /usr/local/lib/python3.7/dist-packages (from requests->torchvision) (1.24.3)\n",
            "Requirement already satisfied: certifi>=2017.4.17 in /usr/local/lib/python3.7/dist-packages (from requests->torchvision) (2022.6.15)\n",
            "Requirement already satisfied: chardet<4,>=3.0.2 in /usr/local/lib/python3.7/dist-packages (from requests->torchvision) (3.0.4)\n",
            "Looking in indexes: https://pypi.org/simple, https://us-python.pkg.dev/colab-wheels/public/simple/\n",
            "Collecting pytorch-lightning\n",
            "  Downloading pytorch_lightning-1.6.5-py3-none-any.whl (585 kB)\n",
            "\u001b[K     |████████████████████████████████| 585 kB 5.0 MB/s \n",
            "\u001b[?25hRequirement already satisfied: tqdm>=4.57.0 in /usr/local/lib/python3.7/dist-packages (from pytorch-lightning) (4.64.0)\n",
            "Requirement already satisfied: numpy>=1.17.2 in /usr/local/lib/python3.7/dist-packages (from pytorch-lightning) (1.21.6)\n",
            "Collecting fsspec[http]!=2021.06.0,>=2021.05.0\n",
            "  Downloading fsspec-2022.5.0-py3-none-any.whl (140 kB)\n",
            "\u001b[K     |████████████████████████████████| 140 kB 75.9 MB/s \n",
            "\u001b[?25hRequirement already satisfied: packaging>=17.0 in /usr/local/lib/python3.7/dist-packages (from pytorch-lightning) (21.3)\n",
            "Requirement already satisfied: protobuf<=3.20.1 in /usr/local/lib/python3.7/dist-packages (from pytorch-lightning) (3.17.3)\n",
            "Requirement already satisfied: torch>=1.8.* in /usr/local/lib/python3.7/dist-packages (from pytorch-lightning) (1.12.0+cu113)\n",
            "Collecting PyYAML>=5.4\n",
            "  Downloading PyYAML-6.0-cp37-cp37m-manylinux_2_5_x86_64.manylinux1_x86_64.manylinux_2_12_x86_64.manylinux2010_x86_64.whl (596 kB)\n",
            "\u001b[K     |████████████████████████████████| 596 kB 67.1 MB/s \n",
            "\u001b[?25hRequirement already satisfied: typing-extensions>=4.0.0 in /usr/local/lib/python3.7/dist-packages (from pytorch-lightning) (4.1.1)\n",
            "Collecting torchmetrics>=0.4.1\n",
            "  Downloading torchmetrics-0.9.2-py3-none-any.whl (419 kB)\n",
            "\u001b[K     |████████████████████████████████| 419 kB 68.0 MB/s \n",
            "\u001b[?25hCollecting pyDeprecate>=0.3.1\n",
            "  Downloading pyDeprecate-0.3.2-py3-none-any.whl (10 kB)\n",
            "Requirement already satisfied: tensorboard>=2.2.0 in /usr/local/lib/python3.7/dist-packages (from pytorch-lightning) (2.8.0)\n",
            "Requirement already satisfied: requests in /usr/local/lib/python3.7/dist-packages (from fsspec[http]!=2021.06.0,>=2021.05.0->pytorch-lightning) (2.23.0)\n",
            "Collecting aiohttp\n",
            "  Downloading aiohttp-3.8.1-cp37-cp37m-manylinux_2_5_x86_64.manylinux1_x86_64.manylinux_2_12_x86_64.manylinux2010_x86_64.whl (1.1 MB)\n",
            "\u001b[K     |████████████████████████████████| 1.1 MB 61.1 MB/s \n",
            "\u001b[?25hRequirement already satisfied: pyparsing!=3.0.5,>=2.0.2 in /usr/local/lib/python3.7/dist-packages (from packaging>=17.0->pytorch-lightning) (3.0.9)\n",
            "Requirement already satisfied: six>=1.9 in /usr/local/lib/python3.7/dist-packages (from protobuf<=3.20.1->pytorch-lightning) (1.15.0)\n",
            "Requirement already satisfied: grpcio>=1.24.3 in /usr/local/lib/python3.7/dist-packages (from tensorboard>=2.2.0->pytorch-lightning) (1.47.0)\n",
            "Requirement already satisfied: tensorboard-plugin-wit>=1.6.0 in /usr/local/lib/python3.7/dist-packages (from tensorboard>=2.2.0->pytorch-lightning) (1.8.1)\n",
            "Requirement already satisfied: werkzeug>=0.11.15 in /usr/local/lib/python3.7/dist-packages (from tensorboard>=2.2.0->pytorch-lightning) (1.0.1)\n",
            "Requirement already satisfied: absl-py>=0.4 in /usr/local/lib/python3.7/dist-packages (from tensorboard>=2.2.0->pytorch-lightning) (1.1.0)\n",
            "Requirement already satisfied: google-auth-oauthlib<0.5,>=0.4.1 in /usr/local/lib/python3.7/dist-packages (from tensorboard>=2.2.0->pytorch-lightning) (0.4.6)\n",
            "Requirement already satisfied: tensorboard-data-server<0.7.0,>=0.6.0 in /usr/local/lib/python3.7/dist-packages (from tensorboard>=2.2.0->pytorch-lightning) (0.6.1)\n",
            "Requirement already satisfied: google-auth<3,>=1.6.3 in /usr/local/lib/python3.7/dist-packages (from tensorboard>=2.2.0->pytorch-lightning) (1.35.0)\n",
            "Requirement already satisfied: markdown>=2.6.8 in /usr/local/lib/python3.7/dist-packages (from tensorboard>=2.2.0->pytorch-lightning) (3.3.7)\n",
            "Requirement already satisfied: setuptools>=41.0.0 in /usr/local/lib/python3.7/dist-packages (from tensorboard>=2.2.0->pytorch-lightning) (57.4.0)\n",
            "Requirement already satisfied: wheel>=0.26 in /usr/local/lib/python3.7/dist-packages (from tensorboard>=2.2.0->pytorch-lightning) (0.37.1)\n",
            "Requirement already satisfied: pyasn1-modules>=0.2.1 in /usr/local/lib/python3.7/dist-packages (from google-auth<3,>=1.6.3->tensorboard>=2.2.0->pytorch-lightning) (0.2.8)\n",
            "Requirement already satisfied: rsa<5,>=3.1.4 in /usr/local/lib/python3.7/dist-packages (from google-auth<3,>=1.6.3->tensorboard>=2.2.0->pytorch-lightning) (4.8)\n",
            "Requirement already satisfied: cachetools<5.0,>=2.0.0 in /usr/local/lib/python3.7/dist-packages (from google-auth<3,>=1.6.3->tensorboard>=2.2.0->pytorch-lightning) (4.2.4)\n",
            "Requirement already satisfied: requests-oauthlib>=0.7.0 in /usr/local/lib/python3.7/dist-packages (from google-auth-oauthlib<0.5,>=0.4.1->tensorboard>=2.2.0->pytorch-lightning) (1.3.1)\n",
            "Requirement already satisfied: importlib-metadata>=4.4 in /usr/local/lib/python3.7/dist-packages (from markdown>=2.6.8->tensorboard>=2.2.0->pytorch-lightning) (4.12.0)\n",
            "Requirement already satisfied: zipp>=0.5 in /usr/local/lib/python3.7/dist-packages (from importlib-metadata>=4.4->markdown>=2.6.8->tensorboard>=2.2.0->pytorch-lightning) (3.8.0)\n",
            "Requirement already satisfied: pyasn1<0.5.0,>=0.4.6 in /usr/local/lib/python3.7/dist-packages (from pyasn1-modules>=0.2.1->google-auth<3,>=1.6.3->tensorboard>=2.2.0->pytorch-lightning) (0.4.8)\n",
            "Requirement already satisfied: certifi>=2017.4.17 in /usr/local/lib/python3.7/dist-packages (from requests->fsspec[http]!=2021.06.0,>=2021.05.0->pytorch-lightning) (2022.6.15)\n",
            "Requirement already satisfied: idna<3,>=2.5 in /usr/local/lib/python3.7/dist-packages (from requests->fsspec[http]!=2021.06.0,>=2021.05.0->pytorch-lightning) (2.10)\n",
            "Requirement already satisfied: urllib3!=1.25.0,!=1.25.1,<1.26,>=1.21.1 in /usr/local/lib/python3.7/dist-packages (from requests->fsspec[http]!=2021.06.0,>=2021.05.0->pytorch-lightning) (1.24.3)\n",
            "Requirement already satisfied: chardet<4,>=3.0.2 in /usr/local/lib/python3.7/dist-packages (from requests->fsspec[http]!=2021.06.0,>=2021.05.0->pytorch-lightning) (3.0.4)\n",
            "Requirement already satisfied: oauthlib>=3.0.0 in /usr/local/lib/python3.7/dist-packages (from requests-oauthlib>=0.7.0->google-auth-oauthlib<0.5,>=0.4.1->tensorboard>=2.2.0->pytorch-lightning) (3.2.0)\n",
            "Requirement already satisfied: charset-normalizer<3.0,>=2.0 in /usr/local/lib/python3.7/dist-packages (from aiohttp->fsspec[http]!=2021.06.0,>=2021.05.0->pytorch-lightning) (2.1.0)\n",
            "Collecting aiosignal>=1.1.2\n",
            "  Downloading aiosignal-1.2.0-py3-none-any.whl (8.2 kB)\n",
            "Collecting yarl<2.0,>=1.0\n",
            "  Downloading yarl-1.7.2-cp37-cp37m-manylinux_2_5_x86_64.manylinux1_x86_64.manylinux_2_12_x86_64.manylinux2010_x86_64.whl (271 kB)\n",
            "\u001b[K     |████████████████████████████████| 271 kB 75.3 MB/s \n",
            "\u001b[?25hCollecting frozenlist>=1.1.1\n",
            "  Downloading frozenlist-1.3.0-cp37-cp37m-manylinux_2_5_x86_64.manylinux1_x86_64.manylinux_2_17_x86_64.manylinux2014_x86_64.whl (144 kB)\n",
            "\u001b[K     |████████████████████████████████| 144 kB 63.9 MB/s \n",
            "\u001b[?25hCollecting asynctest==0.13.0\n",
            "  Downloading asynctest-0.13.0-py3-none-any.whl (26 kB)\n",
            "Requirement already satisfied: attrs>=17.3.0 in /usr/local/lib/python3.7/dist-packages (from aiohttp->fsspec[http]!=2021.06.0,>=2021.05.0->pytorch-lightning) (21.4.0)\n",
            "Collecting async-timeout<5.0,>=4.0.0a3\n",
            "  Downloading async_timeout-4.0.2-py3-none-any.whl (5.8 kB)\n",
            "Collecting multidict<7.0,>=4.5\n",
            "  Downloading multidict-6.0.2-cp37-cp37m-manylinux_2_17_x86_64.manylinux2014_x86_64.whl (94 kB)\n",
            "\u001b[K     |████████████████████████████████| 94 kB 4.0 MB/s \n",
            "\u001b[?25hInstalling collected packages: multidict, frozenlist, yarl, asynctest, async-timeout, aiosignal, fsspec, aiohttp, torchmetrics, PyYAML, pyDeprecate, pytorch-lightning\n",
            "  Attempting uninstall: PyYAML\n",
            "    Found existing installation: PyYAML 3.13\n",
            "    Uninstalling PyYAML-3.13:\n",
            "      Successfully uninstalled PyYAML-3.13\n",
            "Successfully installed PyYAML-6.0 aiohttp-3.8.1 aiosignal-1.2.0 async-timeout-4.0.2 asynctest-0.13.0 frozenlist-1.3.0 fsspec-2022.5.0 multidict-6.0.2 pyDeprecate-0.3.2 pytorch-lightning-1.6.5 torchmetrics-0.9.2 yarl-1.7.2\n",
            "Looking in indexes: https://pypi.org/simple, https://us-python.pkg.dev/colab-wheels/public/simple/\n",
            "Requirement already satisfied: torchmetrics in /usr/local/lib/python3.7/dist-packages (0.9.2)\n",
            "Requirement already satisfied: numpy>=1.17.2 in /usr/local/lib/python3.7/dist-packages (from torchmetrics) (1.21.6)\n",
            "Requirement already satisfied: typing-extensions in /usr/local/lib/python3.7/dist-packages (from torchmetrics) (4.1.1)\n",
            "Requirement already satisfied: torch>=1.3.1 in /usr/local/lib/python3.7/dist-packages (from torchmetrics) (1.12.0+cu113)\n",
            "Requirement already satisfied: packaging in /usr/local/lib/python3.7/dist-packages (from torchmetrics) (21.3)\n",
            "Requirement already satisfied: pyparsing!=3.0.5,>=2.0.2 in /usr/local/lib/python3.7/dist-packages (from packaging->torchmetrics) (3.0.9)\n"
          ]
        }
      ],
      "source": [
        "# install for colab\n",
        "!pip install torch torchvision torchaudio\n",
        "!pip install pytorch-lightning\n",
        "!pip install torchmetrics\n",
        "\n",
        "# windows - conda - cpu\n",
        "# !conda install pytorch torchvision torchaudio cpuonly -c pytorch\n",
        "# !conda install -c conda-forge pytorch-lightning\n",
        "# !conda install -c conda-forge torchmetrics"
      ]
    },
    {
      "cell_type": "code",
      "execution_count": 19,
      "metadata": {
        "id": "zeWMH5RhvTW0"
      },
      "outputs": [],
      "source": [
        "# Pytorch import\n",
        "import torch\n",
        "import torch.nn as nn\n",
        "import torch.optim as optim\n",
        "import torchmetrics\n",
        "import pytorch_lightning as pl\n",
        "from pytorch_lightning import Callback\n",
        "from torch.utils.data import Dataset, DataLoader, random_split, ConcatDataset, Subset\n",
        "from torchvision import transforms, datasets\n",
        "from pytorch_lightning.callbacks.early_stopping import EarlyStopping \n",
        "\n",
        "\n",
        "import matplotlib.pyplot as plt\n",
        "import numpy as np"
      ]
    },
    {
      "cell_type": "markdown",
      "metadata": {
        "id": "Ee0ToKYqvTW1"
      },
      "source": [
        "## Dataset and Dataloaders"
      ]
    },
    {
      "cell_type": "code",
      "execution_count": 20,
      "metadata": {
        "id": "2dAHbv4tvTW1",
        "outputId": "104ca81d-c9a9-4562-f49c-1d12ed0496b3",
        "colab": {
          "base_uri": "https://localhost:8080/",
          "height": 423,
          "referenced_widgets": [
            "5089d35cc2d3496ab27203cc5795146f",
            "ed7bbb6857ed4b9899522a0c602a5348",
            "9fbfeaf61acf488095344489df1f423b",
            "0d255434e31d45198dff3b5fdc4e7392",
            "7786a4637f9140fb94c979ad0e929929",
            "c25697643f6e4ad0bfd0dd2af163084b",
            "c8cb4620d2194610b9fecc65110044f2",
            "5cc28ec0b25a4f68945d3e210222ff8a",
            "1f73870489184c05876cccd0bf242f8c",
            "9197a7e598a74a2d809fe43fab94ea09",
            "16cc747de61b42eda42e609f31b18728",
            "07482b3eda5643a0ab39a8964e7acfd7",
            "fb081271e36748e999a41e7885c1a564",
            "cc357464f9504c1a8aa5153a2ac467aa",
            "779cc1c9d8034112b2a425ab0c55a61d",
            "fce686daba7d42b4adfc9104c9fb553a",
            "5843c2f7b1ac4398b9b1d2bfa9697db7",
            "0aeca9fe780b40a88d6e951739a4f2f3",
            "92f9e396f2cc4abea94127d03115b44f",
            "ee984d6cf12948bd93f3f215973fedd0",
            "c63ec4284ecf46fa9503ec49931c3815",
            "5acffc219cd54ecca3f280c7cc2019be",
            "4acbca9d3f814141aa008dd7659f2ae7",
            "99f22cffe83746309b5c7691535177c5",
            "6040ecfac7684bc3ae88e3f6e15e1849",
            "20c329041a774fc19142abec3c19dc5f",
            "8f24366e03c44bdf81071543c6ac2887",
            "c42ea9d3cdc048ecbe86f7c0e5b51dc0",
            "faa0d4663c2443cf8a31198b35cfd1f1",
            "e6e27ebe52694038817792dbdae4bce1",
            "bfa967e6d0e1422d94e55f4ad27820b4",
            "1138c732fbde40b5a9a0bddc6958e195",
            "2215b269d5644c14b76335c848b14a41",
            "e52996324a3c4a3eaf88ee788ce08ac4",
            "8fbe9ed8b2734702bfbe46f2109db04e",
            "28bb3becc86543bbaf8be4ad8bb5e25d",
            "a40179ff3abe4321b7a24cbd232bef68",
            "9a741b9bcc7f48fdb4205d84b8af1f64",
            "2586afe409e848499881fb8a35d2ab96",
            "49d187d27cbd46219f679ee8dfe8e739",
            "498137db8eed43a0885a7e8aa90515a1",
            "6885492b329e482096e16738350a60cc",
            "7537e9b044b94f1f98bddf733d680fd1",
            "31f2e8428ad14b6fac76ea86c7ca7985"
          ]
        }
      },
      "outputs": [
        {
          "output_type": "stream",
          "name": "stdout",
          "text": [
            "Downloading http://fashion-mnist.s3-website.eu-central-1.amazonaws.com/train-images-idx3-ubyte.gz\n",
            "Downloading http://fashion-mnist.s3-website.eu-central-1.amazonaws.com/train-images-idx3-ubyte.gz to FashionMNIST/FashionMNIST/raw/train-images-idx3-ubyte.gz\n"
          ]
        },
        {
          "output_type": "display_data",
          "data": {
            "text/plain": [
              "  0%|          | 0/26421880 [00:00<?, ?it/s]"
            ],
            "application/vnd.jupyter.widget-view+json": {
              "version_major": 2,
              "version_minor": 0,
              "model_id": "5089d35cc2d3496ab27203cc5795146f"
            }
          },
          "metadata": {}
        },
        {
          "output_type": "stream",
          "name": "stdout",
          "text": [
            "Extracting FashionMNIST/FashionMNIST/raw/train-images-idx3-ubyte.gz to FashionMNIST/FashionMNIST/raw\n",
            "\n",
            "Downloading http://fashion-mnist.s3-website.eu-central-1.amazonaws.com/train-labels-idx1-ubyte.gz\n",
            "Downloading http://fashion-mnist.s3-website.eu-central-1.amazonaws.com/train-labels-idx1-ubyte.gz to FashionMNIST/FashionMNIST/raw/train-labels-idx1-ubyte.gz\n"
          ]
        },
        {
          "output_type": "display_data",
          "data": {
            "text/plain": [
              "  0%|          | 0/29515 [00:00<?, ?it/s]"
            ],
            "application/vnd.jupyter.widget-view+json": {
              "version_major": 2,
              "version_minor": 0,
              "model_id": "07482b3eda5643a0ab39a8964e7acfd7"
            }
          },
          "metadata": {}
        },
        {
          "output_type": "stream",
          "name": "stdout",
          "text": [
            "Extracting FashionMNIST/FashionMNIST/raw/train-labels-idx1-ubyte.gz to FashionMNIST/FashionMNIST/raw\n",
            "\n",
            "Downloading http://fashion-mnist.s3-website.eu-central-1.amazonaws.com/t10k-images-idx3-ubyte.gz\n",
            "Downloading http://fashion-mnist.s3-website.eu-central-1.amazonaws.com/t10k-images-idx3-ubyte.gz to FashionMNIST/FashionMNIST/raw/t10k-images-idx3-ubyte.gz\n"
          ]
        },
        {
          "output_type": "display_data",
          "data": {
            "text/plain": [
              "  0%|          | 0/4422102 [00:00<?, ?it/s]"
            ],
            "application/vnd.jupyter.widget-view+json": {
              "version_major": 2,
              "version_minor": 0,
              "model_id": "4acbca9d3f814141aa008dd7659f2ae7"
            }
          },
          "metadata": {}
        },
        {
          "output_type": "stream",
          "name": "stdout",
          "text": [
            "Extracting FashionMNIST/FashionMNIST/raw/t10k-images-idx3-ubyte.gz to FashionMNIST/FashionMNIST/raw\n",
            "\n",
            "Downloading http://fashion-mnist.s3-website.eu-central-1.amazonaws.com/t10k-labels-idx1-ubyte.gz\n",
            "Downloading http://fashion-mnist.s3-website.eu-central-1.amazonaws.com/t10k-labels-idx1-ubyte.gz to FashionMNIST/FashionMNIST/raw/t10k-labels-idx1-ubyte.gz\n"
          ]
        },
        {
          "output_type": "display_data",
          "data": {
            "text/plain": [
              "  0%|          | 0/5148 [00:00<?, ?it/s]"
            ],
            "application/vnd.jupyter.widget-view+json": {
              "version_major": 2,
              "version_minor": 0,
              "model_id": "e52996324a3c4a3eaf88ee788ce08ac4"
            }
          },
          "metadata": {}
        },
        {
          "output_type": "stream",
          "name": "stdout",
          "text": [
            "Extracting FashionMNIST/FashionMNIST/raw/t10k-labels-idx1-ubyte.gz to FashionMNIST/FashionMNIST/raw\n",
            "\n"
          ]
        }
      ],
      "source": [
        "### Dataset\n",
        "\n",
        "dataset = datasets.FashionMNIST('FashionMNIST', train = True, download = True,\n",
        "                             transform = transforms.Compose([\n",
        "                               transforms.ToTensor(),\n",
        "                                transforms.Normalize(0.0, 1.0, inplace=True),\n",
        "                                 transforms.RandomAffine(10, (0.1,0.1), (0.95,1)),\n",
        "                                 transforms.RandomCrop((28,28))\n",
        "                             ]))\n",
        "\n",
        "test_data = datasets.FashionMNIST('FashionMNIST', train = False, download = True,\n",
        "                             transform=transforms.Compose([\n",
        "                               transforms.ToTensor(),\n",
        "                                 transforms.Normalize(0.0, 1.0, inplace=True)\n",
        "                             ]))\n",
        "\n",
        "# Divide data dataset in train dataset and val dataset\n",
        "train_data, val_data = torch.utils.data.random_split(dataset, [50000, 10000])"
      ]
    },
    {
      "cell_type": "code",
      "execution_count": 21,
      "metadata": {
        "id": "WBCzWV8hvTW2"
      },
      "outputs": [],
      "source": [
        "### Dataloaders\n",
        "batch_size = 128\n",
        "train_dataloader = DataLoader(train_data, batch_size = batch_size, shuffle = True, num_workers=0)\n",
        "val_dataloader = DataLoader(val_data, batch_size = batch_size, shuffle=True, num_workers=0)\n",
        "test_dataloader = DataLoader(test_data, batch_size = 1, shuffle=True, num_workers=0)"
      ]
    },
    {
      "cell_type": "code",
      "execution_count": 22,
      "metadata": {
        "id": "9WC4NgKAvTW3",
        "outputId": "37c54d3b-2fce-4b8f-87be-d78bd47754e2",
        "colab": {
          "base_uri": "https://localhost:8080/",
          "height": 466
        }
      },
      "outputs": [
        {
          "output_type": "display_data",
          "data": {
            "text/plain": [
              "<Figure size 576x576 with 16 Axes>"
            ],
            "image/png": "[encoded data removed]"
          },
          "metadata": {
            "needs_background": "light"
          }
        }
      ],
      "source": [
        "# Plot some samples\n",
        "figure = plt.figure(figsize=(8, 8))\n",
        "cols, rows = 4,4\n",
        "\n",
        "\n",
        "for i in range(1,cols * rows+1):\n",
        "    sample_idx = torch.randint(len(train_data), size=(1,)).item()\n",
        "    img, label = dataset[sample_idx]\n",
        "    figure.add_subplot(rows, cols, i)\n",
        "    plt.axis(\"off\")\n",
        "    plt.imshow(img.squeeze(), cmap=\"gray\")\n",
        "plt.show()"
      ]
    },
    {
      "cell_type": "markdown",
      "metadata": {
        "id": "gEH3DEA9vTW4"
      },
      "source": [
        "## Define the model"
      ]
    },
    {
      "cell_type": "code",
      "execution_count": 23,
      "metadata": {
        "id": "xB3bQMSJvTW5"
      },
      "outputs": [],
      "source": [
        "class ConvNet(pl.LightningModule):\n",
        "    \n",
        "    def __init__(self, activation, drop_p, lr=0.001):\n",
        "        \"\"\"\n",
        "        The input is typically a MNIST images batch, encoded in a torch.tensor of size (N,1,28,28), where N is the batch size\n",
        "        -----------\n",
        "        Parameters:\n",
        "        act = activation function \n",
        "        drop_p = dropout probability\n",
        "        \"\"\"\n",
        "        super().__init__()\n",
        "        \n",
        "        # Parameters \n",
        "        self.act = getattr(nn, activation)(inplace = True)\n",
        "        self.drop_p = drop_p\n",
        "        self.lr = lr\n",
        "        self.accuracy = torchmetrics.Accuracy()\n",
        "        \n",
        "        \n",
        "        ## Network architecture\n",
        "        # Convolution part\n",
        "        self.cnn = nn.Sequential(\n",
        "            #first convolution layer\n",
        "            nn.Conv2d(1, 16, 5),  # out = (N, 16, 24, 24)\n",
        "            nn.BatchNorm2d(16),\n",
        "            self.act,\n",
        "            nn.Dropout(self.drop_p, inplace = False),\n",
        "            nn.MaxPool2d(2),  # out = (N, 16, 12, 12)\n",
        "            # Second convolution layer\n",
        "            nn.Conv2d(16, 32, 5), # out = (N, 32, 8, 8)\n",
        "            nn.BatchNorm2d(32),\n",
        "            self.act,\n",
        "            nn.Dropout(self.drop_p, inplace = False),\n",
        "            nn.MaxPool2d(2) # out = (N, 32, 4, 4)\n",
        "        )\n",
        "    \n",
        "        # Linear classifier\n",
        "        self.lin = nn.Sequential(\n",
        "            nn.Linear(in_features = 32*4*4, out_features = 128),\n",
        "            nn.BatchNorm1d(128),\n",
        "            self.act,\n",
        "            nn.Dropout(self.drop_p, inplace = False),\n",
        "            nn.Linear(in_features = 128, out_features = 10)\n",
        "        )\n",
        "\n",
        "        print(\"CNN initialized\")\n",
        "        \n",
        "    def forward(self, x):\n",
        "        # Convolution layer\n",
        "        x = self.cnn(x)\n",
        "        # Flatten layer\n",
        "        x = torch.flatten(x, start_dim = 1)\n",
        "        # Linear layer\n",
        "        x = self.lin(x)\n",
        "        return x\n",
        "    \n",
        "    \n",
        "        \n",
        "    def training_step(self, batch, batch_idx):\n",
        "        # take data and labels\n",
        "        x_batch, labels = batch\n",
        "        \n",
        "        # Forward pass\n",
        "        y_hat = net(x_batch)\n",
        "        \n",
        "        # Compute loss\n",
        "        train_loss = nn.CrossEntropyLoss()(y_hat, labels)\n",
        "        \n",
        "        # compute training accuracy\n",
        "        self.accuracy(y_hat, labels)\n",
        "        \n",
        "        # Logging to TensorBoard by default\n",
        "        self.log(\"train_loss\", train_loss, prog_bar=True)\n",
        "        self.log('train_acc', self.accuracy, prog_bar=True)\n",
        "        \n",
        "        return train_loss\n",
        "    \n",
        "    def validation_step(self, batch, batch_idx):\n",
        "        # take data and labels\n",
        "        x_batch, labels = batch\n",
        "        \n",
        "        # Forward pass\n",
        "        y_hat = net(x_batch)\n",
        "        \n",
        "        # Compute loss\n",
        "        val_loss = nn.CrossEntropyLoss()(y_hat, labels)\n",
        "        \n",
        "        # compute validation accuracy\n",
        "        self.accuracy(y_hat, labels)\n",
        "        \n",
        "        # Logging to TensorBoard by default\n",
        "        self.log(\"val_loss\", val_loss, prog_bar=True)\n",
        "        self.log('val_acc', self.accuracy, prog_bar=True)\n",
        "        \n",
        "        return val_loss\n",
        "    \n",
        "    def configure_optimizers(self):\n",
        "        optimizer = optim.Adam(self.parameters(), lr = self.lr)\n",
        "        return optimizer"
      ]
    },
    {
      "cell_type": "code",
      "execution_count": null,
      "metadata": {
        "id": "uN5XtoO5vTW7"
      },
      "outputs": [],
      "source": [
        ""
      ]
    },
    {
      "cell_type": "code",
      "execution_count": null,
      "metadata": {
        "id": "sMQyjkNkvTW7"
      },
      "outputs": [],
      "source": [
        "# trainer callback\n",
        "class MetricsCallback(Callback):\n",
        "    \"\"\"PyTorch Lightning metric callback.\"\"\"\n",
        "\n",
        "    def __init__(self):\n",
        "        super().__init__()\n",
        "        self.train_loss_log = []\n",
        "        self.val_loss_log = []\n",
        "        self.train_acc_log= []\n",
        "        self.val_acc_log= []\n",
        "        \n",
        "        \n",
        "    def on_train_epoch_end(self, trainer, pl_module):\n",
        "        train_loss = trainer.logged_metrics[\"train_loss\"].cpu()\n",
        "        self.train_loss_log.append(train_loss)\n",
        "        train_acc = trainer.logged_metrics[\"train_acc\"].cpu()   \n",
        "        self.train_acc_log.append(train_acc)\n",
        "        \n",
        "    def on_validation_epoch_end(self,trainer, pl_module):\n",
        "        val_loss = trainer.logged_metrics[\"val_loss\"].cpu()\n",
        "        self.val_loss_log.append(val_loss)\n",
        "        val_acc = trainer.logged_metrics[\"val_acc\"].cpu()   \n",
        "        self.val_acc_log.append(val_acc)\n",
        "    "
      ]
    },
    {
      "cell_type": "markdown",
      "metadata": {
        "id": "Vi5gh8QWvTW8"
      },
      "source": [
        "## Training"
      ]
    },
    {
      "cell_type": "code",
      "execution_count": null,
      "metadata": {
        "id": "GCPpvFePvTW8",
        "outputId": "3e898f4c-17e7-42b1-bb02-6ac7c971fa7b"
      },
      "outputs": [
        {
          "name": "stdout",
          "output_type": "stream",
          "text": [
            "Training device: cpu\n"
          ]
        }
      ],
      "source": [
        "# Check if the GPU is available\n",
        "device = torch.device(\"cuda\") if torch.cuda.is_available() else torch.device(\"cpu\")\n",
        "print(f\"Training device: {device}\")"
      ]
    },
    {
      "cell_type": "code",
      "execution_count": null,
      "metadata": {
        "id": "2UPdkceyvTW9",
        "outputId": "22c1050c-417e-45f5-bc2a-b2105cd30493"
      },
      "outputs": [
        {
          "name": "stdout",
          "output_type": "stream",
          "text": [
            "CNN initialized\n"
          ]
        }
      ],
      "source": [
        "# Inizialize the network\n",
        "torch.manual_seed(0)\n",
        "net = ConvNet(activation=\"ReLU\", drop_p=0.3)\n",
        "\n",
        "\n",
        "# Define the callbacks\n",
        "metrics_callback =  MetricsCallback()\n",
        "early_stopping = EarlyStopping(monitor=\"val_loss\", patience = 100, mode=\"min\")"
      ]
    },
    {
      "cell_type": "code",
      "execution_count": null,
      "metadata": {
        "id": "Yp4D7IhRvTW-",
        "outputId": "3a83ee67-8ccf-42a1-e560-43edb48a55e3",
        "colab": {
          "referenced_widgets": [
            "2def0019e1c644fe9a692763be5efb66",
            "fcdbc036e4cb4aa78d0c2a3530cff716",
            "234fe7f0dcdb43328c32611c7b441122",
            "00ddef0533de4c45ba5e5ada0969597e",
            "c4d21ee3e7714059892778188c559864",
            "ee8241a939e84a79a10d852ff562f05e",
            "7c317ff486da40e7a07438c257144336"
          ]
        }
      },
      "outputs": [
        {
          "name": "stderr",
          "output_type": "stream",
          "text": [
            "GPU available: False, used: False\n",
            "TPU available: False, using: 0 TPU cores\n",
            "IPU available: False, using: 0 IPUs\n",
            "HPU available: False, using: 0 HPUs\n",
            "\n",
            "  | Name     | Type       | Params\n",
            "----------------------------------------\n",
            "0 | act      | ReLU       | 0     \n",
            "1 | accuracy | Accuracy   | 0     \n",
            "2 | cnn      | Sequential | 13.3 K\n",
            "3 | lin      | Sequential | 67.2 K\n",
            "----------------------------------------\n",
            "80.6 K    Trainable params\n",
            "0         Non-trainable params\n",
            "80.6 K    Total params\n",
            "0.322     Total estimated model params size (MB)\n"
          ]
        },
        {
          "data": {
            "application/vnd.jupyter.widget-view+json": {
              "model_id": "2def0019e1c644fe9a692763be5efb66",
              "version_major": 2,
              "version_minor": 0
            },
            "text/plain": [
              "Sanity Checking: 0it [00:00, ?it/s]"
            ]
          },
          "metadata": {},
          "output_type": "display_data"
        },
        {
          "data": {
            "application/vnd.jupyter.widget-view+json": {
              "model_id": "fcdbc036e4cb4aa78d0c2a3530cff716",
              "version_major": 2,
              "version_minor": 0
            },
            "text/plain": [
              "Training: 0it [00:00, ?it/s]"
            ]
          },
          "metadata": {},
          "output_type": "display_data"
        },
        {
          "data": {
            "application/vnd.jupyter.widget-view+json": {
              "model_id": "234fe7f0dcdb43328c32611c7b441122",
              "version_major": 2,
              "version_minor": 0
            },
            "text/plain": [
              "Validation: 0it [00:00, ?it/s]"
            ]
          },
          "metadata": {},
          "output_type": "display_data"
        },
        {
          "data": {
            "application/vnd.jupyter.widget-view+json": {
              "model_id": "00ddef0533de4c45ba5e5ada0969597e",
              "version_major": 2,
              "version_minor": 0
            },
            "text/plain": [
              "Validation: 0it [00:00, ?it/s]"
            ]
          },
          "metadata": {},
          "output_type": "display_data"
        },
        {
          "data": {
            "application/vnd.jupyter.widget-view+json": {
              "model_id": "c4d21ee3e7714059892778188c559864",
              "version_major": 2,
              "version_minor": 0
            },
            "text/plain": [
              "Validation: 0it [00:00, ?it/s]"
            ]
          },
          "metadata": {},
          "output_type": "display_data"
        },
        {
          "data": {
            "application/vnd.jupyter.widget-view+json": {
              "model_id": "ee8241a939e84a79a10d852ff562f05e",
              "version_major": 2,
              "version_minor": 0
            },
            "text/plain": [
              "Validation: 0it [00:00, ?it/s]"
            ]
          },
          "metadata": {},
          "output_type": "display_data"
        },
        {
          "data": {
            "application/vnd.jupyter.widget-view+json": {
              "model_id": "7c317ff486da40e7a07438c257144336",
              "version_major": 2,
              "version_minor": 0
            },
            "text/plain": [
              "Validation: 0it [00:00, ?it/s]"
            ]
          },
          "metadata": {},
          "output_type": "display_data"
        }
      ],
      "source": [
        "# training\n",
        "trainer = pl.Trainer(max_epochs=5, callbacks=[metrics_callback, early_stopping], accelerator=\"auto\", log_every_n_steps=1)\n",
        "trainer.fit(model=net, train_dataloaders=train_dataloader, val_dataloaders = val_dataloader)"
      ]
    },
    {
      "cell_type": "code",
      "execution_count": null,
      "metadata": {
        "id": "wyY-fQbavTW_",
        "outputId": "410bb6d3-e2de-4a32-a2de-b3790154297d"
      },
      "outputs": [
        {
          "name": "stdout",
          "output_type": "stream",
          "text": [
            "5 6\n",
            "trained epochs: 5\n"
          ]
        },
        {
          "data": {
            "image/png": "[encoded data removed]",
            "text/plain": [
              "<Figure size 720x360 with 2 Axes>"
            ]
          },
          "metadata": {
            "needs_background": "light"
          },
          "output_type": "display_data"
        }
      ],
      "source": [
        "### Plot losses\n",
        "fig, ax = plt.subplots(1,2, figsize=(10,5))\n",
        "ax[0].semilogy(metrics_callback.train_loss_log, label=\"Train loss\")\n",
        "ax[0].semilogy(metrics_callback.val_loss_log, label=\"Validation loss\")\n",
        "ax[0].set_xlabel(\"Epoch number\")\n",
        "ax[0].set_ylabel(\"Loss\")\n",
        "ax[0].legend()\n",
        "\n",
        "print(len(metrics_callback.train_loss_log), len(metrics_callback.val_loss_log))\n",
        "ax[1].plot(metrics_callback.train_acc_log, label=\"Train accuracy\")\n",
        "ax[1].plot(metrics_callback.val_acc_log, label=\"Validation accuracy\")\n",
        "ax[1].set_xlabel(\"Epoch number\")\n",
        "ax[1].set_ylabel(\"Accuracy\")\n",
        "ax[1].legend()\n",
        "print(\"trained epochs: \"+str(len(metrics_callback.train_loss_log)))"
      ]
    },
    {
      "cell_type": "markdown",
      "metadata": {
        "id": "a7allnjL4BDI",
        "jp-MarkdownHeadingCollapsed": true,
        "tags": []
      },
      "source": [
        "# Conclusion\n",
        "\n",
        "I can finally watch the performance on the test set using the best model found: the artificial neural network (wich works a little better then the SVM). \n",
        "Before this I only need to preprocess the Test Set using MinMax Scaler."
      ]
    },
    {
      "cell_type": "code",
      "execution_count": null,
      "metadata": {
        "id": "aXDMtucQS62C"
      },
      "outputs": [],
      "source": [
        "#run time of final cell: 10minutes more or less\n",
        "\n",
        "import tensorflow\n",
        "import numpy as np\n",
        "import tensorflow \n",
        "from tensorflow.keras.models import Sequential \n",
        "from tensorflow.keras.layers import Input, Dense \n",
        "from tensorflow.keras.utils import to_categorical \n",
        "from keras.utils.vis_utils import plot_model\n",
        "from tensorflow.python.framework.random_seed import set_random_seed\n",
        "from keras.callbacks import EarlyStopping\n",
        "from sklearn.metrics import accuracy_score\n",
        "\n",
        "#preprocessing\n",
        "X_train_val_mm=X_train_val/255\n",
        "X_test_mm=X_test/255\n",
        "y_train_val_cat=to_categorical(Y_train_val,10)\n",
        "\n",
        "#early stopping\n",
        "stop=EarlyStopping(monitor='val_loss', #quantity to be monitored\n",
        "                    mode='min', #we look for decreasing patterns stop \n",
        "                    patience = 15, #number of epochs with no improvements\n",
        "                    verbose = 1)\n",
        "\n",
        "#model defining\n",
        "np.random.seed(123)\n",
        "set_random_seed=2\n",
        "\n",
        "nn_final=Sequential()\n",
        "nn_final.add(Dense(input_dim=features,\n",
        "             units=features,\n",
        "             activation='relu'))\n",
        "nn_final.add(Dense(num_classes,\n",
        "             activation='softmax'))\n",
        "print(nn_final.summary())\n",
        "\n",
        "#compiling and training\n",
        "nn_final.compile(loss='categorical_crossentropy',\n",
        "           optimizer='sgd',\n",
        "           metrics=['accuracy'])\n",
        "train_final=nn_final.fit(X_train_val_mm,y_train_val_cat,\n",
        "             batch_size=16,\n",
        "             verbose=0,\n",
        "             callbacks=stop,\n",
        "             epochs=100,\n",
        "             validation_split=0.1)\n",
        "\n",
        "\n",
        "#display the accuracy and the loss\n",
        "fig = plt.figure(figsize=(7,4))\n",
        "plt.plot(train_final.history['accuracy'])\n",
        "plt.plot(train_final.history['val_accuracy'])\n",
        "plt.plot(train_final.history['loss'])\n",
        "plt.plot(train_final.history['val_loss'])\n",
        "plt.title('model accuracy & loss')\n",
        "plt.ylabel('accuracy / loss')\n",
        "plt.xlabel('epoch')\n",
        "plt.legend(['train accuracy','val accuracy','train loss','val loss'],loc='down right',fontsize='x-large')\n",
        "plt.show()\n",
        "\n",
        "\n",
        "#make prediction on training and validation set\n",
        "y_pred_test_final=nn_final.predict(X_test_mm).argmax(axis = 1) \n",
        "print('Accuracy')\n",
        "print(f'test set: {accuracy_score(Y_test,y_pred_test_final):.5f}')\n",
        "\n",
        "\n",
        "#expected output:\n",
        "#Accuracy\n",
        "#test set: 0.89100"
      ]
    },
    {
      "cell_type": "markdown",
      "metadata": {
        "id": "EgzkJkKRJwrK"
      },
      "source": [
        "The total run time of the notebook is 1 hour and 30 minutes"
      ]
    }
  ],
  "metadata": {
    "colab": {
      "collapsed_sections": [
        "VP4IOS4o4Ogg",
        "qyYUI8Th3f5b",
        "TehSSDy1Jbsx",
        "o6DExZfTLAE9",
        "Xm93nI0cRite",
        "4WBI374lu333",
        "l-5q5BrafMxw",
        "2Dnzhz-uyto7",
        "h7vBSsFVTQAM",
        "eBt3VunKB0Gc",
        "VWNcc7NCQk3t",
        "a7allnjL4BDI"
      ],
      "name": "Project_Fashion_Mnist_Lattaruolo.ipynb",
      "provenance": []
    },
    "kernelspec": {
      "display_name": "Python 3 (ipykernel)",
      "language": "python",
      "name": "python3"
    },
    "language_info": {
      "codemirror_mode": {
        "name": "ipython",
        "version": 3
      },
      "file_extension": ".py",
      "mimetype": "text/x-python",
      "name": "python",
      "nbconvert_exporter": "python",
      "pygments_lexer": "ipython3",
      "version": "3.9.10"
    },
    "vscode": {
      "interpreter": {
        "hash": "ad2bdc8ecc057115af97d19610ffacc2b4e99fae6737bb82f5d7fb13d2f2c186"
      }
    },
    "accelerator": "GPU",
    "gpuClass": "standard",
    "widgets": {
      "application/vnd.jupyter.widget-state+json": {
        "5089d35cc2d3496ab27203cc5795146f": {
          "model_module": "@jupyter-widgets/controls",
          "model_name": "HBoxModel",
          "model_module_version": "1.5.0",
          "state": {
            "_dom_classes": [],
            "_model_module": "@jupyter-widgets/controls",
            "_model_module_version": "1.5.0",
            "_model_name": "HBoxModel",
            "_view_count": null,
            "_view_module": "@jupyter-widgets/controls",
            "_view_module_version": "1.5.0",
            "_view_name": "HBoxView",
            "box_style": "",
            "children": [
              "IPY_MODEL_ed7bbb6857ed4b9899522a0c602a5348",
              "IPY_MODEL_9fbfeaf61acf488095344489df1f423b",
              "IPY_MODEL_0d255434e31d45198dff3b5fdc4e7392"
            ],
            "layout": "IPY_MODEL_7786a4637f9140fb94c979ad0e929929"
          }
        },
        "ed7bbb6857ed4b9899522a0c602a5348": {
          "model_module": "@jupyter-widgets/controls",
          "model_name": "HTMLModel",
          "model_module_version": "1.5.0",
          "state": {
            "_dom_classes": [],
            "_model_module": "@jupyter-widgets/controls",
            "_model_module_version": "1.5.0",
            "_model_name": "HTMLModel",
            "_view_count": null,
            "_view_module": "@jupyter-widgets/controls",
            "_view_module_version": "1.5.0",
            "_view_name": "HTMLView",
            "description": "",
            "description_tooltip": null,
            "layout": "IPY_MODEL_c25697643f6e4ad0bfd0dd2af163084b",
            "placeholder": "​",
            "style": "IPY_MODEL_c8cb4620d2194610b9fecc65110044f2",
            "value": "100%"
          }
        },
        "9fbfeaf61acf488095344489df1f423b": {
          "model_module": "@jupyter-widgets/controls",
          "model_name": "FloatProgressModel",
          "model_module_version": "1.5.0",
          "state": {
            "_dom_classes": [],
            "_model_module": "@jupyter-widgets/controls",
            "_model_module_version": "1.5.0",
            "_model_name": "FloatProgressModel",
            "_view_count": null,
            "_view_module": "@jupyter-widgets/controls",
            "_view_module_version": "1.5.0",
            "_view_name": "ProgressView",
            "bar_style": "success",
            "description": "",
            "description_tooltip": null,
            "layout": "IPY_MODEL_5cc28ec0b25a4f68945d3e210222ff8a",
            "max": 26421880,
            "min": 0,
            "orientation": "horizontal",
            "style": "IPY_MODEL_1f73870489184c05876cccd0bf242f8c",
            "value": 26421880
          }
        },
        "0d255434e31d45198dff3b5fdc4e7392": {
          "model_module": "@jupyter-widgets/controls",
          "model_name": "HTMLModel",
          "model_module_version": "1.5.0",
          "state": {
            "_dom_classes": [],
            "_model_module": "@jupyter-widgets/controls",
            "_model_module_version": "1.5.0",
            "_model_name": "HTMLModel",
            "_view_count": null,
            "_view_module": "@jupyter-widgets/controls",
            "_view_module_version": "1.5.0",
            "_view_name": "HTMLView",
            "description": "",
            "description_tooltip": null,
            "layout": "IPY_MODEL_9197a7e598a74a2d809fe43fab94ea09",
            "placeholder": "​",
            "style": "IPY_MODEL_16cc747de61b42eda42e609f31b18728",
            "value": " 26421880/26421880 [00:01&lt;00:00, 26082311.47it/s]"
          }
        },
        "7786a4637f9140fb94c979ad0e929929": {
          "model_module": "@jupyter-widgets/base",
          "model_name": "LayoutModel",
          "model_module_version": "1.2.0",
          "state": {
            "_model_module": "@jupyter-widgets/base",
            "_model_module_version": "1.2.0",
            "_model_name": "LayoutModel",
            "_view_count": null,
            "_view_module": "@jupyter-widgets/base",
            "_view_module_version": "1.2.0",
            "_view_name": "LayoutView",
            "align_content": null,
            "align_items": null,
            "align_self": null,
            "border": null,
            "bottom": null,
            "display": null,
            "flex": null,
            "flex_flow": null,
            "grid_area": null,
            "grid_auto_columns": null,
            "grid_auto_flow": null,
            "grid_auto_rows": null,
            "grid_column": null,
            "grid_gap": null,
            "grid_row": null,
            "grid_template_areas": null,
            "grid_template_columns": null,
            "grid_template_rows": null,
            "height": null,
            "justify_content": null,
            "justify_items": null,
            "left": null,
            "margin": null,
            "max_height": null,
            "max_width": null,
            "min_height": null,
            "min_width": null,
            "object_fit": null,
            "object_position": null,
            "order": null,
            "overflow": null,
            "overflow_x": null,
            "overflow_y": null,
            "padding": null,
            "right": null,
            "top": null,
            "visibility": null,
            "width": null
          }
        },
        "c25697643f6e4ad0bfd0dd2af163084b": {
          "model_module": "@jupyter-widgets/base",
          "model_name": "LayoutModel",
          "model_module_version": "1.2.0",
          "state": {
            "_model_module": "@jupyter-widgets/base",
            "_model_module_version": "1.2.0",
            "_model_name": "LayoutModel",
            "_view_count": null,
            "_view_module": "@jupyter-widgets/base",
            "_view_module_version": "1.2.0",
            "_view_name": "LayoutView",
            "align_content": null,
            "align_items": null,
            "align_self": null,
            "border": null,
            "bottom": null,
            "display": null,
            "flex": null,
            "flex_flow": null,
            "grid_area": null,
            "grid_auto_columns": null,
            "grid_auto_flow": null,
            "grid_auto_rows": null,
            "grid_column": null,
            "grid_gap": null,
            "grid_row": null,
            "grid_template_areas": null,
            "grid_template_columns": null,
            "grid_template_rows": null,
            "height": null,
            "justify_content": null,
            "justify_items": null,
            "left": null,
            "margin": null,
            "max_height": null,
            "max_width": null,
            "min_height": null,
            "min_width": null,
            "object_fit": null,
            "object_position": null,
            "order": null,
            "overflow": null,
            "overflow_x": null,
            "overflow_y": null,
            "padding": null,
            "right": null,
            "top": null,
            "visibility": null,
            "width": null
          }
        },
        "c8cb4620d2194610b9fecc65110044f2": {
          "model_module": "@jupyter-widgets/controls",
          "model_name": "DescriptionStyleModel",
          "model_module_version": "1.5.0",
          "state": {
            "_model_module": "@jupyter-widgets/controls",
            "_model_module_version": "1.5.0",
            "_model_name": "DescriptionStyleModel",
            "_view_count": null,
            "_view_module": "@jupyter-widgets/base",
            "_view_module_version": "1.2.0",
            "_view_name": "StyleView",
            "description_width": ""
          }
        },
        "5cc28ec0b25a4f68945d3e210222ff8a": {
          "model_module": "@jupyter-widgets/base",
          "model_name": "LayoutModel",
          "model_module_version": "1.2.0",
          "state": {
            "_model_module": "@jupyter-widgets/base",
            "_model_module_version": "1.2.0",
            "_model_name": "LayoutModel",
            "_view_count": null,
            "_view_module": "@jupyter-widgets/base",
            "_view_module_version": "1.2.0",
            "_view_name": "LayoutView",
            "align_content": null,
            "align_items": null,
            "align_self": null,
            "border": null,
            "bottom": null,
            "display": null,
            "flex": null,
            "flex_flow": null,
            "grid_area": null,
            "grid_auto_columns": null,
            "grid_auto_flow": null,
            "grid_auto_rows": null,
            "grid_column": null,
            "grid_gap": null,
            "grid_row": null,
            "grid_template_areas": null,
            "grid_template_columns": null,
            "grid_template_rows": null,
            "height": null,
            "justify_content": null,
            "justify_items": null,
            "left": null,
            "margin": null,
            "max_height": null,
            "max_width": null,
            "min_height": null,
            "min_width": null,
            "object_fit": null,
            "object_position": null,
            "order": null,
            "overflow": null,
            "overflow_x": null,
            "overflow_y": null,
            "padding": null,
            "right": null,
            "top": null,
            "visibility": null,
            "width": null
          }
        },
        "1f73870489184c05876cccd0bf242f8c": {
          "model_module": "@jupyter-widgets/controls",
          "model_name": "ProgressStyleModel",
          "model_module_version": "1.5.0",
          "state": {
            "_model_module": "@jupyter-widgets/controls",
            "_model_module_version": "1.5.0",
            "_model_name": "ProgressStyleModel",
            "_view_count": null,
            "_view_module": "@jupyter-widgets/base",
            "_view_module_version": "1.2.0",
            "_view_name": "StyleView",
            "bar_color": null,
            "description_width": ""
          }
        },
        "9197a7e598a74a2d809fe43fab94ea09": {
          "model_module": "@jupyter-widgets/base",
          "model_name": "LayoutModel",
          "model_module_version": "1.2.0",
          "state": {
            "_model_module": "@jupyter-widgets/base",
            "_model_module_version": "1.2.0",
            "_model_name": "LayoutModel",
            "_view_count": null,
            "_view_module": "@jupyter-widgets/base",
            "_view_module_version": "1.2.0",
            "_view_name": "LayoutView",
            "align_content": null,
            "align_items": null,
            "align_self": null,
            "border": null,
            "bottom": null,
            "display": null,
            "flex": null,
            "flex_flow": null,
            "grid_area": null,
            "grid_auto_columns": null,
            "grid_auto_flow": null,
            "grid_auto_rows": null,
            "grid_column": null,
            "grid_gap": null,
            "grid_row": null,
            "grid_template_areas": null,
            "grid_template_columns": null,
            "grid_template_rows": null,
            "height": null,
            "justify_content": null,
            "justify_items": null,
            "left": null,
            "margin": null,
            "max_height": null,
            "max_width": null,
            "min_height": null,
            "min_width": null,
            "object_fit": null,
            "object_position": null,
            "order": null,
            "overflow": null,
            "overflow_x": null,
            "overflow_y": null,
            "padding": null,
            "right": null,
            "top": null,
            "visibility": null,
            "width": null
          }
        },
        "16cc747de61b42eda42e609f31b18728": {
          "model_module": "@jupyter-widgets/controls",
          "model_name": "DescriptionStyleModel",
          "model_module_version": "1.5.0",
          "state": {
            "_model_module": "@jupyter-widgets/controls",
            "_model_module_version": "1.5.0",
            "_model_name": "DescriptionStyleModel",
            "_view_count": null,
            "_view_module": "@jupyter-widgets/base",
            "_view_module_version": "1.2.0",
            "_view_name": "StyleView",
            "description_width": ""
          }
        },
        "07482b3eda5643a0ab39a8964e7acfd7": {
          "model_module": "@jupyter-widgets/controls",
          "model_name": "HBoxModel",
          "model_module_version": "1.5.0",
          "state": {
            "_dom_classes": [],
            "_model_module": "@jupyter-widgets/controls",
            "_model_module_version": "1.5.0",
            "_model_name": "HBoxModel",
            "_view_count": null,
            "_view_module": "@jupyter-widgets/controls",
            "_view_module_version": "1.5.0",
            "_view_name": "HBoxView",
            "box_style": "",
            "children": [
              "IPY_MODEL_fb081271e36748e999a41e7885c1a564",
              "IPY_MODEL_cc357464f9504c1a8aa5153a2ac467aa",
              "IPY_MODEL_779cc1c9d8034112b2a425ab0c55a61d"
            ],
            "layout": "IPY_MODEL_fce686daba7d42b4adfc9104c9fb553a"
          }
        },
        "fb081271e36748e999a41e7885c1a564": {
          "model_module": "@jupyter-widgets/controls",
          "model_name": "HTMLModel",
          "model_module_version": "1.5.0",
          "state": {
            "_dom_classes": [],
            "_model_module": "@jupyter-widgets/controls",
            "_model_module_version": "1.5.0",
            "_model_name": "HTMLModel",
            "_view_count": null,
            "_view_module": "@jupyter-widgets/controls",
            "_view_module_version": "1.5.0",
            "_view_name": "HTMLView",
            "description": "",
            "description_tooltip": null,
            "layout": "IPY_MODEL_5843c2f7b1ac4398b9b1d2bfa9697db7",
            "placeholder": "​",
            "style": "IPY_MODEL_0aeca9fe780b40a88d6e951739a4f2f3",
            "value": "100%"
          }
        },
        "cc357464f9504c1a8aa5153a2ac467aa": {
          "model_module": "@jupyter-widgets/controls",
          "model_name": "FloatProgressModel",
          "model_module_version": "1.5.0",
          "state": {
            "_dom_classes": [],
            "_model_module": "@jupyter-widgets/controls",
            "_model_module_version": "1.5.0",
            "_model_name": "FloatProgressModel",
            "_view_count": null,
            "_view_module": "@jupyter-widgets/controls",
            "_view_module_version": "1.5.0",
            "_view_name": "ProgressView",
            "bar_style": "success",
            "description": "",
            "description_tooltip": null,
            "layout": "IPY_MODEL_92f9e396f2cc4abea94127d03115b44f",
            "max": 29515,
            "min": 0,
            "orientation": "horizontal",
            "style": "IPY_MODEL_ee984d6cf12948bd93f3f215973fedd0",
            "value": 29515
          }
        },
        "779cc1c9d8034112b2a425ab0c55a61d": {
          "model_module": "@jupyter-widgets/controls",
          "model_name": "HTMLModel",
          "model_module_version": "1.5.0",
          "state": {
            "_dom_classes": [],
            "_model_module": "@jupyter-widgets/controls",
            "_model_module_version": "1.5.0",
            "_model_name": "HTMLModel",
            "_view_count": null,
            "_view_module": "@jupyter-widgets/controls",
            "_view_module_version": "1.5.0",
            "_view_name": "HTMLView",
            "description": "",
            "description_tooltip": null,
            "layout": "IPY_MODEL_c63ec4284ecf46fa9503ec49931c3815",
            "placeholder": "​",
            "style": "IPY_MODEL_5acffc219cd54ecca3f280c7cc2019be",
            "value": " 29515/29515 [00:00&lt;00:00, 270314.57it/s]"
          }
        },
        "fce686daba7d42b4adfc9104c9fb553a": {
          "model_module": "@jupyter-widgets/base",
          "model_name": "LayoutModel",
          "model_module_version": "1.2.0",
          "state": {
            "_model_module": "@jupyter-widgets/base",
            "_model_module_version": "1.2.0",
            "_model_name": "LayoutModel",
            "_view_count": null,
            "_view_module": "@jupyter-widgets/base",
            "_view_module_version": "1.2.0",
            "_view_name": "LayoutView",
            "align_content": null,
            "align_items": null,
            "align_self": null,
            "border": null,
            "bottom": null,
            "display": null,
            "flex": null,
            "flex_flow": null,
            "grid_area": null,
            "grid_auto_columns": null,
            "grid_auto_flow": null,
            "grid_auto_rows": null,
            "grid_column": null,
            "grid_gap": null,
            "grid_row": null,
            "grid_template_areas": null,
            "grid_template_columns": null,
            "grid_template_rows": null,
            "height": null,
            "justify_content": null,
            "justify_items": null,
            "left": null,
            "margin": null,
            "max_height": null,
            "max_width": null,
            "min_height": null,
            "min_width": null,
            "object_fit": null,
            "object_position": null,
            "order": null,
            "overflow": null,
            "overflow_x": null,
            "overflow_y": null,
            "padding": null,
            "right": null,
            "top": null,
            "visibility": null,
            "width": null
          }
        },
        "5843c2f7b1ac4398b9b1d2bfa9697db7": {
          "model_module": "@jupyter-widgets/base",
          "model_name": "LayoutModel",
          "model_module_version": "1.2.0",
          "state": {
            "_model_module": "@jupyter-widgets/base",
            "_model_module_version": "1.2.0",
            "_model_name": "LayoutModel",
            "_view_count": null,
            "_view_module": "@jupyter-widgets/base",
            "_view_module_version": "1.2.0",
            "_view_name": "LayoutView",
            "align_content": null,
            "align_items": null,
            "align_self": null,
            "border": null,
            "bottom": null,
            "display": null,
            "flex": null,
            "flex_flow": null,
            "grid_area": null,
            "grid_auto_columns": null,
            "grid_auto_flow": null,
            "grid_auto_rows": null,
            "grid_column": null,
            "grid_gap": null,
            "grid_row": null,
            "grid_template_areas": null,
            "grid_template_columns": null,
            "grid_template_rows": null,
            "height": null,
            "justify_content": null,
            "justify_items": null,
            "left": null,
            "margin": null,
            "max_height": null,
            "max_width": null,
            "min_height": null,
            "min_width": null,
            "object_fit": null,
            "object_position": null,
            "order": null,
            "overflow": null,
            "overflow_x": null,
            "overflow_y": null,
            "padding": null,
            "right": null,
            "top": null,
            "visibility": null,
            "width": null
          }
        },
        "0aeca9fe780b40a88d6e951739a4f2f3": {
          "model_module": "@jupyter-widgets/controls",
          "model_name": "DescriptionStyleModel",
          "model_module_version": "1.5.0",
          "state": {
            "_model_module": "@jupyter-widgets/controls",
            "_model_module_version": "1.5.0",
            "_model_name": "DescriptionStyleModel",
            "_view_count": null,
            "_view_module": "@jupyter-widgets/base",
            "_view_module_version": "1.2.0",
            "_view_name": "StyleView",
            "description_width": ""
          }
        },
        "92f9e396f2cc4abea94127d03115b44f": {
          "model_module": "@jupyter-widgets/base",
          "model_name": "LayoutModel",
          "model_module_version": "1.2.0",
          "state": {
            "_model_module": "@jupyter-widgets/base",
            "_model_module_version": "1.2.0",
            "_model_name": "LayoutModel",
            "_view_count": null,
            "_view_module": "@jupyter-widgets/base",
            "_view_module_version": "1.2.0",
            "_view_name": "LayoutView",
            "align_content": null,
            "align_items": null,
            "align_self": null,
            "border": null,
            "bottom": null,
            "display": null,
            "flex": null,
            "flex_flow": null,
            "grid_area": null,
            "grid_auto_columns": null,
            "grid_auto_flow": null,
            "grid_auto_rows": null,
            "grid_column": null,
            "grid_gap": null,
            "grid_row": null,
            "grid_template_areas": null,
            "grid_template_columns": null,
            "grid_template_rows": null,
            "height": null,
            "justify_content": null,
            "justify_items": null,
            "left": null,
            "margin": null,
            "max_height": null,
            "max_width": null,
            "min_height": null,
            "min_width": null,
            "object_fit": null,
            "object_position": null,
            "order": null,
            "overflow": null,
            "overflow_x": null,
            "overflow_y": null,
            "padding": null,
            "right": null,
            "top": null,
            "visibility": null,
            "width": null
          }
        },
        "ee984d6cf12948bd93f3f215973fedd0": {
          "model_module": "@jupyter-widgets/controls",
          "model_name": "ProgressStyleModel",
          "model_module_version": "1.5.0",
          "state": {
            "_model_module": "@jupyter-widgets/controls",
            "_model_module_version": "1.5.0",
            "_model_name": "ProgressStyleModel",
            "_view_count": null,
            "_view_module": "@jupyter-widgets/base",
            "_view_module_version": "1.2.0",
            "_view_name": "StyleView",
            "bar_color": null,
            "description_width": ""
          }
        },
        "c63ec4284ecf46fa9503ec49931c3815": {
          "model_module": "@jupyter-widgets/base",
          "model_name": "LayoutModel",
          "model_module_version": "1.2.0",
          "state": {
            "_model_module": "@jupyter-widgets/base",
            "_model_module_version": "1.2.0",
            "_model_name": "LayoutModel",
            "_view_count": null,
            "_view_module": "@jupyter-widgets/base",
            "_view_module_version": "1.2.0",
            "_view_name": "LayoutView",
            "align_content": null,
            "align_items": null,
            "align_self": null,
            "border": null,
            "bottom": null,
            "display": null,
            "flex": null,
            "flex_flow": null,
            "grid_area": null,
            "grid_auto_columns": null,
            "grid_auto_flow": null,
            "grid_auto_rows": null,
            "grid_column": null,
            "grid_gap": null,
            "grid_row": null,
            "grid_template_areas": null,
            "grid_template_columns": null,
            "grid_template_rows": null,
            "height": null,
            "justify_content": null,
            "justify_items": null,
            "left": null,
            "margin": null,
            "max_height": null,
            "max_width": null,
            "min_height": null,
            "min_width": null,
            "object_fit": null,
            "object_position": null,
            "order": null,
            "overflow": null,
            "overflow_x": null,
            "overflow_y": null,
            "padding": null,
            "right": null,
            "top": null,
            "visibility": null,
            "width": null
          }
        },
        "5acffc219cd54ecca3f280c7cc2019be": {
          "model_module": "@jupyter-widgets/controls",
          "model_name": "DescriptionStyleModel",
          "model_module_version": "1.5.0",
          "state": {
            "_model_module": "@jupyter-widgets/controls",
            "_model_module_version": "1.5.0",
            "_model_name": "DescriptionStyleModel",
            "_view_count": null,
            "_view_module": "@jupyter-widgets/base",
            "_view_module_version": "1.2.0",
            "_view_name": "StyleView",
            "description_width": ""
          }
        },
        "4acbca9d3f814141aa008dd7659f2ae7": {
          "model_module": "@jupyter-widgets/controls",
          "model_name": "HBoxModel",
          "model_module_version": "1.5.0",
          "state": {
            "_dom_classes": [],
            "_model_module": "@jupyter-widgets/controls",
            "_model_module_version": "1.5.0",
            "_model_name": "HBoxModel",
            "_view_count": null,
            "_view_module": "@jupyter-widgets/controls",
            "_view_module_version": "1.5.0",
            "_view_name": "HBoxView",
            "box_style": "",
            "children": [
              "IPY_MODEL_99f22cffe83746309b5c7691535177c5",
              "IPY_MODEL_6040ecfac7684bc3ae88e3f6e15e1849",
              "IPY_MODEL_20c329041a774fc19142abec3c19dc5f"
            ],
            "layout": "IPY_MODEL_8f24366e03c44bdf81071543c6ac2887"
          }
        },
        "99f22cffe83746309b5c7691535177c5": {
          "model_module": "@jupyter-widgets/controls",
          "model_name": "HTMLModel",
          "model_module_version": "1.5.0",
          "state": {
            "_dom_classes": [],
            "_model_module": "@jupyter-widgets/controls",
            "_model_module_version": "1.5.0",
            "_model_name": "HTMLModel",
            "_view_count": null,
            "_view_module": "@jupyter-widgets/controls",
            "_view_module_version": "1.5.0",
            "_view_name": "HTMLView",
            "description": "",
            "description_tooltip": null,
            "layout": "IPY_MODEL_c42ea9d3cdc048ecbe86f7c0e5b51dc0",
            "placeholder": "​",
            "style": "IPY_MODEL_faa0d4663c2443cf8a31198b35cfd1f1",
            "value": "100%"
          }
        },
        "6040ecfac7684bc3ae88e3f6e15e1849": {
          "model_module": "@jupyter-widgets/controls",
          "model_name": "FloatProgressModel",
          "model_module_version": "1.5.0",
          "state": {
            "_dom_classes": [],
            "_model_module": "@jupyter-widgets/controls",
            "_model_module_version": "1.5.0",
            "_model_name": "FloatProgressModel",
            "_view_count": null,
            "_view_module": "@jupyter-widgets/controls",
            "_view_module_version": "1.5.0",
            "_view_name": "ProgressView",
            "bar_style": "success",
            "description": "",
            "description_tooltip": null,
            "layout": "IPY_MODEL_e6e27ebe52694038817792dbdae4bce1",
            "max": 4422102,
            "min": 0,
            "orientation": "horizontal",
            "style": "IPY_MODEL_bfa967e6d0e1422d94e55f4ad27820b4",
            "value": 4422102
          }
        },
        "20c329041a774fc19142abec3c19dc5f": {
          "model_module": "@jupyter-widgets/controls",
          "model_name": "HTMLModel",
          "model_module_version": "1.5.0",
          "state": {
            "_dom_classes": [],
            "_model_module": "@jupyter-widgets/controls",
            "_model_module_version": "1.5.0",
            "_model_name": "HTMLModel",
            "_view_count": null,
            "_view_module": "@jupyter-widgets/controls",
            "_view_module_version": "1.5.0",
            "_view_name": "HTMLView",
            "description": "",
            "description_tooltip": null,
            "layout": "IPY_MODEL_1138c732fbde40b5a9a0bddc6958e195",
            "placeholder": "​",
            "style": "IPY_MODEL_2215b269d5644c14b76335c848b14a41",
            "value": " 4422102/4422102 [00:00&lt;00:00, 6465419.91it/s]"
          }
        },
        "8f24366e03c44bdf81071543c6ac2887": {
          "model_module": "@jupyter-widgets/base",
          "model_name": "LayoutModel",
          "model_module_version": "1.2.0",
          "state": {
            "_model_module": "@jupyter-widgets/base",
            "_model_module_version": "1.2.0",
            "_model_name": "LayoutModel",
            "_view_count": null,
            "_view_module": "@jupyter-widgets/base",
            "_view_module_version": "1.2.0",
            "_view_name": "LayoutView",
            "align_content": null,
            "align_items": null,
            "align_self": null,
            "border": null,
            "bottom": null,
            "display": null,
            "flex": null,
            "flex_flow": null,
            "grid_area": null,
            "grid_auto_columns": null,
            "grid_auto_flow": null,
            "grid_auto_rows": null,
            "grid_column": null,
            "grid_gap": null,
            "grid_row": null,
            "grid_template_areas": null,
            "grid_template_columns": null,
            "grid_template_rows": null,
            "height": null,
            "justify_content": null,
            "justify_items": null,
            "left": null,
            "margin": null,
            "max_height": null,
            "max_width": null,
            "min_height": null,
            "min_width": null,
            "object_fit": null,
            "object_position": null,
            "order": null,
            "overflow": null,
            "overflow_x": null,
            "overflow_y": null,
            "padding": null,
            "right": null,
            "top": null,
            "visibility": null,
            "width": null
          }
        },
        "c42ea9d3cdc048ecbe86f7c0e5b51dc0": {
          "model_module": "@jupyter-widgets/base",
          "model_name": "LayoutModel",
          "model_module_version": "1.2.0",
          "state": {
            "_model_module": "@jupyter-widgets/base",
            "_model_module_version": "1.2.0",
            "_model_name": "LayoutModel",
            "_view_count": null,
            "_view_module": "@jupyter-widgets/base",
            "_view_module_version": "1.2.0",
            "_view_name": "LayoutView",
            "align_content": null,
            "align_items": null,
            "align_self": null,
            "border": null,
            "bottom": null,
            "display": null,
            "flex": null,
            "flex_flow": null,
            "grid_area": null,
            "grid_auto_columns": null,
            "grid_auto_flow": null,
            "grid_auto_rows": null,
            "grid_column": null,
            "grid_gap": null,
            "grid_row": null,
            "grid_template_areas": null,
            "grid_template_columns": null,
            "grid_template_rows": null,
            "height": null,
            "justify_content": null,
            "justify_items": null,
            "left": null,
            "margin": null,
            "max_height": null,
            "max_width": null,
            "min_height": null,
            "min_width": null,
            "object_fit": null,
            "object_position": null,
            "order": null,
            "overflow": null,
            "overflow_x": null,
            "overflow_y": null,
            "padding": null,
            "right": null,
            "top": null,
            "visibility": null,
            "width": null
          }
        },
        "faa0d4663c2443cf8a31198b35cfd1f1": {
          "model_module": "@jupyter-widgets/controls",
          "model_name": "DescriptionStyleModel",
          "model_module_version": "1.5.0",
          "state": {
            "_model_module": "@jupyter-widgets/controls",
            "_model_module_version": "1.5.0",
            "_model_name": "DescriptionStyleModel",
            "_view_count": null,
            "_view_module": "@jupyter-widgets/base",
            "_view_module_version": "1.2.0",
            "_view_name": "StyleView",
            "description_width": ""
          }
        },
        "e6e27ebe52694038817792dbdae4bce1": {
          "model_module": "@jupyter-widgets/base",
          "model_name": "LayoutModel",
          "model_module_version": "1.2.0",
          "state": {
            "_model_module": "@jupyter-widgets/base",
            "_model_module_version": "1.2.0",
            "_model_name": "LayoutModel",
            "_view_count": null,
            "_view_module": "@jupyter-widgets/base",
            "_view_module_version": "1.2.0",
            "_view_name": "LayoutView",
            "align_content": null,
            "align_items": null,
            "align_self": null,
            "border": null,
            "bottom": null,
            "display": null,
            "flex": null,
            "flex_flow": null,
            "grid_area": null,
            "grid_auto_columns": null,
            "grid_auto_flow": null,
            "grid_auto_rows": null,
            "grid_column": null,
            "grid_gap": null,
            "grid_row": null,
            "grid_template_areas": null,
            "grid_template_columns": null,
            "grid_template_rows": null,
            "height": null,
            "justify_content": null,
            "justify_items": null,
            "left": null,
            "margin": null,
            "max_height": null,
            "max_width": null,
            "min_height": null,
            "min_width": null,
            "object_fit": null,
            "object_position": null,
            "order": null,
            "overflow": null,
            "overflow_x": null,
            "overflow_y": null,
            "padding": null,
            "right": null,
            "top": null,
            "visibility": null,
            "width": null
          }
        },
        "bfa967e6d0e1422d94e55f4ad27820b4": {
          "model_module": "@jupyter-widgets/controls",
          "model_name": "ProgressStyleModel",
          "model_module_version": "1.5.0",
          "state": {
            "_model_module": "@jupyter-widgets/controls",
            "_model_module_version": "1.5.0",
            "_model_name": "ProgressStyleModel",
            "_view_count": null,
            "_view_module": "@jupyter-widgets/base",
            "_view_module_version": "1.2.0",
            "_view_name": "StyleView",
            "bar_color": null,
            "description_width": ""
          }
        },
        "1138c732fbde40b5a9a0bddc6958e195": {
          "model_module": "@jupyter-widgets/base",
          "model_name": "LayoutModel",
          "model_module_version": "1.2.0",
          "state": {
            "_model_module": "@jupyter-widgets/base",
            "_model_module_version": "1.2.0",
            "_model_name": "LayoutModel",
            "_view_count": null,
            "_view_module": "@jupyter-widgets/base",
            "_view_module_version": "1.2.0",
            "_view_name": "LayoutView",
            "align_content": null,
            "align_items": null,
            "align_self": null,
            "border": null,
            "bottom": null,
            "display": null,
            "flex": null,
            "flex_flow": null,
            "grid_area": null,
            "grid_auto_columns": null,
            "grid_auto_flow": null,
            "grid_auto_rows": null,
            "grid_column": null,
            "grid_gap": null,
            "grid_row": null,
            "grid_template_areas": null,
            "grid_template_columns": null,
            "grid_template_rows": null,
            "height": null,
            "justify_content": null,
            "justify_items": null,
            "left": null,
            "margin": null,
            "max_height": null,
            "max_width": null,
            "min_height": null,
            "min_width": null,
            "object_fit": null,
            "object_position": null,
            "order": null,
            "overflow": null,
            "overflow_x": null,
            "overflow_y": null,
            "padding": null,
            "right": null,
            "top": null,
            "visibility": null,
            "width": null
          }
        },
        "2215b269d5644c14b76335c848b14a41": {
          "model_module": "@jupyter-widgets/controls",
          "model_name": "DescriptionStyleModel",
          "model_module_version": "1.5.0",
          "state": {
            "_model_module": "@jupyter-widgets/controls",
            "_model_module_version": "1.5.0",
            "_model_name": "DescriptionStyleModel",
            "_view_count": null,
            "_view_module": "@jupyter-widgets/base",
            "_view_module_version": "1.2.0",
            "_view_name": "StyleView",
            "description_width": ""
          }
        },
        "e52996324a3c4a3eaf88ee788ce08ac4": {
          "model_module": "@jupyter-widgets/controls",
          "model_name": "HBoxModel",
          "model_module_version": "1.5.0",
          "state": {
            "_dom_classes": [],
            "_model_module": "@jupyter-widgets/controls",
            "_model_module_version": "1.5.0",
            "_model_name": "HBoxModel",
            "_view_count": null,
            "_view_module": "@jupyter-widgets/controls",
            "_view_module_version": "1.5.0",
            "_view_name": "HBoxView",
            "box_style": "",
            "children": [
              "IPY_MODEL_8fbe9ed8b2734702bfbe46f2109db04e",
              "IPY_MODEL_28bb3becc86543bbaf8be4ad8bb5e25d",
              "IPY_MODEL_a40179ff3abe4321b7a24cbd232bef68"
            ],
            "layout": "IPY_MODEL_9a741b9bcc7f48fdb4205d84b8af1f64"
          }
        },
        "8fbe9ed8b2734702bfbe46f2109db04e": {
          "model_module": "@jupyter-widgets/controls",
          "model_name": "HTMLModel",
          "model_module_version": "1.5.0",
          "state": {
            "_dom_classes": [],
            "_model_module": "@jupyter-widgets/controls",
            "_model_module_version": "1.5.0",
            "_model_name": "HTMLModel",
            "_view_count": null,
            "_view_module": "@jupyter-widgets/controls",
            "_view_module_version": "1.5.0",
            "_view_name": "HTMLView",
            "description": "",
            "description_tooltip": null,
            "layout": "IPY_MODEL_2586afe409e848499881fb8a35d2ab96",
            "placeholder": "​",
            "style": "IPY_MODEL_49d187d27cbd46219f679ee8dfe8e739",
            "value": "100%"
          }
        },
        "28bb3becc86543bbaf8be4ad8bb5e25d": {
          "model_module": "@jupyter-widgets/controls",
          "model_name": "FloatProgressModel",
          "model_module_version": "1.5.0",
          "state": {
            "_dom_classes": [],
            "_model_module": "@jupyter-widgets/controls",
            "_model_module_version": "1.5.0",
            "_model_name": "FloatProgressModel",
            "_view_count": null,
            "_view_module": "@jupyter-widgets/controls",
            "_view_module_version": "1.5.0",
            "_view_name": "ProgressView",
            "bar_style": "success",
            "description": "",
            "description_tooltip": null,
            "layout": "IPY_MODEL_498137db8eed43a0885a7e8aa90515a1",
            "max": 5148,
            "min": 0,
            "orientation": "horizontal",
            "style": "IPY_MODEL_6885492b329e482096e16738350a60cc",
            "value": 5148
          }
        },
        "a40179ff3abe4321b7a24cbd232bef68": {
          "model_module": "@jupyter-widgets/controls",
          "model_name": "HTMLModel",
          "model_module_version": "1.5.0",
          "state": {
            "_dom_classes": [],
            "_model_module": "@jupyter-widgets/controls",
            "_model_module_version": "1.5.0",
            "_model_name": "HTMLModel",
            "_view_count": null,
            "_view_module": "@jupyter-widgets/controls",
            "_view_module_version": "1.5.0",
            "_view_name": "HTMLView",
            "description": "",
            "description_tooltip": null,
            "layout": "IPY_MODEL_7537e9b044b94f1f98bddf733d680fd1",
            "placeholder": "​",
            "style": "IPY_MODEL_31f2e8428ad14b6fac76ea86c7ca7985",
            "value": " 5148/5148 [00:00&lt;00:00, 66981.87it/s]"
          }
        },
        "9a741b9bcc7f48fdb4205d84b8af1f64": {
          "model_module": "@jupyter-widgets/base",
          "model_name": "LayoutModel",
          "model_module_version": "1.2.0",
          "state": {
            "_model_module": "@jupyter-widgets/base",
            "_model_module_version": "1.2.0",
            "_model_name": "LayoutModel",
            "_view_count": null,
            "_view_module": "@jupyter-widgets/base",
            "_view_module_version": "1.2.0",
            "_view_name": "LayoutView",
            "align_content": null,
            "align_items": null,
            "align_self": null,
            "border": null,
            "bottom": null,
            "display": null,
            "flex": null,
            "flex_flow": null,
            "grid_area": null,
            "grid_auto_columns": null,
            "grid_auto_flow": null,
            "grid_auto_rows": null,
            "grid_column": null,
            "grid_gap": null,
            "grid_row": null,
            "grid_template_areas": null,
            "grid_template_columns": null,
            "grid_template_rows": null,
            "height": null,
            "justify_content": null,
            "justify_items": null,
            "left": null,
            "margin": null,
            "max_height": null,
            "max_width": null,
            "min_height": null,
            "min_width": null,
            "object_fit": null,
            "object_position": null,
            "order": null,
            "overflow": null,
            "overflow_x": null,
            "overflow_y": null,
            "padding": null,
            "right": null,
            "top": null,
            "visibility": null,
            "width": null
          }
        },
        "2586afe409e848499881fb8a35d2ab96": {
          "model_module": "@jupyter-widgets/base",
          "model_name": "LayoutModel",
          "model_module_version": "1.2.0",
          "state": {
            "_model_module": "@jupyter-widgets/base",
            "_model_module_version": "1.2.0",
            "_model_name": "LayoutModel",
            "_view_count": null,
            "_view_module": "@jupyter-widgets/base",
            "_view_module_version": "1.2.0",
            "_view_name": "LayoutView",
            "align_content": null,
            "align_items": null,
            "align_self": null,
            "border": null,
            "bottom": null,
            "display": null,
            "flex": null,
            "flex_flow": null,
            "grid_area": null,
            "grid_auto_columns": null,
            "grid_auto_flow": null,
            "grid_auto_rows": null,
            "grid_column": null,
            "grid_gap": null,
            "grid_row": null,
            "grid_template_areas": null,
            "grid_template_columns": null,
            "grid_template_rows": null,
            "height": null,
            "justify_content": null,
            "justify_items": null,
            "left": null,
            "margin": null,
            "max_height": null,
            "max_width": null,
            "min_height": null,
            "min_width": null,
            "object_fit": null,
            "object_position": null,
            "order": null,
            "overflow": null,
            "overflow_x": null,
            "overflow_y": null,
            "padding": null,
            "right": null,
            "top": null,
            "visibility": null,
            "width": null
          }
        },
        "49d187d27cbd46219f679ee8dfe8e739": {
          "model_module": "@jupyter-widgets/controls",
          "model_name": "DescriptionStyleModel",
          "model_module_version": "1.5.0",
          "state": {
            "_model_module": "@jupyter-widgets/controls",
            "_model_module_version": "1.5.0",
            "_model_name": "DescriptionStyleModel",
            "_view_count": null,
            "_view_module": "@jupyter-widgets/base",
            "_view_module_version": "1.2.0",
            "_view_name": "StyleView",
            "description_width": ""
          }
        },
        "498137db8eed43a0885a7e8aa90515a1": {
          "model_module": "@jupyter-widgets/base",
          "model_name": "LayoutModel",
          "model_module_version": "1.2.0",
          "state": {
            "_model_module": "@jupyter-widgets/base",
            "_model_module_version": "1.2.0",
            "_model_name": "LayoutModel",
            "_view_count": null,
            "_view_module": "@jupyter-widgets/base",
            "_view_module_version": "1.2.0",
            "_view_name": "LayoutView",
            "align_content": null,
            "align_items": null,
            "align_self": null,
            "border": null,
            "bottom": null,
            "display": null,
            "flex": null,
            "flex_flow": null,
            "grid_area": null,
            "grid_auto_columns": null,
            "grid_auto_flow": null,
            "grid_auto_rows": null,
            "grid_column": null,
            "grid_gap": null,
            "grid_row": null,
            "grid_template_areas": null,
            "grid_template_columns": null,
            "grid_template_rows": null,
            "height": null,
            "justify_content": null,
            "justify_items": null,
            "left": null,
            "margin": null,
            "max_height": null,
            "max_width": null,
            "min_height": null,
            "min_width": null,
            "object_fit": null,
            "object_position": null,
            "order": null,
            "overflow": null,
            "overflow_x": null,
            "overflow_y": null,
            "padding": null,
            "right": null,
            "top": null,
            "visibility": null,
            "width": null
          }
        },
        "6885492b329e482096e16738350a60cc": {
          "model_module": "@jupyter-widgets/controls",
          "model_name": "ProgressStyleModel",
          "model_module_version": "1.5.0",
          "state": {
            "_model_module": "@jupyter-widgets/controls",
            "_model_module_version": "1.5.0",
            "_model_name": "ProgressStyleModel",
            "_view_count": null,
            "_view_module": "@jupyter-widgets/base",
            "_view_module_version": "1.2.0",
            "_view_name": "StyleView",
            "bar_color": null,
            "description_width": ""
          }
        },
        "7537e9b044b94f1f98bddf733d680fd1": {
          "model_module": "@jupyter-widgets/base",
          "model_name": "LayoutModel",
          "model_module_version": "1.2.0",
          "state": {
            "_model_module": "@jupyter-widgets/base",
            "_model_module_version": "1.2.0",
            "_model_name": "LayoutModel",
            "_view_count": null,
            "_view_module": "@jupyter-widgets/base",
            "_view_module_version": "1.2.0",
            "_view_name": "LayoutView",
            "align_content": null,
            "align_items": null,
            "align_self": null,
            "border": null,
            "bottom": null,
            "display": null,
            "flex": null,
            "flex_flow": null,
            "grid_area": null,
            "grid_auto_columns": null,
            "grid_auto_flow": null,
            "grid_auto_rows": null,
            "grid_column": null,
            "grid_gap": null,
            "grid_row": null,
            "grid_template_areas": null,
            "grid_template_columns": null,
            "grid_template_rows": null,
            "height": null,
            "justify_content": null,
            "justify_items": null,
            "left": null,
            "margin": null,
            "max_height": null,
            "max_width": null,
            "min_height": null,
            "min_width": null,
            "object_fit": null,
            "object_position": null,
            "order": null,
            "overflow": null,
            "overflow_x": null,
            "overflow_y": null,
            "padding": null,
            "right": null,
            "top": null,
            "visibility": null,
            "width": null
          }
        },
        "31f2e8428ad14b6fac76ea86c7ca7985": {
          "model_module": "@jupyter-widgets/controls",
          "model_name": "DescriptionStyleModel",
          "model_module_version": "1.5.0",
          "state": {
            "_model_module": "@jupyter-widgets/controls",
            "_model_module_version": "1.5.0",
            "_model_name": "DescriptionStyleModel",
            "_view_count": null,
            "_view_module": "@jupyter-widgets/base",
            "_view_module_version": "1.2.0",
            "_view_name": "StyleView",
            "description_width": ""
          }
        }
      }
    }
  },
  "nbformat": 4,
  "nbformat_minor": 0
}